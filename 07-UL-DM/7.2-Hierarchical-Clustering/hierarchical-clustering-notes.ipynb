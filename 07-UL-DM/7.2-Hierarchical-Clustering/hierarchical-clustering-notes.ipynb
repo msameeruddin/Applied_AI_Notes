{
 "cells": [
  {
   "cell_type": "markdown",
   "metadata": {},
   "source": [
    "### Agglomerative & Divisive\n",
    "\n",
    "Dendograms"
   ]
  },
  {
   "cell_type": "markdown",
   "metadata": {},
   "source": [
    "* In data mining and statistics, hierarchical clustering (also called hierarchical cluster analysis or HCA) is a method of cluster analysis which seeks to build a hierarchy of clusters.\n",
    "\n",
    "* There are 2 types of hierarchical clustering :\n",
    "\n",
    "    - **Agglomerative** → This is a **\"bottom-up\"** approach: each observation starts in its own cluster, and pairs of clusters are merged as one moves up the hierarchy.\n",
    "    \n",
    "    - **Divisive** → This is a **\"top-down\"** approach: all observations start in one cluster, and splits are performed recursively as one moves down the hierarchy.\n",
    "\n",
    "<img src=\"https://miro.medium.com/max/1400/1*ICdqpcL62G1q_kIlVszrrg.png\">\n",
    "\n",
    "**Credits** - Image from Internet"
   ]
  },
  {
   "cell_type": "markdown",
   "metadata": {},
   "source": [
    "### Agglomerative Clustering\n",
    "\n",
    "Algorithmic approach → https://cs.wmich.edu/alfuqaha/summer14/cs6530/lectures/ClusteringAnalysis.pdf"
   ]
  },
  {
   "cell_type": "markdown",
   "metadata": {},
   "source": [
    "* Compute the proximity/distance/similiarity matrix to all the cluster w.r.t each cluster.\n",
    "\n",
    "* Let each data point be a cluster.\n",
    "\n",
    "* Repeat\n",
    "    \n",
    "    - Merge the two clusters whose proximity is minimal.\n",
    "    - Update the proximity matrix\n",
    "\n",
    "* Until only one single cluster remains.\n",
    "\n",
    "**Similarity distance between two clusters** $C_1$ **and** $C_2$\n",
    "\n",
    "* Min approach\n",
    "\n",
    "$$\\text{Sim}(C_1, C_2) = \\text{min} \\big[\\text{Sim}(p_i, p_j)\\big] \\ \\text{such that} \\ p_i \\in C_1; p_j \\in C_2$$\n",
    "\n",
    "* Max approach\n",
    "\n",
    "$$\\text{Sim}(C_1, C_2) = \\text{max} \\big[\\text{Sim}(p_i, p_j)\\big] \\ \\text{such that} \\ p_i \\in C_1; p_j \\in C_2$$\n",
    "\n",
    "* Group Average approach\n",
    "\n",
    "$$\\text{Sim}(C_1, C_2) = \\frac{1}{|C_1|*|C_2|} \\bigg[\\sum_{p_i \\in C_1; p_2 \\in C_2} \\text{Sim}(p_i, p_2)\\bigg]$$\n",
    "\n",
    "* Centroid Distance approach\n",
    "\n",
    "    - find the centroid of $C_1$\n",
    "    - find the centroid of $C_2$\n",
    "    - find the distance between them"
   ]
  },
  {
   "cell_type": "markdown",
   "metadata": {},
   "source": [
    "### Time & Space Complexity"
   ]
  },
  {
   "cell_type": "markdown",
   "metadata": {},
   "source": [
    "* **Space** → $O(n^2)$\n",
    "    - $n$ → total number of points\n",
    "    - $n^2$ → similarity matrix\n",
    "\n",
    "* **Time** → $O(n^3$\n",
    "    - utmost $n$ iterations\n",
    "    - for each iteration, we need to update the similarity matrix"
   ]
  },
  {
   "cell_type": "markdown",
   "metadata": {},
   "source": [
    "### Limitations"
   ]
  },
  {
   "cell_type": "markdown",
   "metadata": {},
   "source": [
    "* No mathematical objective is there for solving the problem unlike `k`-Means.\n",
    "\n",
    "* Approaches\n",
    "    - Min → problems with outliers\n",
    "    - Max → problems with large cluster (breaks); cannot accomodate different sized clusters\n",
    "\n",
    "* Terrible time and space complexities."
   ]
  }
 ],
 "metadata": {
  "kernelspec": {
   "display_name": "Python 3",
   "language": "python",
   "name": "python3"
  },
  "language_info": {
   "codemirror_mode": {
    "name": "ipython",
    "version": 3
   },
   "file_extension": ".py",
   "mimetype": "text/x-python",
   "name": "python",
   "nbconvert_exporter": "python",
   "pygments_lexer": "ipython3",
   "version": "3.8.4"
  },
  "varInspector": {
   "cols": {
    "lenName": 16,
    "lenType": 16,
    "lenVar": 40
   },
   "kernels_config": {
    "python": {
     "delete_cmd_postfix": "",
     "delete_cmd_prefix": "del ",
     "library": "var_list.py",
     "varRefreshCmd": "print(var_dic_list())"
    },
    "r": {
     "delete_cmd_postfix": ") ",
     "delete_cmd_prefix": "rm(",
     "library": "var_list.r",
     "varRefreshCmd": "cat(var_dic_list()) "
    }
   },
   "types_to_exclude": [
    "module",
    "function",
    "builtin_function_or_method",
    "instance",
    "_Feature"
   ],
   "window_display": false
  }
 },
 "nbformat": 4,
 "nbformat_minor": 4
}
