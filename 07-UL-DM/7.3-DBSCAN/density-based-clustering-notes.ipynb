{
 "cells": [
  {
   "cell_type": "markdown",
   "metadata": {},
   "source": [
    "### DBSCAN"
   ]
  },
  {
   "cell_type": "markdown",
   "metadata": {},
   "source": [
    "* **D**ensity **B**ased **S**patial **C**lustering of **A**pplications with **N**oise (DBSCAN)\n",
    "\n",
    "* It is a density based non-parametric algorithm where, given a set of points in some space, DBSCAN groups the points together that are closely packed by marking as outliers points that lie alone in a low density regions.\n",
    "\n",
    "* DBSCAN is one of the most common clustering algorithms and also most cited in scientific literature.\n",
    "\n",
    "<img src=\"https://media.geeksforgeeks.org/wp-content/uploads/PicsArt_11-17-08.07.10-300x300.jpg\">\n",
    "\n",
    "**Credits** - Image from Internet"
   ]
  },
  {
   "cell_type": "markdown",
   "metadata": {},
   "source": [
    "### MinPts & Eps: Density"
   ]
  },
  {
   "cell_type": "markdown",
   "metadata": {},
   "source": [
    "* `MinPts` and `Eps` are the hyperparameters and helpful to measure the density.\n",
    "\n",
    "* **Density at point `P`** → total number of points within a hypersphere (circle in 2D) of radius `Eps` around `P`.\n",
    "\n",
    "* **Dense region** → a hypersphere (circle in 2D) of radius `Eps` that contains atleast `MinPts` points.\n",
    "\n",
    "* **Sparse region** → a hypersphere (circle in 2D) of radius `Eps` that containds less than `MinPts` points."
   ]
  },
  {
   "cell_type": "markdown",
   "metadata": {},
   "source": [
    "### Core, Border, and Noise\n",
    "\n",
    "https://cs.wmich.edu/alfuqaha/summer14/cs6530/lectures/ClusteringAnalysis.pdf"
   ]
  },
  {
   "cell_type": "markdown",
   "metadata": {},
   "source": [
    "* Given a set of point $D = \\{x_i\\}$, `MinPts`, aand `Eps`; we can easily determine whether a point is core point or border point or a noise point.\n",
    "\n",
    "* **Core point** → point `P` is said to be a core point if `P` has greater or equal to `MinPts` points in an `Eps` radius around it.\n",
    "    - A core point always belongs to a dense region.\n",
    "\n",
    "* **Border point** → point `P` is said to be a border point iff\n",
    "    - `P` itself is not a core point\n",
    "    - `P` belongs to a neighborhood of a core point `Q`\n",
    "    - $\\text{dist}(P, Q) \\leq \\text{Eps}$\n",
    "\n",
    "* **Noise point** → any point which neither a core point nor a border point"
   ]
  },
  {
   "cell_type": "markdown",
   "metadata": {},
   "source": [
    "* **Density Edge**\n",
    "    - edge represents connection\n",
    "    - if `P` and `Q` are core points and the dist(`P`, `Q`) is less than or equal to `Eps`, then we connect `P` and `Q` with an edge. Therefore, it is known as a density edge.\n",
    "\n",
    "* **Density Connected Points**\n",
    "    - if `P` and `Q` are core points and there exists other points such as `P1`, `P2`, `P3` where there is a **density edge** between `P-P1`, `P1-P2`, `P3-Q`; then `P` and `Q` are said to be density connected points."
   ]
  },
  {
   "cell_type": "markdown",
   "metadata": {},
   "source": [
    "### DBSCAN Algorithm"
   ]
  },
  {
   "cell_type": "markdown",
   "metadata": {},
   "source": [
    "1. $\\forall x_i \\in D$ label each point if it is core point or border point or noise point.\n",
    "    - Range Query (**vvimp**)\n",
    "\n",
    "2. Remove all the noise points from the data. Noise points belong to sparse regions.\n",
    "\n",
    "3. For each point `P` that is not assigned any cluster (**Repeat**).\n",
    "    - create a new cluster with `P`\n",
    "    - add all the points that are density connected to `P` into this new cluster\n",
    "\n",
    "4. Take each border point and assign it to nearest core point's cluster."
   ]
  },
  {
   "cell_type": "markdown",
   "metadata": {},
   "source": [
    "### Hyperparameters"
   ]
  },
  {
   "cell_type": "markdown",
   "metadata": {},
   "source": [
    "* **MinPts**\n",
    "    - rule of thumb → `MinPts` $\\geq d+1$; where $d$ is dimensionality\n",
    "    - typically, `MinPts` should be roughly equal to $2d$\n",
    "    - if the dataset has more noisy points, `MinPts` should be larger value and thus it removes noisy points\n",
    "    - `MinPts` are often chosen by a domain expert\n",
    "\n",
    "* **Eps**\n",
    "    - let's assume `MinPts` is 4\n",
    "    - find $d_i$ where is distance between $x_i$ and the fourth nearest points\n",
    "    - sort $x_i$ and $d_i$ in increasing order and plot the daṭa\n",
    "    - by using the elbow / knee method, determine `Eps`\n",
    "    - if $d_i$ is high, then the chance for $x_i$ to be a noisy point is high"
   ]
  },
  {
   "cell_type": "markdown",
   "metadata": {},
   "source": [
    "### Merits & De-Merits\n",
    "\n",
    "https://en.wikipedia.org/wiki/DBSCAN#Advantages"
   ]
  },
  {
   "cell_type": "markdown",
   "metadata": {},
   "source": [
    "**Merits**\n",
    "\n",
    "* Resistant to noise.\n",
    "* Can handle clusters of different sizes and shapes.\n",
    "* Robust to outliers.\n",
    "\n",
    "**De-Merits**\n",
    "\n",
    "* Varying densities.\n",
    "* High-dimensional data.\n",
    "* Sensitive to change in the hyperparameters."
   ]
  },
  {
   "cell_type": "markdown",
   "metadata": {},
   "source": [
    "### Time & Space Complexity"
   ]
  },
  {
   "cell_type": "markdown",
   "metadata": {},
   "source": [
    "* **Time Complexity** - $O(n \\log(n))$\n",
    "    - $\\log(n)$ → to execute the Range Query\n",
    "    - $n$ → Range Query is executed `n` times\n",
    "\n",
    "* **Space Complexity** - $O(n)$"
   ]
  },
  {
   "cell_type": "code",
   "execution_count": null,
   "metadata": {},
   "outputs": [],
   "source": []
  }
 ],
 "metadata": {
  "kernelspec": {
   "display_name": "Python 3",
   "language": "python",
   "name": "python3"
  },
  "language_info": {
   "codemirror_mode": {
    "name": "ipython",
    "version": 3
   },
   "file_extension": ".py",
   "mimetype": "text/x-python",
   "name": "python",
   "nbconvert_exporter": "python",
   "pygments_lexer": "ipython3",
   "version": "3.8.4"
  },
  "varInspector": {
   "cols": {
    "lenName": 16,
    "lenType": 16,
    "lenVar": 40
   },
   "kernels_config": {
    "python": {
     "delete_cmd_postfix": "",
     "delete_cmd_prefix": "del ",
     "library": "var_list.py",
     "varRefreshCmd": "print(var_dic_list())"
    },
    "r": {
     "delete_cmd_postfix": ") ",
     "delete_cmd_prefix": "rm(",
     "library": "var_list.r",
     "varRefreshCmd": "cat(var_dic_list()) "
    }
   },
   "types_to_exclude": [
    "module",
    "function",
    "builtin_function_or_method",
    "instance",
    "_Feature"
   ],
   "window_display": false
  }
 },
 "nbformat": 4,
 "nbformat_minor": 4
}
