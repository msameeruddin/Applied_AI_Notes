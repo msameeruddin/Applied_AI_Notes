{
 "cells": [
  {
   "cell_type": "markdown",
   "metadata": {},
   "source": [
    "### Linear regression"
   ]
  },
  {
   "cell_type": "markdown",
   "metadata": {},
   "source": [
    "* Regression is a process of predicting the dependant variable based on the independant variable.\n",
    "* Dependant variable is always considered as $Y$.\n",
    "* Independant variable is always considered as $x$.\n",
    "* For doing regression analysis, there needs to be a strong relationship between $x$ and $Y$.\n",
    "* Linear regression is often referred to as OLS (Ordinary Least Squares) or LLS (Linear Least Squares).\n",
    "\n",
    "**Example** - Predicting the expenses of an employee based on his/her income.\n",
    "\n",
    "* Here, \n",
    "    - expenses are dependant variable → $Y$\n",
    "    - income is independant variable → $x$\n",
    "\n",
    "\n",
    "**How can we predict $Y$ from $x$?**\n",
    "\n",
    "To predict $Y$ from $x$, we follow a mathematical model - \n",
    "\n",
    "$$Y = bx + a$$\n",
    "\n",
    "* Here,\n",
    "    - $b$ → Co-efficient parameter\n",
    "    - $a$ → Bias parameter\n",
    "\n",
    "* Other terms\n",
    "    - $\\hat Y$ ($Y$ hat) → Predicted $Y$ value\n",
    "    - $Y$ → Actual value\n",
    "\n",
    "**What is Error?**\n",
    "\n",
    "* The distance between $\\hat Y$ and $Y$ is called Error.\n",
    "* Our aim while building the Regression model is to minimize the sum of sqaures erros and therefore it is called as `sqaured-loss`.\n",
    "\n",
    "<br>\n",
    "<img src=\"https://qph.fs.quoracdn.net/main-qimg-3b0d7655ac76edf1241f97015ee755b4\">\n",
    "<br>\n",
    "\n",
    "**Credits** - Image from Internet"
   ]
  },
  {
   "cell_type": "markdown",
   "metadata": {},
   "source": [
    "### Multiple Linear Regression model"
   ]
  },
  {
   "cell_type": "markdown",
   "metadata": {},
   "source": [
    "Dependant variable is depends on mutiple Independant variables.\n",
    "\n",
    "**Model** - \n",
    "\n",
    "$$Y = b_1x_1 + b_2x_2 + b_3x_3 + \\dots + b_nx_n + a$$\n",
    "\n",
    "* $x_1$, $x_2$, $x_3$, $\\dots$, $x_n$ are independant variables.\n",
    "* $b_1$, $b_2$, $b_3$, $\\dots$, $b_n$ are coefficient variables.\n",
    "* $a$ is bias variable.\n",
    "\n",
    "The main aim of any machine learning model is to minimize the error."
   ]
  },
  {
   "cell_type": "markdown",
   "metadata": {},
   "source": [
    "### Terminology"
   ]
  },
  {
   "cell_type": "markdown",
   "metadata": {},
   "source": [
    "1. Linear regression with $L2$ regularization is also referred to as `Ridge Regression`.\n",
    "\n",
    "2. Linear regression with $L1$ regularization is also referred to as `Lasso Regression`.\n",
    "\n",
    "3. Linear regression with $L1+L2$ regularization is also referred to as `ElasticNet Regression`."
   ]
  },
  {
   "cell_type": "markdown",
   "metadata": {},
   "source": [
    "> ### Ouliers do impact the model significantly. Cleaning up the outliers is must."
   ]
  }
 ],
 "metadata": {
  "kernelspec": {
   "display_name": "Python 3",
   "language": "python",
   "name": "python3"
  },
  "language_info": {
   "codemirror_mode": {
    "name": "ipython",
    "version": 3
   },
   "file_extension": ".py",
   "mimetype": "text/x-python",
   "name": "python",
   "nbconvert_exporter": "python",
   "pygments_lexer": "ipython3",
   "version": "3.8.4"
  }
 },
 "nbformat": 4,
 "nbformat_minor": 4
}
