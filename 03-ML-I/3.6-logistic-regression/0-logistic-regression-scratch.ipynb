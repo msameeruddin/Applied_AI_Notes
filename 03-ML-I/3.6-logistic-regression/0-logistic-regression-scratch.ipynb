{
 "cells": [
  {
   "cell_type": "markdown",
   "metadata": {},
   "source": [
    "### `import` Packages"
   ]
  },
  {
   "cell_type": "code",
   "execution_count": 1,
   "metadata": {},
   "outputs": [],
   "source": [
    "import warnings\n",
    "warnings.filterwarnings('ignore')\n",
    "\n",
    "import numpy as np\n",
    "import pandas as pd\n",
    "import plotly.graph_objects as go\n",
    "\n",
    "from tqdm import tqdm\n",
    "from matplotlib import pyplot as plt\n",
    "from sklearn.datasets import make_classification"
   ]
  },
  {
   "cell_type": "markdown",
   "metadata": {},
   "source": [
    "### Data Preparation"
   ]
  },
  {
   "cell_type": "code",
   "execution_count": 2,
   "metadata": {},
   "outputs": [],
   "source": [
    "X, y = make_classification(\n",
    "    n_samples=50000, \n",
    "    n_features=15, \n",
    "    n_informative=10, \n",
    "    n_redundant=5,\n",
    "    n_classes=2, \n",
    "    weights=[0.7], \n",
    "    class_sep=0.7, \n",
    "    random_state=15\n",
    ")"
   ]
  },
  {
   "cell_type": "code",
   "execution_count": 3,
   "metadata": {},
   "outputs": [],
   "source": [
    "def standardize_data_features(data, in_numpy=False):\n",
    "    data_copy = data.copy()\n",
    "    \n",
    "    for col in data_copy.columns:\n",
    "        mean_val = np.mean(data_copy[col])\n",
    "        std_dev_val = np.std(data_copy[col])\n",
    "        data_copy[col] = [(dval - mean_val)/std_dev_val for dval in data_copy[col]]\n",
    "    \n",
    "    if not in_numpy:\n",
    "        return data_copy\n",
    "    return data_copy.to_numpy()"
   ]
  },
  {
   "cell_type": "code",
   "execution_count": 4,
   "metadata": {},
   "outputs": [],
   "source": [
    "d = {'col{}'.format(i + 1) : X[:,i] for i in range(len(X[0]))}\n",
    "df = pd.DataFrame(d)\n",
    "df = standardize_data_features(data=df)\n",
    "df['label'] = y"
   ]
  },
  {
   "cell_type": "code",
   "execution_count": 5,
   "metadata": {},
   "outputs": [
    {
     "data": {
      "text/html": [
       "<div>\n",
       "<style scoped>\n",
       "    .dataframe tbody tr th:only-of-type {\n",
       "        vertical-align: middle;\n",
       "    }\n",
       "\n",
       "    .dataframe tbody tr th {\n",
       "        vertical-align: top;\n",
       "    }\n",
       "\n",
       "    .dataframe thead th {\n",
       "        text-align: right;\n",
       "    }\n",
       "</style>\n",
       "<table border=\"1\" class=\"dataframe\">\n",
       "  <thead>\n",
       "    <tr style=\"text-align: right;\">\n",
       "      <th></th>\n",
       "      <th>col1</th>\n",
       "      <th>col2</th>\n",
       "      <th>col3</th>\n",
       "      <th>col4</th>\n",
       "      <th>col5</th>\n",
       "      <th>col6</th>\n",
       "      <th>col7</th>\n",
       "      <th>col8</th>\n",
       "      <th>col9</th>\n",
       "      <th>col10</th>\n",
       "      <th>col11</th>\n",
       "      <th>col12</th>\n",
       "      <th>col13</th>\n",
       "      <th>col14</th>\n",
       "      <th>col15</th>\n",
       "      <th>label</th>\n",
       "    </tr>\n",
       "  </thead>\n",
       "  <tbody>\n",
       "    <tr>\n",
       "      <th>0</th>\n",
       "      <td>0.425465</td>\n",
       "      <td>-0.617063</td>\n",
       "      <td>0.106591</td>\n",
       "      <td>-0.886659</td>\n",
       "      <td>-0.408385</td>\n",
       "      <td>-1.568556</td>\n",
       "      <td>0.246499</td>\n",
       "      <td>0.088654</td>\n",
       "      <td>-0.488793</td>\n",
       "      <td>0.583882</td>\n",
       "      <td>-0.097580</td>\n",
       "      <td>-0.324468</td>\n",
       "      <td>-0.517326</td>\n",
       "      <td>-0.050990</td>\n",
       "      <td>-0.362767</td>\n",
       "      <td>0</td>\n",
       "    </tr>\n",
       "    <tr>\n",
       "      <th>1</th>\n",
       "      <td>-0.941472</td>\n",
       "      <td>-1.409569</td>\n",
       "      <td>0.040456</td>\n",
       "      <td>0.764539</td>\n",
       "      <td>0.696683</td>\n",
       "      <td>0.147909</td>\n",
       "      <td>1.565954</td>\n",
       "      <td>0.983911</td>\n",
       "      <td>1.252940</td>\n",
       "      <td>-0.143827</td>\n",
       "      <td>-2.225929</td>\n",
       "      <td>1.112467</td>\n",
       "      <td>-1.399473</td>\n",
       "      <td>0.516270</td>\n",
       "      <td>1.220085</td>\n",
       "      <td>0</td>\n",
       "    </tr>\n",
       "    <tr>\n",
       "      <th>2</th>\n",
       "      <td>1.961146</td>\n",
       "      <td>-0.254073</td>\n",
       "      <td>-1.418279</td>\n",
       "      <td>1.320003</td>\n",
       "      <td>-1.267539</td>\n",
       "      <td>-1.546825</td>\n",
       "      <td>0.019384</td>\n",
       "      <td>-1.495960</td>\n",
       "      <td>-2.067026</td>\n",
       "      <td>0.658408</td>\n",
       "      <td>1.399561</td>\n",
       "      <td>0.229968</td>\n",
       "      <td>-0.693135</td>\n",
       "      <td>-0.813814</td>\n",
       "      <td>-0.162900</td>\n",
       "      <td>0</td>\n",
       "    </tr>\n",
       "    <tr>\n",
       "      <th>3</th>\n",
       "      <td>0.792113</td>\n",
       "      <td>-0.208176</td>\n",
       "      <td>0.880239</td>\n",
       "      <td>0.456642</td>\n",
       "      <td>-0.306181</td>\n",
       "      <td>-0.183526</td>\n",
       "      <td>2.118102</td>\n",
       "      <td>0.457845</td>\n",
       "      <td>1.257053</td>\n",
       "      <td>0.205774</td>\n",
       "      <td>-1.671956</td>\n",
       "      <td>-0.043130</td>\n",
       "      <td>-1.012720</td>\n",
       "      <td>1.508320</td>\n",
       "      <td>0.010328</td>\n",
       "      <td>0</td>\n",
       "    </tr>\n",
       "    <tr>\n",
       "      <th>4</th>\n",
       "      <td>0.002884</td>\n",
       "      <td>-1.195057</td>\n",
       "      <td>-1.140043</td>\n",
       "      <td>0.914591</td>\n",
       "      <td>0.429851</td>\n",
       "      <td>-0.157176</td>\n",
       "      <td>0.788740</td>\n",
       "      <td>-0.897764</td>\n",
       "      <td>-0.563314</td>\n",
       "      <td>-1.147905</td>\n",
       "      <td>-1.179350</td>\n",
       "      <td>1.581530</td>\n",
       "      <td>-0.936562</td>\n",
       "      <td>0.767009</td>\n",
       "      <td>-0.095882</td>\n",
       "      <td>0</td>\n",
       "    </tr>\n",
       "  </tbody>\n",
       "</table>\n",
       "</div>"
      ],
      "text/plain": [
       "       col1      col2      col3      col4      col5      col6      col7  \\\n",
       "0  0.425465 -0.617063  0.106591 -0.886659 -0.408385 -1.568556  0.246499   \n",
       "1 -0.941472 -1.409569  0.040456  0.764539  0.696683  0.147909  1.565954   \n",
       "2  1.961146 -0.254073 -1.418279  1.320003 -1.267539 -1.546825  0.019384   \n",
       "3  0.792113 -0.208176  0.880239  0.456642 -0.306181 -0.183526  2.118102   \n",
       "4  0.002884 -1.195057 -1.140043  0.914591  0.429851 -0.157176  0.788740   \n",
       "\n",
       "       col8      col9     col10     col11     col12     col13     col14  \\\n",
       "0  0.088654 -0.488793  0.583882 -0.097580 -0.324468 -0.517326 -0.050990   \n",
       "1  0.983911  1.252940 -0.143827 -2.225929  1.112467 -1.399473  0.516270   \n",
       "2 -1.495960 -2.067026  0.658408  1.399561  0.229968 -0.693135 -0.813814   \n",
       "3  0.457845  1.257053  0.205774 -1.671956 -0.043130 -1.012720  1.508320   \n",
       "4 -0.897764 -0.563314 -1.147905 -1.179350  1.581530 -0.936562  0.767009   \n",
       "\n",
       "      col15  label  \n",
       "0 -0.362767      0  \n",
       "1  1.220085      0  \n",
       "2 -0.162900      0  \n",
       "3  0.010328      0  \n",
       "4 -0.095882      0  "
      ]
     },
     "execution_count": 5,
     "metadata": {},
     "output_type": "execute_result"
    }
   ],
   "source": [
    "df.head()"
   ]
  },
  {
   "cell_type": "markdown",
   "metadata": {},
   "source": [
    "### Train Test Split"
   ]
  },
  {
   "cell_type": "code",
   "execution_count": 6,
   "metadata": {},
   "outputs": [],
   "source": [
    "def splitter(dframe, percentage=0.8, random_state=True):\n",
    "    \"\"\"\n",
    "    :param DataFrame dframe: Pandas DataFrame\n",
    "    :param float percentage: Percentage value to split the data\n",
    "    :param boolean random_state: True/False\n",
    "    :return: train_df, test_df\n",
    "    \"\"\"\n",
    "    if random_state:\n",
    "        dframe = dframe.sample(frac=1)\n",
    "\n",
    "    thresh = round(len(dframe) * percentage)\n",
    "    train_df = dframe.iloc[:thresh]\n",
    "    test_df = dframe.iloc[thresh:]\n",
    "\n",
    "    return train_df, test_df"
   ]
  },
  {
   "cell_type": "code",
   "execution_count": 7,
   "metadata": {},
   "outputs": [],
   "source": [
    "train_df, test_df = splitter(dframe=df)"
   ]
  },
  {
   "cell_type": "markdown",
   "metadata": {},
   "source": [
    "### Custom Logistic Regression"
   ]
  },
  {
   "cell_type": "code",
   "execution_count": 8,
   "metadata": {},
   "outputs": [],
   "source": [
    "compute_each_loss = lambda yt, yp : (yt*np.log10(yp))+((1-yt)*np.log10(1-yp))"
   ]
  },
  {
   "cell_type": "code",
   "execution_count": 9,
   "metadata": {},
   "outputs": [],
   "source": [
    "class LogisticRegression():\n",
    "    def __init__(self, train_df, test_df, label, lambda_=0.0001, eta_rate=0.0001, n_iters=1000):\n",
    "        self.lambda_ = lambda_\n",
    "        self.eta_rate = eta_rate\n",
    "        self.n_iters = n_iters\n",
    "        \n",
    "        self.X_train, self.y_train = self.split_features_targets(df=train_df, label=label)\n",
    "        self.X_test, self.y_test = self.split_features_targets(df=test_df, label=label)\n",
    "        self.X_train = self.X_train.values\n",
    "        self.y_train = self.y_train.values\n",
    "        self.X_test = self.X_test.values\n",
    "        self.y_test = self.y_test.values\n",
    "        self.n_ = len(self.X_train)\n",
    "    \n",
    "    def split_features_targets(self, df, label):\n",
    "        X = df.drop(columns=[label], axis=1)\n",
    "        y = df[label]\n",
    "        return X, y\n",
    "    \n",
    "    def sigmoid(self, z):\n",
    "        return 1 / (1 + np.exp(-z))\n",
    "    \n",
    "    def compute_logloss(self, y_trues, y_preds):\n",
    "        n = len(y_trues)\n",
    "        lloss = [compute_each_loss(yt=yt, yp=yp) for (yt, yp) in zip(y_trues, y_preds)]\n",
    "        return (-1/n) * sum(lloss)\n",
    "    \n",
    "    def diff_params_wb(self, x, y, w, b):\n",
    "        z = np.dot(w.T, x) + b\n",
    "        w_ = (x * (y - self.sigmoid(z=z))) - (w * (self.lambda_ / self.n_))\n",
    "        b_ = (y - self.sigmoid(z=z))\n",
    "        return w_, b_\n",
    "    \n",
    "    def predictor(self, X, w, b):\n",
    "        n = len(X)\n",
    "        preds = []\n",
    "        for i in range(n):\n",
    "            z = np.dot(w, X[i]) + b\n",
    "            preds.append(self.sigmoid(z))\n",
    "        return np.array(preds)\n",
    "    \n",
    "    def find_best_params(self, show_loss_plot=False):\n",
    "        ow = np.zeros_like(a=self.X_train[0])\n",
    "        ob = 0\n",
    "        \n",
    "        lloss_train = []\n",
    "        lloss_test = []\n",
    "        x_vals = []\n",
    "        \n",
    "        for i in tqdm(range(self.n_iters)):\n",
    "            for xv, yv in zip(self.X_train, self.y_train):\n",
    "                w_, b_ = self.diff_params_wb(x=xv, y=yv, w=ow, b=ob)\n",
    "                ow = ((1 - (self.lambda_ * self.eta_rate / self.n_)) * ow) + (self.lambda_ * w_)\n",
    "                ob = ob + (self.lambda_ * b_)\n",
    "            \n",
    "            tr_preds = self.predictor(X=self.X_train, w=ow, b=ob)\n",
    "            tr_lloss = self.compute_logloss(y_trues=self.y_train, y_preds=tr_preds)\n",
    "            te_preds = self.predictor(X=self.X_test, w=ow, b=ob)\n",
    "            te_lloss = self.compute_logloss(y_trues=self.y_test, y_preds=te_preds)\n",
    "            \n",
    "            lloss_train.append(tr_lloss)\n",
    "            lloss_test.append(te_lloss)\n",
    "            x_vals.append(i)\n",
    "        \n",
    "        if show_loss_plot:\n",
    "            plt.title('Training loss and Testing loss')\n",
    "            plt.plot(x_vals, lloss_train, 'o-r', label='Training Loss')\n",
    "            plt.plot(x_vals, lloss_test, 'o-g', label='Testing Loss')\n",
    "            plt.legend()\n",
    "            plt.show()\n",
    "        \n",
    "        return ow, ob\n",
    "    \n",
    "    def predict(self, w, b):\n",
    "        y_preds = []\n",
    "        n = len(self.X_test)\n",
    "        for i in range(n):\n",
    "            z = np.dot(w, self.X_test[i]) + b\n",
    "            yp = self.sigmoid(z=z)\n",
    "            pv = 1 if (yp >= 0.5) else 0\n",
    "            y_preds.append(pv)\n",
    "        return y_preds\n",
    "    \n",
    "    def score(self, preds):\n",
    "        preds = np.array(preds)\n",
    "        if (len(self.y_test) == len(preds)):\n",
    "            non_z = np.count_nonzero(a=np.where((preds == self.y_test), 1, 0))\n",
    "            return non_z / len(preds)\n",
    "        return \"Lengths do not match\""
   ]
  },
  {
   "cell_type": "markdown",
   "metadata": {},
   "source": [
    "### Testing"
   ]
  },
  {
   "cell_type": "code",
   "execution_count": 10,
   "metadata": {},
   "outputs": [],
   "source": [
    "lr = LogisticRegression(train_df=train_df, test_df=test_df, label='label', n_iters=15)"
   ]
  },
  {
   "cell_type": "code",
   "execution_count": 11,
   "metadata": {},
   "outputs": [
    {
     "name": "stderr",
     "output_type": "stream",
     "text": [
      "100%|███████████████████████████████████████████████████████████████████████████████████████████████████████████████████████████████████████████████████████████████████████████████████████████████████████| 15/15 [00:36<00:00,  2.41s/it]\n"
     ]
    },
    {
     "data": {
      "image/png": "[encoded data removed]",
      "text/plain": [
       "<Figure size 432x288 with 1 Axes>"
      ]
     },
     "metadata": {
      "needs_background": "light"
     },
     "output_type": "display_data"
    }
   ],
   "source": [
    "w, b = lr.find_best_params(show_loss_plot=True)"
   ]
  },
  {
   "cell_type": "code",
   "execution_count": 12,
   "metadata": {},
   "outputs": [
    {
     "data": {
      "text/plain": [
       "array([-0.91828963,  0.65273407, -0.08085585,  0.64507706, -0.40059159,\n",
       "        0.95296743, -0.92163054, -0.06559788,  0.41769525,  0.43810187,\n",
       "        0.26098902,  0.04865502, -0.09407813,  0.54129673,  0.07455754])"
      ]
     },
     "execution_count": 12,
     "metadata": {},
     "output_type": "execute_result"
    }
   ],
   "source": [
    "w"
   ]
  },
  {
   "cell_type": "code",
   "execution_count": 13,
   "metadata": {},
   "outputs": [
    {
     "data": {
      "text/plain": [
       "-1.3329452292446695"
      ]
     },
     "execution_count": 13,
     "metadata": {},
     "output_type": "execute_result"
    }
   ],
   "source": [
    "b"
   ]
  },
  {
   "cell_type": "code",
   "execution_count": 14,
   "metadata": {},
   "outputs": [],
   "source": [
    "preds = lr.predict(w=w, b=b)"
   ]
  },
  {
   "cell_type": "code",
   "execution_count": 15,
   "metadata": {},
   "outputs": [
    {
     "data": {
      "text/plain": [
       "0.8241"
      ]
     },
     "execution_count": 15,
     "metadata": {},
     "output_type": "execute_result"
    }
   ],
   "source": [
    "lr.score(preds=preds)"
   ]
  },
  {
   "cell_type": "markdown",
   "metadata": {},
   "source": [
    "### End"
   ]
  }
 ],
 "metadata": {
  "kernelspec": {
   "display_name": "Python 3",
   "language": "python",
   "name": "python3"
  },
  "language_info": {
   "codemirror_mode": {
    "name": "ipython",
    "version": 3
   },
   "file_extension": ".py",
   "mimetype": "text/x-python",
   "name": "python",
   "nbconvert_exporter": "python",
   "pygments_lexer": "ipython3",
   "version": "3.8.4"
  }
 },
 "nbformat": 4,
 "nbformat_minor": 4
}
