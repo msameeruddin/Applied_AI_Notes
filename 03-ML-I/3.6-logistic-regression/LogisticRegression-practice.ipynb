{
 "cells": [
  {
   "cell_type": "code",
   "execution_count": 1,
   "metadata": {},
   "outputs": [],
   "source": [
    "import warnings\n",
    "warnings.filterwarnings('ignore')\n",
    "\n",
    "import numpy as np\n",
    "from sklearn.model_selection import train_test_split\n",
    "from sklearn.model_selection import GridSearchCV\n",
    "from sklearn.datasets import *\n",
    "from sklearn.linear_model import LogisticRegression"
   ]
  },
  {
   "cell_type": "code",
   "execution_count": 2,
   "metadata": {},
   "outputs": [
    {
     "data": {
      "text/plain": [
       "sklearn.utils.Bunch"
      ]
     },
     "execution_count": 2,
     "metadata": {},
     "output_type": "execute_result"
    }
   ],
   "source": [
    "data = load_breast_cancer()\n",
    "type(data)"
   ]
  },
  {
   "cell_type": "code",
   "execution_count": 3,
   "metadata": {},
   "outputs": [],
   "source": [
    "X_train, X_test, y_train, y_test = train_test_split(data.data, data.target, train_size=.9)"
   ]
  },
  {
   "cell_type": "code",
   "execution_count": 4,
   "metadata": {
    "colab": {},
    "colab_type": "code",
    "id": "1nV6GPjnv4Tr",
    "outputId": "f1a21763-9e31-4024-a36b-5b70eba0c3fe"
   },
   "outputs": [
    {
     "name": "stdout",
     "output_type": "stream",
     "text": [
      "LogisticRegression(C=10000)\n",
      "0.9315068493150684\n"
     ]
    }
   ],
   "source": [
    "model = LogisticRegression()\n",
    "\n",
    "tuned_parameters = [{'C': [10**-4, 10**-2, 10**0, 10, 10**2, 10**4]}]\n",
    "model = GridSearchCV(model, tuned_parameters, scoring='f1', cv=5)\n",
    "model.fit(X_train, y_train)\n",
    "\n",
    "print(model.best_estimator_)\n",
    "print(model.score(X_test, y_test))"
   ]
  },
  {
   "cell_type": "code",
   "execution_count": 5,
   "metadata": {
    "colab": {},
    "colab_type": "code",
    "id": "OS1jJuodv4Ty",
    "outputId": "5d888e53-eacd-408c-a6d6-3ceb04bb8223"
   },
   "outputs": [
    {
     "name": "stdout",
     "output_type": "stream",
     "text": [
      "[[ 0.08645624  0.          0.28669311 -0.00249299  0.          0.\n",
      "   0.          0.          0.          0.          0.          0.\n",
      "   0.         -0.05483957  0.          0.          0.          0.\n",
      "   0.          0.          0.76505657 -0.12514444 -0.14590411 -0.02187929\n",
      "   0.          0.          0.          0.          0.          0.        ]]\n",
      "8\n"
     ]
    }
   ],
   "source": [
    "# More Sparsity (Fewer elements of W* being non-zero) by increasing Lambda (decreasing C)\n",
    "\n",
    "clf = LogisticRegression(C=0.1, penalty='l1', solver='liblinear')\n",
    "clf.fit(X_train, y_train)\n",
    "w = clf.coef_\n",
    "print(w)\n",
    "print(np.count_nonzero(w))"
   ]
  },
  {
   "cell_type": "code",
   "execution_count": 6,
   "metadata": {
    "colab": {},
    "colab_type": "code",
    "id": "AWF0yjcQv4T0",
    "outputId": "e1d11dd5-7bca-416d-dcf4-c5df43f05a19"
   },
   "outputs": [
    {
     "name": "stdout",
     "output_type": "stream",
     "text": [
      "[[ 0.          0.          0.15270301  0.00643301  0.          0.\n",
      "   0.          0.          0.          0.          0.          0.\n",
      "   0.         -0.01791942  0.          0.          0.          0.\n",
      "   0.          0.          0.          0.          0.         -0.02137624\n",
      "   0.          0.          0.          0.          0.          0.        ]]\n",
      "4\n"
     ]
    }
   ],
   "source": [
    "clf = LogisticRegression(C=0.01, penalty='l1', solver='liblinear')\n",
    "clf.fit(X_train, y_train)\n",
    "w = clf.coef_\n",
    "print(w)\n",
    "print(np.count_nonzero(w))"
   ]
  },
  {
   "cell_type": "code",
   "execution_count": 7,
   "metadata": {
    "colab": {},
    "colab_type": "code",
    "id": "rTDDmXxdv4T2",
    "outputId": "14fa013e-8d12-4d94-f83a-cf54634c2cde"
   },
   "outputs": [
    {
     "name": "stdout",
     "output_type": "stream",
     "text": [
      "[[ 0.          0.          0.06361274  0.00510925  0.          0.\n",
      "   0.          0.          0.          0.          0.          0.\n",
      "   0.          0.          0.          0.          0.          0.\n",
      "   0.          0.          0.          0.          0.         -0.01068095\n",
      "   0.          0.          0.          0.          0.          0.        ]]\n",
      "3\n"
     ]
    }
   ],
   "source": [
    "clf = LogisticRegression(C=0.001, penalty='l1', solver='liblinear')\n",
    "clf.fit(X_train, y_train);\n",
    "w = clf.coef_\n",
    "print(w)\n",
    "print(np.count_nonzero(w))"
   ]
  },
  {
   "cell_type": "code",
   "execution_count": 8,
   "metadata": {
    "colab": {},
    "colab_type": "code",
    "id": "RH0VDyVuv4T5",
    "outputId": "6400c20d-80e7-41b9-8750-d0905d7e00b5"
   },
   "outputs": [
    {
     "name": "stdout",
     "output_type": "stream",
     "text": [
      "[[ 2.99834779e+00  1.98645837e-01 -8.75707196e-02 -2.11689371e-02\n",
      "   0.00000000e+00  0.00000000e+00  0.00000000e+00  0.00000000e+00\n",
      "   0.00000000e+00  0.00000000e+00  0.00000000e+00  1.68913300e+00\n",
      "   8.37142599e-01 -2.17718083e-01  0.00000000e+00  0.00000000e+00\n",
      "   8.69894242e-01  0.00000000e+00  0.00000000e+00  0.00000000e+00\n",
      "   1.08738659e+00 -4.90755408e-01 -9.41728726e-02 -1.47926985e-02\n",
      "   0.00000000e+00  0.00000000e+00 -4.22562462e-01 -3.80628813e+01\n",
      "  -6.83270815e+00  0.00000000e+00]]\n",
      "15\n"
     ]
    }
   ],
   "source": [
    "clf = LogisticRegression(C=10, penalty='l1', solver='liblinear')\n",
    "clf.fit(X_train, y_train);\n",
    "w = clf.coef_\n",
    "print(w)\n",
    "print(np.count_nonzero(w))"
   ]
  }
 ],
 "metadata": {
  "colab": {
   "name": "LogisticRegression.ipynb",
   "provenance": [],
   "version": "0.3.2"
  },
  "kernelspec": {
   "display_name": "Python 3",
   "language": "python",
   "name": "python3"
  },
  "language_info": {
   "codemirror_mode": {
    "name": "ipython",
    "version": 3
   },
   "file_extension": ".py",
   "mimetype": "text/x-python",
   "name": "python",
   "nbconvert_exporter": "python",
   "pygments_lexer": "ipython3",
   "version": "3.8.4"
  }
 },
 "nbformat": 4,
 "nbformat_minor": 1
}
