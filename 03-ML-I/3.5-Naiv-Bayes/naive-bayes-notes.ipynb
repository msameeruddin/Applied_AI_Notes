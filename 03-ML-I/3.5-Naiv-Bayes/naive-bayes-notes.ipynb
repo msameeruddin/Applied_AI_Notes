{
 "cells": [
  {
   "cell_type": "markdown",
   "metadata": {},
   "source": [
    "### Conditional Probability"
   ]
  },
  {
   "cell_type": "markdown",
   "metadata": {},
   "source": [
    "* In probability theory, **conditional probability** is a measure of the probability of an event occurring, given that another event (by assumption, presumption, assertion or evidence) has already occurred. \n",
    "\n",
    "* If the event of interest is **A** and the event **B** is known or assumed to have occurred, \"the conditional probability of A given B\", or \"the probability of A under the condition B\", is usually written as $P(A | B)$, or sometimes $P_{B}(A)$ or $P(A / B)$.\n",
    "\n",
    "<img src=\"https://www.onlinemathlearning.com/image-files/conditional-probability-formula.png\">\n",
    "\n",
    "**Credits** - Image from Internet"
   ]
  },
  {
   "cell_type": "code",
   "execution_count": null,
   "metadata": {},
   "outputs": [],
   "source": []
  },
  {
   "cell_type": "markdown",
   "metadata": {},
   "source": [
    "### Independent Events"
   ]
  },
  {
   "cell_type": "markdown",
   "metadata": {},
   "source": [
    "Two events **A** and **B** are said to be independent iff $P(A | B) = P(A)$ and $P(B | A) = P(B)$.\n",
    "\n",
    "* **A** : getting the value of 6 in die_1 throw → $(D_1 = 6)$\n",
    "* **B** : getting the value of 3 in die_2 throw → $(D_2 = 3)$\n",
    "\n",
    "Here, event **B** has nothing to do with the occurrence of event **A**. Viceversa."
   ]
  },
  {
   "cell_type": "markdown",
   "metadata": {},
   "source": [
    "<img src=\"https://keydifferences.com/wp-content/uploads/2016/05/mutually-exclusive-vs-independent-event.jpg\">\n",
    "\n",
    "**Credits** - Image from Internet"
   ]
  },
  {
   "cell_type": "markdown",
   "metadata": {},
   "source": [
    "### Mutually Exclusive Events"
   ]
  },
  {
   "cell_type": "markdown",
   "metadata": {},
   "source": [
    "Two events **A** and **B** are said to be mutually exclusive iff $P(A | B) = 0 = P(B | A)$\n",
    "\n",
    "* **A** : getting the value of 6 in die_1 throw → $(D_1 = 6)$\n",
    "* **B** : getting the value of 3 in die_1 throw → $(D_2 = 3)$\n",
    "\n",
    "Here, $P(A \\cap B) = 0$ and hence **A** and **B** are mutually exclusive events."
   ]
  },
  {
   "cell_type": "code",
   "execution_count": null,
   "metadata": {},
   "outputs": [],
   "source": []
  },
  {
   "cell_type": "markdown",
   "metadata": {},
   "source": [
    "### Bayes Theorem with Examples"
   ]
  },
  {
   "cell_type": "markdown",
   "metadata": {},
   "source": [
    "If we have two events such as **A** and **B** then\n",
    "\n",
    "$$P(A | B) = \\frac{P(B | A) P(A)}{P(B)}; \\ \\text{if} \\ P(B) \\neq 0$$\n",
    "\n",
    "Here\n",
    "\n",
    "* $P(A | B) \\implies \\text{Posterior}$\n",
    "* $P(B | A) \\implies \\text{Likelihood}$\n",
    "* $P(A) \\implies \\text{Prior}$\n",
    "* $P(B) \\implies \\text{Evidence}$\n",
    "\n",
    "---\n",
    "\n",
    "**Proof**\n",
    "\n",
    "By definition w.k.t\n",
    "\n",
    "$$P(A | B) = \\frac{P(A \\cap B)}{P(B)} \\ or \\ \\frac{P(A, B)}{P(B)} \\rightarrow (1)$$\n",
    "\n",
    "Now, $(A \\cap B) = (B \\cap A)$. Using this, $(1)$ can be written as\n",
    "\n",
    "$$P(A | B) = \\frac{P(B \\cap A)}{P(B)} \\ or \\ \\frac{P(B, A)}{P(B)} \\rightarrow (2)$$\n",
    "\n",
    "Also, by definition w.k.t\n",
    "\n",
    "$$P(B | A) = \\frac{P(B \\cap A)}{P(A)}$$\n",
    "$$P(A)P(B | A) = P(B \\cap A) \\rightarrow (3)$$\n",
    "\n",
    "Now, substituting $(3)$ in $(2)$, we get\n",
    "\n",
    "$$P(A | B) = \\frac{P(B | A)P(A)}{P(B)}$$\n",
    "\n",
    "Hence proved."
   ]
  },
  {
   "cell_type": "code",
   "execution_count": null,
   "metadata": {},
   "outputs": [],
   "source": []
  },
  {
   "cell_type": "markdown",
   "metadata": {},
   "source": [
    "### Naive Bayes Algorithm\n",
    "\n",
    "* Refer to → https://monkeylearn.com/blog/practical-explanation-naive-bayes-classifier/"
   ]
  },
  {
   "cell_type": "markdown",
   "metadata": {},
   "source": [
    "For multi-class classification problem we can extend Bayes Theorem as \n",
    "\n",
    "$$P(C_k | X) = \\frac{P(C_k)P(X | C_k)}{P(X)} \\rightarrow (1)$$\n",
    "\n",
    "where\n",
    "\n",
    "* $C_k \\rightarrow \\{1, 2, 3, \\dots, k\\}$ → classification labels\n",
    "* $X \\rightarrow$ Data in `n` dimentions $\\implies \\{x_1, x_2, x_3, \\dots, x_n\\}$\n",
    "\n",
    "From $(1)$, take numerator and write as $P(C_k, x_1, x_2, \\dots, x_n)$ since $P(C_k)P(X | C_k) = P(C_k, X) \\ \\text{or} \\ P(C_k \\cap X)$\n",
    "\n",
    "By applying chain rule, we can have\n",
    "\n",
    "$\\implies P(C_k, x_1, x_2, \\dots, x_n)$\n",
    "* $= P(x_1, x_2, \\dots, x_n, C_k)$\n",
    "* $= P(x_1 | x_2, \\dots, x_n, C_k)P(x_2, x_3, \\dots, x_n, C_k)$\n",
    "* $= P(x_1 | x_2, \\dots, x_n, C_k)P(x_2 | x_3, \\dots, x_n, C_k)P(x_3, x_4, \\dots, x_n, C_k)$\n",
    "* $\\dots$\n",
    "* $= P(x_1 | x_2, \\dots, x_n, C_k)P(x_2 | x_3, \\dots, x_n, C_k) \\dots P(x_{n-1} | x_n, C_k)P(x_n | C_k)P(C_k)$\n",
    "\n",
    "$$P(C_k, x_1, x_2, \\dots, x_n) = P(x_1 | x_2, \\dots, x_n, C_k)P(x_2 | x_3, \\dots, x_n, C_k) \\dots P(x_{n-1} | x_n, C_k)P(x_n | C_k)P(C_k) \\rightarrow (2)$$\n",
    "\n",
    "By assuming features to be conditionally independent, we get\n",
    "\n",
    "$$P(x_i | x_{i + 1}, \\dots, x_n, C_k) = P(x_i | C_k) \\rightarrow (3)$$\n",
    "\n",
    "Thus, by $(2)$ and $(3)$ we can derive\n",
    "\n",
    "$\\implies P(C_k | X)$\n",
    "* $\\propto P(C_k, x_1, x_2, \\dots, x_n)$\n",
    "* $\\propto P(C_k)P(x_1 | C_k)P(x_2 | C_k) \\dots P(x_n | C_k)$\n",
    "* $\\propto P(C_k) \\prod_{i=1}^n P(x_i | C_k)$\n",
    "\n",
    "$$P(C_k, x_1, x_2, \\dots, x_n) \\propto P(C_k) \\prod_{i=1}^n P(x_i | C_k) \\rightarrow (4)$$\n",
    "\n",
    "Putting $(4)$ in $(1)$\n",
    "\n",
    "$$P(C_k | X) = \\frac{P(C_k) \\prod_{i=1}^n P(x_i | C_k)}{P(X)} \\rightarrow (5)$$\n",
    "\n",
    "With the help of `maximum a-posteriori` rule, we can predict the classification label $(\\hat{y})$\n",
    "\n",
    "$$\\hat{y} = \\text{argmax}_{k \\in \\{1, 2, \\dots, k\\}} P(C_k) \\prod_{i=1}^n P(x_i | C_k)$$"
   ]
  },
  {
   "cell_type": "code",
   "execution_count": null,
   "metadata": {},
   "outputs": [],
   "source": []
  },
  {
   "cell_type": "markdown",
   "metadata": {},
   "source": [
    "### Practical Implementation of Naive Bayes"
   ]
  },
  {
   "cell_type": "markdown",
   "metadata": {},
   "source": [
    "* Refer to → http://shatterline.com/blog/2013/09/12/not-so-naive-classification-with-the-naive-bayes-classifier/"
   ]
  },
  {
   "cell_type": "code",
   "execution_count": null,
   "metadata": {},
   "outputs": [],
   "source": []
  },
  {
   "cell_type": "markdown",
   "metadata": {},
   "source": [
    "### Naive Bayes for Text classification"
   ]
  },
  {
   "cell_type": "markdown",
   "metadata": {},
   "source": [
    "* Given an email, NaiveBayes works really well in classifying whether an email is spam or not.\n",
    "* Review calssification → positive, negative, and neutral.\n",
    "* For test classification tasks, NaiveBayes is heavily used because of its simplicity."
   ]
  },
  {
   "cell_type": "code",
   "execution_count": null,
   "metadata": {},
   "outputs": [],
   "source": []
  },
  {
   "cell_type": "markdown",
   "metadata": {},
   "source": [
    "### Laplace Smoothing"
   ]
  },
  {
   "cell_type": "markdown",
   "metadata": {},
   "source": [
    "* It is a technique that helps tackle the problem of zero probability in the Naive Bayes machine learning algorithm. \n",
    "\n",
    "* It uses something called higher alpha values that will push the likelihood towards a value of 0.5, i.e., the probability of a word equal to 0.5 for both the positive and negative reviews.\n",
    "\n",
    "$$P(w^1 | y = 1) = \\frac{0 + \\alpha}{N + k\\alpha}$$\n",
    "\n",
    "where\n",
    "* $\\alpha \\rightarrow$ 1 (typically, it is taken only 1 to represent `add one smoothing`)\n",
    "* $k \\rightarrow$ number of possible values that $w^1$ can take"
   ]
  },
  {
   "cell_type": "code",
   "execution_count": null,
   "metadata": {},
   "outputs": [],
   "source": []
  },
  {
   "cell_type": "markdown",
   "metadata": {},
   "source": [
    "### Log-Probabilities for Numerical Stability"
   ]
  },
  {
   "cell_type": "markdown",
   "metadata": {},
   "source": [
    "* As we continuously multiply the probabilities for each class, if suppose we had 100 probabilities to compute, it is sure that we will encounter the problem of numerical stability.\n",
    "* To avoid that, it is better to consider the logarithm of each probability.\n",
    "\n",
    "**Basic Fundamentals of Logarithms (log() is a monotonous function)**\n",
    "\n",
    "* $\\log(ab) = \\log(a) + \\log(b)$\n",
    "* $\\log(a^b) = b\\log(a)$\n",
    "\n",
    "w.k.t\n",
    "\n",
    "$$\\implies P(C_k | X) = P(C_k) \\prod_{i=1}^n P(x_i | C_k) \\rightarrow (1)$$\n",
    "\n",
    "applying $\\log$ on both sides of $(1)$\n",
    "\n",
    "$$(1) \\implies \\log \\big[P(C_k | X) \\big] = \\log \\big[P(C_k) \\big] + \\sum_{i=1}^n \\log \\big[P(x_i | C_k) \\big]$$"
   ]
  },
  {
   "cell_type": "code",
   "execution_count": 1,
   "metadata": {
    "scrolled": false
   },
   "outputs": [
    {
     "data": {
      "image/png": "[encoded data removed]",
      "text/plain": [
       "<Figure size 432x288 with 1 Axes>"
      ]
     },
     "metadata": {
      "needs_background": "light"
     },
     "output_type": "display_data"
    }
   ],
   "source": [
    "import math\n",
    "from matplotlib import pyplot as plt\n",
    "\n",
    "x = list(range(1, 20))\n",
    "y = list(map(math.log, x))\n",
    "# z = list(map(math.exp, x))\n",
    "\n",
    "plt.plot(x, y, 'o--g')\n",
    "# plt.plot(x, z, 'o--r')\n",
    "plt.show()"
   ]
  },
  {
   "cell_type": "code",
   "execution_count": null,
   "metadata": {},
   "outputs": [],
   "source": []
  },
  {
   "cell_type": "markdown",
   "metadata": {},
   "source": [
    "### Bias Variance Tradeoff"
   ]
  },
  {
   "cell_type": "markdown",
   "metadata": {},
   "source": [
    "* Naive Bayes\n",
    "    - high bias → underfitting\n",
    "    - high variance → overfitting (a small change in the training data results to a drastic change in the model)\n",
    "\n",
    "* **case - 1**\n",
    "    - When $\\alpha$ is very small (0), there will be high variance. Therefore, it leads to overfitting.\n",
    "\n",
    "* **case - 2**\n",
    "    - When $\\alpha$ is very large, there will be high bias. Therefore, it leads to underfitting.\n",
    "\n",
    "The balance tradeoff is completely dependent on the value of $\\alpha$. We can find the righ $\\alpha$ by simple cross validation method (something similar to K-NN).\n",
    "\n",
    "**Note**\n",
    "\n",
    "* $\\alpha$ in Naive Bayes and $k$ in K-NN are called hyper parameters."
   ]
  },
  {
   "cell_type": "code",
   "execution_count": null,
   "metadata": {},
   "outputs": [],
   "source": []
  },
  {
   "cell_type": "markdown",
   "metadata": {},
   "source": [
    "### Feature importance and Interpretability"
   ]
  },
  {
   "cell_type": "markdown",
   "metadata": {},
   "source": [
    "* The importance of the data value is taken based on probability. If the probability is high then it is retained else it is removed.\n",
    "\n",
    "* Feature importance can be obtained or determined directly from the model itself (with the help of likelihood)."
   ]
  },
  {
   "cell_type": "code",
   "execution_count": null,
   "metadata": {},
   "outputs": [],
   "source": []
  },
  {
   "cell_type": "markdown",
   "metadata": {},
   "source": [
    "### Imbalanced Data"
   ]
  },
  {
   "cell_type": "markdown",
   "metadata": {},
   "source": [
    "* In an imbalanced data, the majority class data has upper hand and viceversa. It can be problematic as the model may tend to give predictions pertaining to only majority class.\n",
    "\n",
    "* To resolve this, we can do upsampling or downsampling and try to get balanced data.\n",
    "\n",
    "* When applied laplace smoothing, the $\\alpha$ value impacts the minority class a alot.\n",
    "\n",
    "---\n",
    "\n",
    "* Let's say we have probabilities for minority class and majority like this following -\n",
    "\n",
    "    - Minority → $\\frac{2}{100}$ → 2%\n",
    "    - Majority → $\\frac{18}{900}$ → 2%\n",
    "* Let $\\alpha$ be 10. Now, by applying laplace smoothing, we get -\n",
    "    \n",
    "    - Minority → $\\frac{2 + 10}{100 + 20}$ → 10%\n",
    "    - Majority → $\\frac{18 + 10}{900 + 20}$ → 3.04%\n",
    "\n",
    "* Clearly, minority class has got influenced more than majority class."
   ]
  },
  {
   "cell_type": "code",
   "execution_count": null,
   "metadata": {},
   "outputs": [],
   "source": []
  },
  {
   "cell_type": "markdown",
   "metadata": {},
   "source": [
    "### Outliers"
   ]
  },
  {
   "cell_type": "markdown",
   "metadata": {},
   "source": [
    "* To handle outliers in the data while applying Naive Bayes, we shall take the following measures -\n",
    "    - Use laplace smoothing (as it works for outliers as well).\n",
    "    - Remove those data values whose occurrence is very less (set a threshold for solving it)."
   ]
  },
  {
   "cell_type": "code",
   "execution_count": null,
   "metadata": {},
   "outputs": [],
   "source": []
  },
  {
   "cell_type": "markdown",
   "metadata": {},
   "source": [
    "### Gaussian Naive Bayes"
   ]
  },
  {
   "cell_type": "markdown",
   "metadata": {},
   "source": [
    "* In case of real-valued data, to find the probability of each data value with respect to target variable, it is `assumed` that the feature column follows Gaussian Distribution. If it is so, we can easily find the probabilities with the help of contingency (pdf) table.\n",
    "\n",
    "* Therefore, this model becomes Gaussian Naive Bayes. The likelihood is computed assuming that the feature is Normally distributed."
   ]
  },
  {
   "cell_type": "code",
   "execution_count": null,
   "metadata": {},
   "outputs": [],
   "source": []
  },
  {
   "cell_type": "markdown",
   "metadata": {},
   "source": [
    "### Similarity and Distance Matrix"
   ]
  },
  {
   "cell_type": "markdown",
   "metadata": {},
   "source": [
    "* Naive Bayes cannot classify data based on distance or similarity matrix (as K-NN classifies).\n",
    "* It is a probability based method which needs a column as input.\n",
    "* The formula\n",
    "\n",
    "$$P(C_k | X) = P(C_k) \\prod_{i = 1}^n P(x_i | C_k)$$\n",
    "\n",
    "* Here $x_i$ is nothing but a feature or column."
   ]
  }
 ],
 "metadata": {
  "kernelspec": {
   "display_name": "Python 3",
   "language": "python",
   "name": "python3"
  },
  "language_info": {
   "codemirror_mode": {
    "name": "ipython",
    "version": 3
   },
   "file_extension": ".py",
   "mimetype": "text/x-python",
   "name": "python",
   "nbconvert_exporter": "python",
   "pygments_lexer": "ipython3",
   "version": "3.8.4"
  }
 },
 "nbformat": 4,
 "nbformat_minor": 4
}
