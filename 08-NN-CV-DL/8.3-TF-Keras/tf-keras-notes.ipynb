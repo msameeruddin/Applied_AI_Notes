{
 "cells": [
  {
   "cell_type": "markdown",
   "metadata": {},
   "source": [
    "### Overview"
   ]
  },
  {
   "cell_type": "markdown",
   "metadata": {},
   "source": [
    "* Tensorflow and Keras are some of the popular toolkits that enable to write high quality code for deep learning.\n",
    "\n",
    "* Tensorflow is very much useful for research and development to come up with new ideas and architecture.\n",
    "\n",
    "* Tensorflow makes the deployment process easy enough to scale the models.\n",
    "\n",
    "* `Tensor` - is very similar to n-dimensional array. DL is all about `Tensor` operations.\n",
    "\n",
    "* `Flow` - the word `Flow` is inspired from backpropagation.\n",
    "\n",
    "* Keras makes the model development and DL extremely simple (very similar to scikit-learn).\n",
    "\n",
    "* Tensorflow is the backend of the Keras."
   ]
  },
  {
   "cell_type": "markdown",
   "metadata": {},
   "source": [
    "### GPU & CPU"
   ]
  },
  {
   "cell_type": "markdown",
   "metadata": {},
   "source": [
    "* GPU → Graphics Processing Unit\n",
    "    - have 1000's of cores\n",
    "    - are fast if parallelizable tasks are there. A lot of the tasks in DL are highly parallelizable, GPU's are highly recommended.\n",
    "* CPU → Central Processing Unit\n",
    "    - have very less cores (at max 4 to 8 cores)"
   ]
  },
  {
   "cell_type": "markdown",
   "metadata": {},
   "source": [
    "### Hyperparameter Tuning"
   ]
  },
  {
   "cell_type": "markdown",
   "metadata": {},
   "source": [
    "* To fine tune a Multi-Layered-Perceptron, we have lots of hyperparameters\n",
    "    - number of layers\n",
    "    - number of activation units in each layers\n",
    "    - number of type of activation function\n",
    "    - number of dropout rate\n",
    "    - many more"
   ]
  }
 ],
 "metadata": {
  "kernelspec": {
   "display_name": "Python 3",
   "language": "python",
   "name": "python3"
  },
  "language_info": {
   "codemirror_mode": {
    "name": "ipython",
    "version": 3
   },
   "file_extension": ".py",
   "mimetype": "text/x-python",
   "name": "python",
   "nbconvert_exporter": "python",
   "pygments_lexer": "ipython3",
   "version": "3.8.4"
  },
  "varInspector": {
   "cols": {
    "lenName": 16,
    "lenType": 16,
    "lenVar": 40
   },
   "kernels_config": {
    "python": {
     "delete_cmd_postfix": "",
     "delete_cmd_prefix": "del ",
     "library": "var_list.py",
     "varRefreshCmd": "print(var_dic_list())"
    },
    "r": {
     "delete_cmd_postfix": ") ",
     "delete_cmd_prefix": "rm(",
     "library": "var_list.r",
     "varRefreshCmd": "cat(var_dic_list()) "
    }
   },
   "types_to_exclude": [
    "module",
    "function",
    "builtin_function_or_method",
    "instance",
    "_Feature"
   ],
   "window_display": false
  }
 },
 "nbformat": 4,
 "nbformat_minor": 4
}
