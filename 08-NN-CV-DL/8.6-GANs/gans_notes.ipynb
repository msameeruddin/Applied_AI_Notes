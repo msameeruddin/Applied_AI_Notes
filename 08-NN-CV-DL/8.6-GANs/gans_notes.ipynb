{
 "cells": [
  {
   "cell_type": "markdown",
   "metadata": {},
   "source": [
    "### GANs\n",
    "\n",
    "generative adversarial networks → extremely hard to train"
   ]
  },
  {
   "cell_type": "markdown",
   "metadata": {},
   "source": [
    "### Task\n",
    "\n",
    "bigger task"
   ]
  },
  {
   "cell_type": "markdown",
   "metadata": {},
   "source": [
    "* How GANs are useful in solving the task (any)?\n",
    "\n",
    "    - given MNIST (any) dataset, if we want to create new MNIST images which are not the copies of any data value\n",
    "    - the new images should be **very similar** to the dataset but not the same\n",
    "    \n",
    "    <img src=\"https://analyticsindiamag.com/wp-content/uploads/2021/09/GFPGAN_AIM.jpg\">\n",
    "\n",
    "\n",
    "**Credits** - Image from Internet"
   ]
  },
  {
   "cell_type": "markdown",
   "metadata": {},
   "source": [
    "### Generate\n",
    "\n",
    "generative"
   ]
  },
  {
   "cell_type": "markdown",
   "metadata": {},
   "source": [
    "* **For example**\n",
    "    - given a set of heights of student\n",
    "        * $D = \\{h_1, h_2, \\dots, h_n\\}$\n",
    "    - generate of create a new dataset\n",
    "        * $D^1 = \\{h_1^1, h_2^1, \\dots, h_m^1\\}$\n",
    "    - here $D$ and $D^1$ should be very similar\n",
    "    \n",
    "    - **question** - how can we generate $D^1$ given $D$?\n",
    "    \n",
    "        - using $D$, get the PDF - $P(H)$\n",
    "        - evaluate the distribution from pdf by applying QQ test etc\n",
    "            - let's say it is a normal distribution\n",
    "        - by finding the distribution, we can easily generate random samples of that distribution\n",
    "            - thus we get $D^1$\n",
    "    \n",
    "    - since now $D$ and $D^1$ have same distribution, their values are also similar\n",
    "    \n",
    "    - next, we measure or test how similar $D$ and $D^1$ are\n",
    "        - label $D$ as 1 and $D^1$ as 0\n",
    "        - create a model for classification task\n",
    "            - if the model is successful to seperate $D$ and $D^1$, then $D$ is not very similar to $D^1$ else they are similar\n",
    "            - the error should be high in order for their similarity\n",
    "        \n",
    "        ![dists-similarity](https://user-images.githubusercontent.com/63333753/144010101-d0fe8c1b-2d04-4ffb-bd59-12c53916b504.jpeg)"
   ]
  },
  {
   "cell_type": "markdown",
   "metadata": {},
   "source": [
    "### Big Picture of GAN"
   ]
  },
  {
   "cell_type": "markdown",
   "metadata": {},
   "source": [
    "![gan-big-pic](https://user-images.githubusercontent.com/63333753/144011446-2ff4f36c-7c61-4e84-b387-0c6c377dd399.jpeg)"
   ]
  },
  {
   "cell_type": "markdown",
   "metadata": {},
   "source": [
    "### References"
   ]
  },
  {
   "cell_type": "markdown",
   "metadata": {},
   "source": [
    "* Applications:\n",
    "    - https://medium.com/@jonathan_hui/gan-some-cool-applications-of-gans-4c9ecca35900\n",
    "\n",
    "* GAN tricks and Hacks:\n",
    "    - https://github.com/soumith/ganhacks\n",
    "\n",
    "* MNIST GAN Code example:\n",
    "    - https://medium.com/datadriveninvestor/generative-adversarial-network-gan-using-keras-\n",
    "ce1c05cfdfd3\n",
    "\n",
    "* For the more research/theory focussed:\n",
    "    - https://deepgenerativemodels.github.io/\n",
    "* Various GANs in Keras:\n",
    "    - https://github.com/eriklindernoren/Keras-GAN"
   ]
  }
 ],
 "metadata": {
  "kernelspec": {
   "display_name": "Python 3",
   "language": "python",
   "name": "python3"
  },
  "language_info": {
   "codemirror_mode": {
    "name": "ipython",
    "version": 3
   },
   "file_extension": ".py",
   "mimetype": "text/x-python",
   "name": "python",
   "nbconvert_exporter": "python",
   "pygments_lexer": "ipython3",
   "version": "3.8.4"
  },
  "varInspector": {
   "cols": {
    "lenName": 16,
    "lenType": 16,
    "lenVar": 40
   },
   "kernels_config": {
    "python": {
     "delete_cmd_postfix": "",
     "delete_cmd_prefix": "del ",
     "library": "var_list.py",
     "varRefreshCmd": "print(var_dic_list())"
    },
    "r": {
     "delete_cmd_postfix": ") ",
     "delete_cmd_prefix": "rm(",
     "library": "var_list.r",
     "varRefreshCmd": "cat(var_dic_list()) "
    }
   },
   "types_to_exclude": [
    "module",
    "function",
    "builtin_function_or_method",
    "instance",
    "_Feature"
   ],
   "window_display": false
  }
 },
 "nbformat": 4,
 "nbformat_minor": 4
}
