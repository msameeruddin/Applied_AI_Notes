{
 "cells": [
  {
   "cell_type": "code",
   "execution_count": null,
   "metadata": {
    "id": "p0C-PjRh9rh3"
   },
   "outputs": [],
   "source": [
    "import warnings\n",
    "warnings.filterwarnings('ignore')\n",
    "\n",
    "import os\n",
    "import re\n",
    "import random\n",
    "import time\n",
    "\n",
    "import numpy as np\n",
    "import pandas as pd\n",
    "import seaborn as sns\n",
    "\n",
    "import xgboost as xgb\n",
    "\n",
    "from matplotlib import pyplot as plt\n",
    "from matplotlib import style\n",
    "from collections import Counter\n",
    "\n",
    "from sklearn.model_selection import train_test_split\n",
    "from sklearn.metrics import confusion_matrix\n",
    "from sklearn.metrics.classification import accuracy_score, log_loss\n",
    "from sklearn.calibration import CalibratedClassifierCV\n",
    "from sklearn.linear_model import SGDClassifier\n",
    "\n",
    "style.use('seaborn-deep')"
   ]
  },
  {
   "cell_type": "code",
   "execution_count": null,
   "metadata": {
    "id": "fOPCM12R9WOz"
   },
   "outputs": [],
   "source": [
    "folder_path = '/content/drive/MyDrive/AAIC/QQP/'"
   ]
  },
  {
   "cell_type": "code",
   "execution_count": null,
   "metadata": {
    "colab": {
     "base_uri": "https://localhost:8080/"
    },
    "id": "2n5vuBgBBgAX",
    "outputId": "e5d2916d-8c7d-47e1-f14a-aa1df78fcd15"
   },
   "outputs": [
    {
     "name": "stdout",
     "output_type": "stream",
     "text": [
      "304289\n"
     ]
    }
   ],
   "source": [
    "N = 404290\n",
    "n = 100001\n",
    "skip = sorted(random.sample(list(range(1, N + 1)), N-n))\n",
    "print(len(skip))"
   ]
  },
  {
   "cell_type": "code",
   "execution_count": null,
   "metadata": {
    "id": "igPnwV-N-T3-"
   },
   "outputs": [],
   "source": [
    "df = pd.read_csv(folder_path + 'final_features.csv', skiprows=skip)"
   ]
  },
  {
   "cell_type": "code",
   "execution_count": null,
   "metadata": {
    "id": "p9pdPR-O-bI-"
   },
   "outputs": [],
   "source": [
    "df = df.drop(columns=['Unnamed: 0', 'id'], axis=1)"
   ]
  },
  {
   "cell_type": "code",
   "execution_count": null,
   "metadata": {
    "colab": {
     "base_uri": "https://localhost:8080/"
    },
    "id": "dqU2G4SCAgDe",
    "outputId": "5fd8a8a9-c522-4856-f62a-3fbdb11e1575"
   },
   "outputs": [
    {
     "data": {
      "text/plain": [
       "(100001, 795)"
      ]
     },
     "execution_count": 6,
     "metadata": {
      "tags": []
     },
     "output_type": "execute_result"
    }
   ],
   "source": [
    "df.shape"
   ]
  },
  {
   "cell_type": "code",
   "execution_count": null,
   "metadata": {
    "colab": {
     "base_uri": "https://localhost:8080/",
     "height": 270
    },
    "id": "OiufZbrSAhJm",
    "outputId": "3fbfb83e-8eea-4b96-8314-40830e2e9c32"
   },
   "outputs": [
    {
     "data": {
      "text/html": [
       "<div>\n",
       "<style scoped>\n",
       "    .dataframe tbody tr th:only-of-type {\n",
       "        vertical-align: middle;\n",
       "    }\n",
       "\n",
       "    .dataframe tbody tr th {\n",
       "        vertical-align: top;\n",
       "    }\n",
       "\n",
       "    .dataframe thead th {\n",
       "        text-align: right;\n",
       "    }\n",
       "</style>\n",
       "<table border=\"1\" class=\"dataframe\">\n",
       "  <thead>\n",
       "    <tr style=\"text-align: right;\">\n",
       "      <th></th>\n",
       "      <th>is_duplicate</th>\n",
       "      <th>cwc_min</th>\n",
       "      <th>cwc_max</th>\n",
       "      <th>csc_min</th>\n",
       "      <th>csc_max</th>\n",
       "      <th>ctc_min</th>\n",
       "      <th>ctc_max</th>\n",
       "      <th>last_word_eq</th>\n",
       "      <th>first_word_eq</th>\n",
       "      <th>abs_len_diff</th>\n",
       "      <th>mean_len</th>\n",
       "      <th>token_set_ratio</th>\n",
       "      <th>token_sort_ratio</th>\n",
       "      <th>fuzz_ratio</th>\n",
       "      <th>fuzz_partial_ratio</th>\n",
       "      <th>longest_substr_ratio</th>\n",
       "      <th>freq_qid1</th>\n",
       "      <th>freq_qid2</th>\n",
       "      <th>q1len</th>\n",
       "      <th>q2len</th>\n",
       "      <th>q1_n_words</th>\n",
       "      <th>q2_n_words</th>\n",
       "      <th>word_Common</th>\n",
       "      <th>word_Total</th>\n",
       "      <th>word_share</th>\n",
       "      <th>freq_q1+q2</th>\n",
       "      <th>freq_q1-q2</th>\n",
       "      <th>0_x</th>\n",
       "      <th>1_x</th>\n",
       "      <th>2_x</th>\n",
       "      <th>3_x</th>\n",
       "      <th>4_x</th>\n",
       "      <th>5_x</th>\n",
       "      <th>6_x</th>\n",
       "      <th>7_x</th>\n",
       "      <th>8_x</th>\n",
       "      <th>9_x</th>\n",
       "      <th>10_x</th>\n",
       "      <th>11_x</th>\n",
       "      <th>12_x</th>\n",
       "      <th>...</th>\n",
       "      <th>344_y</th>\n",
       "      <th>345_y</th>\n",
       "      <th>346_y</th>\n",
       "      <th>347_y</th>\n",
       "      <th>348_y</th>\n",
       "      <th>349_y</th>\n",
       "      <th>350_y</th>\n",
       "      <th>351_y</th>\n",
       "      <th>352_y</th>\n",
       "      <th>353_y</th>\n",
       "      <th>354_y</th>\n",
       "      <th>355_y</th>\n",
       "      <th>356_y</th>\n",
       "      <th>357_y</th>\n",
       "      <th>358_y</th>\n",
       "      <th>359_y</th>\n",
       "      <th>360_y</th>\n",
       "      <th>361_y</th>\n",
       "      <th>362_y</th>\n",
       "      <th>363_y</th>\n",
       "      <th>364_y</th>\n",
       "      <th>365_y</th>\n",
       "      <th>366_y</th>\n",
       "      <th>367_y</th>\n",
       "      <th>368_y</th>\n",
       "      <th>369_y</th>\n",
       "      <th>370_y</th>\n",
       "      <th>371_y</th>\n",
       "      <th>372_y</th>\n",
       "      <th>373_y</th>\n",
       "      <th>374_y</th>\n",
       "      <th>375_y</th>\n",
       "      <th>376_y</th>\n",
       "      <th>377_y</th>\n",
       "      <th>378_y</th>\n",
       "      <th>379_y</th>\n",
       "      <th>380_y</th>\n",
       "      <th>381_y</th>\n",
       "      <th>382_y</th>\n",
       "      <th>383_y</th>\n",
       "    </tr>\n",
       "  </thead>\n",
       "  <tbody>\n",
       "    <tr>\n",
       "      <th>0</th>\n",
       "      <td>0</td>\n",
       "      <td>0.799984</td>\n",
       "      <td>0.399996</td>\n",
       "      <td>0.749981</td>\n",
       "      <td>0.599988</td>\n",
       "      <td>0.699993</td>\n",
       "      <td>0.466664</td>\n",
       "      <td>0.0</td>\n",
       "      <td>1.0</td>\n",
       "      <td>5.0</td>\n",
       "      <td>12.5</td>\n",
       "      <td>86</td>\n",
       "      <td>63</td>\n",
       "      <td>66</td>\n",
       "      <td>75</td>\n",
       "      <td>0.596154</td>\n",
       "      <td>4</td>\n",
       "      <td>1</td>\n",
       "      <td>51</td>\n",
       "      <td>88</td>\n",
       "      <td>8</td>\n",
       "      <td>13</td>\n",
       "      <td>4.0</td>\n",
       "      <td>20.0</td>\n",
       "      <td>0.20</td>\n",
       "      <td>5</td>\n",
       "      <td>3</td>\n",
       "      <td>-78.070939</td>\n",
       "      <td>54.843781</td>\n",
       "      <td>82.738482</td>\n",
       "      <td>98.191872</td>\n",
       "      <td>-51.234859</td>\n",
       "      <td>55.013510</td>\n",
       "      <td>-39.140730</td>\n",
       "      <td>-82.692352</td>\n",
       "      <td>45.161489</td>\n",
       "      <td>-9.556289</td>\n",
       "      <td>-79.721632</td>\n",
       "      <td>25.818640</td>\n",
       "      <td>-7.883405</td>\n",
       "      <td>...</td>\n",
       "      <td>-1.663620</td>\n",
       "      <td>-0.402938</td>\n",
       "      <td>-14.087219</td>\n",
       "      <td>38.538202</td>\n",
       "      <td>9.727834</td>\n",
       "      <td>13.917810</td>\n",
       "      <td>-22.559171</td>\n",
       "      <td>6.881677</td>\n",
       "      <td>-27.182516</td>\n",
       "      <td>23.088673</td>\n",
       "      <td>24.731105</td>\n",
       "      <td>11.367434</td>\n",
       "      <td>6.593838</td>\n",
       "      <td>-24.493328</td>\n",
       "      <td>-19.296450</td>\n",
       "      <td>-33.008435</td>\n",
       "      <td>-26.038134</td>\n",
       "      <td>24.669903</td>\n",
       "      <td>27.983948</td>\n",
       "      <td>1.638938</td>\n",
       "      <td>-24.155492</td>\n",
       "      <td>-9.086083</td>\n",
       "      <td>1.414648</td>\n",
       "      <td>8.240657</td>\n",
       "      <td>8.082218</td>\n",
       "      <td>16.568080</td>\n",
       "      <td>2.114171</td>\n",
       "      <td>1.494281</td>\n",
       "      <td>17.547449</td>\n",
       "      <td>-7.709981</td>\n",
       "      <td>-4.901128</td>\n",
       "      <td>-4.565393</td>\n",
       "      <td>41.520751</td>\n",
       "      <td>-0.727564</td>\n",
       "      <td>-16.413776</td>\n",
       "      <td>-7.373778</td>\n",
       "      <td>2.638877</td>\n",
       "      <td>-7.403457</td>\n",
       "      <td>2.703070</td>\n",
       "      <td>0.408040</td>\n",
       "    </tr>\n",
       "    <tr>\n",
       "      <th>1</th>\n",
       "      <td>0</td>\n",
       "      <td>0.000000</td>\n",
       "      <td>0.000000</td>\n",
       "      <td>0.000000</td>\n",
       "      <td>0.000000</td>\n",
       "      <td>0.000000</td>\n",
       "      <td>0.000000</td>\n",
       "      <td>0.0</td>\n",
       "      <td>0.0</td>\n",
       "      <td>2.0</td>\n",
       "      <td>12.0</td>\n",
       "      <td>36</td>\n",
       "      <td>36</td>\n",
       "      <td>35</td>\n",
       "      <td>40</td>\n",
       "      <td>0.039216</td>\n",
       "      <td>1</td>\n",
       "      <td>1</td>\n",
       "      <td>50</td>\n",
       "      <td>65</td>\n",
       "      <td>11</td>\n",
       "      <td>9</td>\n",
       "      <td>0.0</td>\n",
       "      <td>19.0</td>\n",
       "      <td>0.00</td>\n",
       "      <td>2</td>\n",
       "      <td>0</td>\n",
       "      <td>5.778359</td>\n",
       "      <td>-34.712038</td>\n",
       "      <td>48.999631</td>\n",
       "      <td>59.699204</td>\n",
       "      <td>40.661263</td>\n",
       "      <td>-41.658731</td>\n",
       "      <td>-36.808594</td>\n",
       "      <td>24.170655</td>\n",
       "      <td>0.235600</td>\n",
       "      <td>-29.407290</td>\n",
       "      <td>-62.898284</td>\n",
       "      <td>-94.979633</td>\n",
       "      <td>24.331771</td>\n",
       "      <td>...</td>\n",
       "      <td>-11.371908</td>\n",
       "      <td>-3.578342</td>\n",
       "      <td>-2.376237</td>\n",
       "      <td>20.909671</td>\n",
       "      <td>3.221330</td>\n",
       "      <td>-8.993710</td>\n",
       "      <td>-12.933957</td>\n",
       "      <td>0.584045</td>\n",
       "      <td>-15.961217</td>\n",
       "      <td>2.370193</td>\n",
       "      <td>9.618801</td>\n",
       "      <td>5.654456</td>\n",
       "      <td>-4.039893</td>\n",
       "      <td>-19.908457</td>\n",
       "      <td>-11.321396</td>\n",
       "      <td>-24.859472</td>\n",
       "      <td>-13.069850</td>\n",
       "      <td>9.953773</td>\n",
       "      <td>-1.694113</td>\n",
       "      <td>4.442514</td>\n",
       "      <td>-9.278886</td>\n",
       "      <td>-3.784161</td>\n",
       "      <td>8.152649</td>\n",
       "      <td>7.866912</td>\n",
       "      <td>8.705768</td>\n",
       "      <td>8.401290</td>\n",
       "      <td>-3.039061</td>\n",
       "      <td>10.259952</td>\n",
       "      <td>-8.754181</td>\n",
       "      <td>-7.158578</td>\n",
       "      <td>3.311411</td>\n",
       "      <td>3.788879</td>\n",
       "      <td>13.398598</td>\n",
       "      <td>-6.592596</td>\n",
       "      <td>6.437365</td>\n",
       "      <td>5.993293</td>\n",
       "      <td>2.732392</td>\n",
       "      <td>-3.727647</td>\n",
       "      <td>5.614115</td>\n",
       "      <td>6.023693</td>\n",
       "    </tr>\n",
       "    <tr>\n",
       "      <th>2</th>\n",
       "      <td>0</td>\n",
       "      <td>0.399992</td>\n",
       "      <td>0.199998</td>\n",
       "      <td>0.999950</td>\n",
       "      <td>0.666644</td>\n",
       "      <td>0.571420</td>\n",
       "      <td>0.307690</td>\n",
       "      <td>0.0</td>\n",
       "      <td>1.0</td>\n",
       "      <td>6.0</td>\n",
       "      <td>10.0</td>\n",
       "      <td>67</td>\n",
       "      <td>47</td>\n",
       "      <td>46</td>\n",
       "      <td>56</td>\n",
       "      <td>0.175000</td>\n",
       "      <td>3</td>\n",
       "      <td>1</td>\n",
       "      <td>76</td>\n",
       "      <td>39</td>\n",
       "      <td>13</td>\n",
       "      <td>7</td>\n",
       "      <td>2.0</td>\n",
       "      <td>20.0</td>\n",
       "      <td>0.10</td>\n",
       "      <td>4</td>\n",
       "      <td>2</td>\n",
       "      <td>51.138220</td>\n",
       "      <td>38.587312</td>\n",
       "      <td>123.639488</td>\n",
       "      <td>53.333041</td>\n",
       "      <td>-47.062739</td>\n",
       "      <td>37.356212</td>\n",
       "      <td>-298.722753</td>\n",
       "      <td>-106.421119</td>\n",
       "      <td>106.248914</td>\n",
       "      <td>65.880707</td>\n",
       "      <td>203.339632</td>\n",
       "      <td>-160.598199</td>\n",
       "      <td>7.764019</td>\n",
       "      <td>...</td>\n",
       "      <td>-11.345449</td>\n",
       "      <td>6.101218</td>\n",
       "      <td>-23.438455</td>\n",
       "      <td>24.105925</td>\n",
       "      <td>10.318461</td>\n",
       "      <td>-0.063605</td>\n",
       "      <td>-1.480551</td>\n",
       "      <td>6.154874</td>\n",
       "      <td>-14.630949</td>\n",
       "      <td>19.905604</td>\n",
       "      <td>2.042963</td>\n",
       "      <td>-3.555425</td>\n",
       "      <td>-1.255108</td>\n",
       "      <td>-8.036084</td>\n",
       "      <td>-9.766769</td>\n",
       "      <td>-16.191164</td>\n",
       "      <td>-8.790663</td>\n",
       "      <td>4.519232</td>\n",
       "      <td>12.908963</td>\n",
       "      <td>10.736240</td>\n",
       "      <td>-24.625240</td>\n",
       "      <td>-19.771682</td>\n",
       "      <td>7.144672</td>\n",
       "      <td>8.497629</td>\n",
       "      <td>17.803612</td>\n",
       "      <td>5.478965</td>\n",
       "      <td>-10.447376</td>\n",
       "      <td>6.479129</td>\n",
       "      <td>-2.375045</td>\n",
       "      <td>-5.082603</td>\n",
       "      <td>-2.403870</td>\n",
       "      <td>11.991204</td>\n",
       "      <td>8.088483</td>\n",
       "      <td>-15.090201</td>\n",
       "      <td>8.375166</td>\n",
       "      <td>1.727225</td>\n",
       "      <td>-6.601129</td>\n",
       "      <td>11.317413</td>\n",
       "      <td>11.544603</td>\n",
       "      <td>2.478689</td>\n",
       "    </tr>\n",
       "    <tr>\n",
       "      <th>3</th>\n",
       "      <td>0</td>\n",
       "      <td>0.000000</td>\n",
       "      <td>0.000000</td>\n",
       "      <td>0.499975</td>\n",
       "      <td>0.111110</td>\n",
       "      <td>0.111110</td>\n",
       "      <td>0.052631</td>\n",
       "      <td>0.0</td>\n",
       "      <td>0.0</td>\n",
       "      <td>10.0</td>\n",
       "      <td>14.0</td>\n",
       "      <td>40</td>\n",
       "      <td>36</td>\n",
       "      <td>36</td>\n",
       "      <td>42</td>\n",
       "      <td>0.068966</td>\n",
       "      <td>1</td>\n",
       "      <td>1</td>\n",
       "      <td>57</td>\n",
       "      <td>116</td>\n",
       "      <td>9</td>\n",
       "      <td>19</td>\n",
       "      <td>1.0</td>\n",
       "      <td>25.0</td>\n",
       "      <td>0.04</td>\n",
       "      <td>2</td>\n",
       "      <td>0</td>\n",
       "      <td>10.718371</td>\n",
       "      <td>67.524713</td>\n",
       "      <td>10.415476</td>\n",
       "      <td>100.690348</td>\n",
       "      <td>-96.828972</td>\n",
       "      <td>143.122525</td>\n",
       "      <td>-196.932471</td>\n",
       "      <td>-53.788945</td>\n",
       "      <td>142.725974</td>\n",
       "      <td>-4.295261</td>\n",
       "      <td>75.247200</td>\n",
       "      <td>-39.958403</td>\n",
       "      <td>23.582703</td>\n",
       "      <td>...</td>\n",
       "      <td>-17.810061</td>\n",
       "      <td>16.321788</td>\n",
       "      <td>-17.722231</td>\n",
       "      <td>14.557190</td>\n",
       "      <td>50.716926</td>\n",
       "      <td>-5.455423</td>\n",
       "      <td>-6.542503</td>\n",
       "      <td>24.070168</td>\n",
       "      <td>-26.473164</td>\n",
       "      <td>-0.966067</td>\n",
       "      <td>15.034271</td>\n",
       "      <td>-7.911385</td>\n",
       "      <td>-21.317372</td>\n",
       "      <td>-34.809294</td>\n",
       "      <td>-0.597576</td>\n",
       "      <td>-21.744998</td>\n",
       "      <td>-6.680073</td>\n",
       "      <td>27.754547</td>\n",
       "      <td>-2.173541</td>\n",
       "      <td>5.060243</td>\n",
       "      <td>-38.326973</td>\n",
       "      <td>-7.464106</td>\n",
       "      <td>-16.835147</td>\n",
       "      <td>-25.142457</td>\n",
       "      <td>43.419578</td>\n",
       "      <td>19.594051</td>\n",
       "      <td>-21.494349</td>\n",
       "      <td>15.263331</td>\n",
       "      <td>-23.558071</td>\n",
       "      <td>-0.953859</td>\n",
       "      <td>11.813031</td>\n",
       "      <td>26.019863</td>\n",
       "      <td>1.944268</td>\n",
       "      <td>-6.520955</td>\n",
       "      <td>23.221594</td>\n",
       "      <td>3.070264</td>\n",
       "      <td>-31.744182</td>\n",
       "      <td>19.791140</td>\n",
       "      <td>19.149179</td>\n",
       "      <td>1.436473</td>\n",
       "    </tr>\n",
       "    <tr>\n",
       "      <th>4</th>\n",
       "      <td>1</td>\n",
       "      <td>0.999975</td>\n",
       "      <td>0.999975</td>\n",
       "      <td>0.666644</td>\n",
       "      <td>0.499988</td>\n",
       "      <td>0.857131</td>\n",
       "      <td>0.749991</td>\n",
       "      <td>1.0</td>\n",
       "      <td>0.0</td>\n",
       "      <td>1.0</td>\n",
       "      <td>7.5</td>\n",
       "      <td>92</td>\n",
       "      <td>85</td>\n",
       "      <td>88</td>\n",
       "      <td>89</td>\n",
       "      <td>0.756757</td>\n",
       "      <td>1</td>\n",
       "      <td>2</td>\n",
       "      <td>36</td>\n",
       "      <td>39</td>\n",
       "      <td>7</td>\n",
       "      <td>8</td>\n",
       "      <td>6.0</td>\n",
       "      <td>15.0</td>\n",
       "      <td>0.40</td>\n",
       "      <td>3</td>\n",
       "      <td>1</td>\n",
       "      <td>36.289221</td>\n",
       "      <td>28.551533</td>\n",
       "      <td>52.561083</td>\n",
       "      <td>83.853943</td>\n",
       "      <td>-37.603841</td>\n",
       "      <td>36.938199</td>\n",
       "      <td>18.837557</td>\n",
       "      <td>-11.939841</td>\n",
       "      <td>48.280363</td>\n",
       "      <td>-35.661642</td>\n",
       "      <td>-40.183129</td>\n",
       "      <td>-5.280107</td>\n",
       "      <td>-11.306924</td>\n",
       "      <td>...</td>\n",
       "      <td>-4.283994</td>\n",
       "      <td>-10.119695</td>\n",
       "      <td>-13.123657</td>\n",
       "      <td>13.649252</td>\n",
       "      <td>36.551954</td>\n",
       "      <td>-10.232420</td>\n",
       "      <td>-2.185809</td>\n",
       "      <td>-0.000981</td>\n",
       "      <td>-19.262414</td>\n",
       "      <td>17.173699</td>\n",
       "      <td>7.099242</td>\n",
       "      <td>-17.222787</td>\n",
       "      <td>0.733885</td>\n",
       "      <td>-15.364829</td>\n",
       "      <td>-2.442635</td>\n",
       "      <td>-23.980326</td>\n",
       "      <td>-2.442399</td>\n",
       "      <td>11.629547</td>\n",
       "      <td>9.314315</td>\n",
       "      <td>11.338073</td>\n",
       "      <td>-15.024541</td>\n",
       "      <td>-9.276608</td>\n",
       "      <td>-0.835810</td>\n",
       "      <td>-17.640048</td>\n",
       "      <td>15.221764</td>\n",
       "      <td>21.323389</td>\n",
       "      <td>-8.826741</td>\n",
       "      <td>8.024851</td>\n",
       "      <td>4.790073</td>\n",
       "      <td>-8.033264</td>\n",
       "      <td>4.322830</td>\n",
       "      <td>22.515108</td>\n",
       "      <td>5.821354</td>\n",
       "      <td>-5.345984</td>\n",
       "      <td>1.586257</td>\n",
       "      <td>4.833842</td>\n",
       "      <td>-9.853554</td>\n",
       "      <td>11.612230</td>\n",
       "      <td>8.895851</td>\n",
       "      <td>-0.264111</td>\n",
       "    </tr>\n",
       "  </tbody>\n",
       "</table>\n",
       "<p>5 rows × 795 columns</p>\n",
       "</div>"
      ],
      "text/plain": [
       "   is_duplicate   cwc_min   cwc_max  ...      381_y      382_y     383_y\n",
       "0             0  0.799984  0.399996  ...  -7.403457   2.703070  0.408040\n",
       "1             0  0.000000  0.000000  ...  -3.727647   5.614115  6.023693\n",
       "2             0  0.399992  0.199998  ...  11.317413  11.544603  2.478689\n",
       "3             0  0.000000  0.000000  ...  19.791140  19.149179  1.436473\n",
       "4             1  0.999975  0.999975  ...  11.612230   8.895851 -0.264111\n",
       "\n",
       "[5 rows x 795 columns]"
      ]
     },
     "execution_count": 7,
     "metadata": {
      "tags": []
     },
     "output_type": "execute_result"
    }
   ],
   "source": [
    "df.head()"
   ]
  },
  {
   "cell_type": "markdown",
   "metadata": {
    "id": "rPC2qos_HTXd"
   },
   "source": [
    "### Features and Target"
   ]
  },
  {
   "cell_type": "code",
   "execution_count": null,
   "metadata": {
    "id": "5SMwWdtED533"
   },
   "outputs": [],
   "source": [
    "X_features = df.drop(columns=['is_duplicate'])\n",
    "y_target = df['is_duplicate']"
   ]
  },
  {
   "cell_type": "markdown",
   "metadata": {
    "id": "SFDt1PqQIs3F"
   },
   "source": [
    "### Converting String into Numericals"
   ]
  },
  {
   "cell_type": "code",
   "execution_count": null,
   "metadata": {
    "id": "ZkVeMcoSHwPN"
   },
   "outputs": [],
   "source": [
    "cols = list(X_features.columns)\n",
    "for i in cols:\n",
    "    X_features[i] = X_features[i].apply(pd.to_numeric)"
   ]
  },
  {
   "cell_type": "code",
   "execution_count": null,
   "metadata": {
    "id": "fDOiNeBpJDCd"
   },
   "outputs": [],
   "source": [
    "y_target = list(map(int, y_target.values))"
   ]
  },
  {
   "cell_type": "markdown",
   "metadata": {
    "id": "daOv6OgYKQRF"
   },
   "source": [
    "### Train Test Split"
   ]
  },
  {
   "cell_type": "code",
   "execution_count": null,
   "metadata": {
    "id": "07cTc_25KHA9"
   },
   "outputs": [],
   "source": [
    "X_train, X_test, y_train, y_test = train_test_split(X_features, y_target, stratify=y_target, test_size=0.3)"
   ]
  },
  {
   "cell_type": "code",
   "execution_count": null,
   "metadata": {
    "colab": {
     "base_uri": "https://localhost:8080/"
    },
    "id": "vA8mIEKYKfGs",
    "outputId": "5e836b1c-dd38-46c7-b9e4-218ef62e09b2"
   },
   "outputs": [
    {
     "name": "stdout",
     "output_type": "stream",
     "text": [
      "Number of data points in train data :  (70000, 794)\n",
      "Number of data points in test data :  (30001, 794)\n"
     ]
    }
   ],
   "source": [
    "print(\"Number of data points in train data : \", X_train.shape)\n",
    "print(\"Number of data points in test data : \", X_test.shape)"
   ]
  },
  {
   "cell_type": "markdown",
   "metadata": {
    "id": "9qEJx94GMVlF"
   },
   "source": [
    "### Distributions of output variable in `train` and `test` data"
   ]
  },
  {
   "cell_type": "code",
   "execution_count": null,
   "metadata": {
    "colab": {
     "base_uri": "https://localhost:8080/"
    },
    "id": "8eoSTCLSKj3r",
    "outputId": "cc5a52f8-338e-4261-f22a-ed5f7e26cab9"
   },
   "outputs": [
    {
     "name": "stdout",
     "output_type": "stream",
     "text": [
      "---------- Distribution of output variable in train data ----------\n",
      "Class 0:  0.6306142857142857 Class 1:  0.36938571428571426\n",
      "---------- Distribution of output variable in test data ----------\n",
      "Class 0:  0.6306123129229025 Class 1:  0.3693876870770974\n"
     ]
    }
   ],
   "source": [
    "print(\"-\"*10, \"Distribution of output variable in train data\", \"-\"*10)\n",
    "train_distr = Counter(y_train)\n",
    "train_len = len(y_train)\n",
    "print(\"Class 0: \", int(train_distr[0]) / train_len, \"Class 1: \", int(train_distr[1]) / train_len)\n",
    "\n",
    "print(\"-\"*10, \"Distribution of output variable in test data\", \"-\"*10)\n",
    "test_distr = Counter(y_test)\n",
    "test_len = len(y_test)\n",
    "print(\"Class 0: \", int(test_distr[0]) / test_len, \"Class 1: \", int(test_distr[1]) / test_len)"
   ]
  },
  {
   "cell_type": "markdown",
   "metadata": {
    "id": "wtmdjhtcNQR9"
   },
   "source": [
    "### Confusion Matrix"
   ]
  },
  {
   "cell_type": "code",
   "execution_count": null,
   "metadata": {
    "id": "HKiU1stoM_pD"
   },
   "outputs": [],
   "source": [
    "def plot_confusion_matrix(test_y, predict_y):\n",
    "    C = confusion_matrix(test_y, predict_y)\n",
    "    # C = 9,9 matrix, each cell (i,j) represents number of points of class i are predicted class j\n",
    "    \n",
    "    A = ( ( (C.T)/(C.sum(axis=1)) ).T )\n",
    "    # divid each element of the confusion matrix with the sum of elements in that column\n",
    "    \n",
    "    # C = [[1, 2],\n",
    "    #      [3, 4]]\n",
    "    # C.T = [[1, 3],\n",
    "    #        [2, 4]]\n",
    "    # C.sum(axis=1)  axis=0 corresonds to columns and axis=1 corresponds to rows in two diamensional array\n",
    "    # C.sum(axis=1) = [[3, 7]]\n",
    "    # ((C.T)/(C.sum(axis=1))) = [[1/3, 3/7],\n",
    "    #                            [2/3, 4/7]]\n",
    "\n",
    "    # ((C.T)/(C.sum(axis=1))).T = [[1/3, 2/3],\n",
    "    #                              [3/7, 4/7]]\n",
    "    # sum of row elements = 1\n",
    "    \n",
    "    B = (C/C.sum(axis=0))\n",
    "    # divid each element of the confusion matrix with the sum of elements in that row\n",
    "    # C = [[1, 2],\n",
    "    #      [3, 4]]\n",
    "    # C.sum(axis=0)  axis=0 corresonds to columns and axis=1 corresponds to rows in two diamensional array\n",
    "    # C.sum(axix=0) = [[4, 6]]\n",
    "    # (C/C.sum(axis=0)) = [[1/4, 2/6]\n",
    "    #                     [3/4, 4/6]] \n",
    "    \n",
    "    plt.figure(figsize=(20, 4))\n",
    "    \n",
    "    labels = [0, 1]\n",
    "    cmap = sns.light_palette(\"blue\")\n",
    "\n",
    "    # representing C in heatmap format\n",
    "    plt.subplot(1, 3, 1)\n",
    "    sns.heatmap(C, annot=True, cmap=cmap, fmt=\".3f\", xticklabels=labels, yticklabels=labels)\n",
    "    plt.xlabel('Predicted Class')\n",
    "    plt.ylabel('Original Class')\n",
    "    plt.title(\"Confusion matrix\")\n",
    "    \n",
    "    # representing B in heatmap format\n",
    "    plt.subplot(1, 3, 2)\n",
    "    sns.heatmap(B, annot=True, cmap=cmap, fmt=\".3f\", xticklabels=labels, yticklabels=labels)\n",
    "    plt.xlabel('Predicted Class')\n",
    "    plt.ylabel('Original Class')\n",
    "    plt.title(\"Precision matrix\")\n",
    "    \n",
    "    # representing A in heatmap format\n",
    "    plt.subplot(1, 3, 3)\n",
    "    sns.heatmap(A, annot=True, cmap=cmap, fmt=\".3f\", xticklabels=labels, yticklabels=labels)\n",
    "    plt.xlabel('Predicted Class')\n",
    "    plt.ylabel('Original Class')\n",
    "    plt.title(\"Recall matrix\")\n",
    "    \n",
    "    plt.show()\n",
    "    return None"
   ]
  },
  {
   "cell_type": "markdown",
   "metadata": {
    "id": "OPwDA4YcO_A1"
   },
   "source": [
    "### Building a Random Model"
   ]
  },
  {
   "cell_type": "code",
   "execution_count": null,
   "metadata": {
    "colab": {
     "base_uri": "https://localhost:8080/",
     "height": 312
    },
    "id": "ONQy93AbO6MU",
    "outputId": "e84dc174-c009-482e-be74-52933bbeec98"
   },
   "outputs": [
    {
     "name": "stdout",
     "output_type": "stream",
     "text": [
      "Log loss on Test Data using Random Model :  0.8901943485213246\n"
     ]
    },
    {
     "data": {
      "image/png": "[encoded data removed]",
      "text/plain": [
       "<Figure size 1440x288 with 6 Axes>"
      ]
     },
     "metadata": {
      "needs_background": "light",
      "tags": []
     },
     "output_type": "display_data"
    }
   ],
   "source": [
    "rand_pred_y = np.zeros((test_len, 2))\n",
    "\n",
    "for i in list(range(test_len)):\n",
    "    rand_probs = np.random.rand(1, 2)\n",
    "    prob_val = (rand_probs / sum(rand_probs[0]))[0]\n",
    "    rand_pred_y[i] = prob_val\n",
    "\n",
    "print(\"Log loss on Test Data using Random Model : \", log_loss(y_test, rand_pred_y, eps=1e-15))\n",
    "rand_pred_y = np.argmax(rand_pred_y, axis=1)\n",
    "plot_confusion_matrix(y_test, rand_pred_y)"
   ]
  },
  {
   "cell_type": "markdown",
   "metadata": {
    "id": "M2Ae0o0fRslH"
   },
   "source": [
    "### Building a Standard Model"
   ]
  },
  {
   "cell_type": "code",
   "execution_count": null,
   "metadata": {
    "id": "ZN8Tg-4Meahj"
   },
   "outputs": [],
   "source": [
    "def build_model(X_train, X_test, y_train, y_test, loss_type, alpha_params):\n",
    "    log_error_array = []\n",
    "    for i in alpha_params:\n",
    "        clf = SGDClassifier(alpha=i, loss=loss_type, random_state=42)\n",
    "\n",
    "        clf.fit(X_train, y_train)\n",
    "        sig_clf = CalibratedClassifierCV(base_estimator=clf, method='sigmoid')\n",
    "        sig_clf.fit(X_train, y_train)\n",
    "\n",
    "        test_i_pred_y = sig_clf.predict_proba(X_test)\n",
    "        lloss = log_loss(y_test, test_i_pred_y, labels=clf.classes_, eps=1e-15)\n",
    "        log_error_array.append(lloss)\n",
    "\n",
    "        print('For values of alpha = ', i, \"The log loss is : \", lloss)\n",
    "\n",
    "    plt.figure()\n",
    "    plt.plot(alpha, log_error_array, c='g')\n",
    "\n",
    "    for i, txt in enumerate(np.round(log_error_array, 3)):\n",
    "        plt.annotate((alpha_params[i], np.round(txt, 3)), (alpha_params[i], log_error_array[i]))\n",
    "    \n",
    "    plt.grid()\n",
    "    plt.title(\"Cross Validation Error for each alpha\")\n",
    "    plt.xlabel(\"Alpha i's\")\n",
    "    plt.ylabel(\"Error measure\")\n",
    "    plt.show()\n",
    "\n",
    "    best_alpha = np.argmin(log_error_array)\n",
    "    clf = SGDClassifier(alpha=alpha_params[best_alpha], penalty='l2', loss=loss_type, random_state=42)\n",
    "    clf.fit(X_train, y_train)\n",
    "    sig_clf = CalibratedClassifierCV(clf, method=\"sigmoid\")\n",
    "    sig_clf.fit(X_train, y_train)\n",
    "\n",
    "    train_pred_y = sig_clf.predict_proba(X_train)\n",
    "    print('For values of best alpha = ', alpha_params[best_alpha], \"The train log loss is : \", log_loss(y_train, train_pred_y, labels=clf.classes_, eps=1e-15))\n",
    "\n",
    "    test_pred_y = sig_clf.predict_proba(X_test)\n",
    "    print('For values of best alpha = ', alpha_params[best_alpha], \"The test log loss is : \", log_loss(y_test, test_pred_y, labels=clf.classes_, eps=1e-15))\n",
    "\n",
    "    test_pred_y = np.argmax(test_pred_y, axis=1)\n",
    "    print(\"Total number of data points : \", len(test_pred_y))\n",
    "\n",
    "    plot_confusion_matrix(y_test, test_pred_y)\n",
    "    return None"
   ]
  },
  {
   "cell_type": "markdown",
   "metadata": {
    "id": "uXWljshte3_1"
   },
   "source": [
    "**Logistic Regression**"
   ]
  },
  {
   "cell_type": "code",
   "execution_count": null,
   "metadata": {
    "colab": {
     "base_uri": "https://localhost:8080/",
     "height": 743
    },
    "id": "7JmI3pWNQAaE",
    "outputId": "8513e3bf-7cd6-4c13-cbe6-558b4cbe79a0"
   },
   "outputs": [
    {
     "name": "stdout",
     "output_type": "stream",
     "text": [
      "For values of alpha =  1e-05 The log loss is :  0.4769120994431876\n",
      "For values of alpha =  0.0001 The log loss is :  0.4469465543678218\n",
      "For values of alpha =  0.001 The log loss is :  0.43825419056731457\n",
      "For values of alpha =  0.01 The log loss is :  0.4517437568201926\n",
      "For values of alpha =  0.1 The log loss is :  0.44779691081367823\n",
      "For values of alpha =  1 The log loss is :  0.47695167269108496\n",
      "For values of alpha =  10 The log loss is :  0.5180263466788809\n"
     ]
    },
    {
     "data": {
      "image/png": "[encoded data removed]",
      "text/plain": [
       "<Figure size 432x288 with 1 Axes>"
      ]
     },
     "metadata": {
      "needs_background": "light",
      "tags": []
     },
     "output_type": "display_data"
    },
    {
     "name": "stdout",
     "output_type": "stream",
     "text": [
      "For values of best alpha =  0.001 The train log loss is :  0.43153236877483736\n",
      "For values of best alpha =  0.001 The test log loss is :  0.43825419056731457\n",
      "Total number of data points :  30001\n"
     ]
    },
    {
     "data": {
      "image/png": "[encoded data removed]",
      "text/plain": [
       "<Figure size 1440x288 with 6 Axes>"
      ]
     },
     "metadata": {
      "needs_background": "light",
      "tags": []
     },
     "output_type": "display_data"
    }
   ],
   "source": [
    "# hyperparameters\n",
    "alpha = [10 ** x for x in range(-5, 2)]\n",
    "build_model(X_train=X_train, X_test=X_test, y_train=y_train, y_test=y_test, loss_type='log', alpha_params=alpha)"
   ]
  },
  {
   "cell_type": "markdown",
   "metadata": {
    "id": "Php01jk6dYBS"
   },
   "source": [
    "**Linear SVM**"
   ]
  },
  {
   "cell_type": "code",
   "execution_count": null,
   "metadata": {
    "colab": {
     "base_uri": "https://localhost:8080/",
     "height": 743
    },
    "id": "WktBFepjZXKQ",
    "outputId": "56a9a6c6-1a18-4545-94a7-87971c34569f"
   },
   "outputs": [
    {
     "name": "stdout",
     "output_type": "stream",
     "text": [
      "For values of alpha =  1e-05 The log loss is :  0.513659830427372\n",
      "For values of alpha =  0.0001 The log loss is :  0.452470599529125\n",
      "For values of alpha =  0.001 The log loss is :  0.45631953595895813\n",
      "For values of alpha =  0.01 The log loss is :  0.44464536314844694\n",
      "For values of alpha =  0.1 The log loss is :  0.4464284198891567\n",
      "For values of alpha =  1 The log loss is :  0.4751739878493823\n",
      "For values of alpha =  10 The log loss is :  0.512693631233749\n"
     ]
    },
    {
     "data": {
      "image/png": "[encoded data removed]",
      "text/plain": [
       "<Figure size 432x288 with 1 Axes>"
      ]
     },
     "metadata": {
      "needs_background": "light",
      "tags": []
     },
     "output_type": "display_data"
    },
    {
     "name": "stdout",
     "output_type": "stream",
     "text": [
      "For values of best alpha =  0.01 The train log loss is :  0.4400454064322929\n",
      "For values of best alpha =  0.01 The test log loss is :  0.44464536314844694\n",
      "Total number of data points :  30001\n"
     ]
    },
    {
     "data": {
      "image/png": "[encoded data removed]",
      "text/plain": [
       "<Figure size 1440x288 with 6 Axes>"
      ]
     },
     "metadata": {
      "needs_background": "light",
      "tags": []
     },
     "output_type": "display_data"
    }
   ],
   "source": [
    "# hyperparameters\n",
    "alpha = [10 ** x for x in range(-5, 2)]\n",
    "build_model(X_train=X_train, X_test=X_test, y_train=y_train, y_test=y_test, loss_type='hinge', alpha_params=alpha)"
   ]
  },
  {
   "cell_type": "markdown",
   "metadata": {
    "id": "rO4Vt2JJWsvj"
   },
   "source": [
    "**XGBoost**"
   ]
  },
  {
   "cell_type": "code",
   "execution_count": null,
   "metadata": {
    "id": "mtxlPvr-JQ95"
   },
   "outputs": [],
   "source": [
    "def build_xgb_model(X_train, X_test, y_train, y_test, objective, eval_metric, eta, max_depth):\n",
    "    params = {}\n",
    "\n",
    "    params['objective'] = objective\n",
    "    params['eval_metric'] = eval_metric\n",
    "    params['eta'] = eta\n",
    "    params['max_depth'] = max_depth\n",
    "\n",
    "    d_train = xgb.DMatrix(data=X_train, label=y_train)\n",
    "    d_test = xgb.DMatrix(data=X_test, label=y_test)\n",
    "\n",
    "    watchlist = [(d_train, 'train'), (d_test, 'valid')]\n",
    "    bst = xgb.train(params=params, dtrain=d_train, num_boost_round=400, evals=watchlist, early_stopping_rounds=20, verbose_eval=10)\n",
    "\n",
    "    xgdmat = xgb.DMatrix(data=X_train, label=y_train)\n",
    "    preds = bst.predict(d_test)\n",
    "    val_str = \"The test log loss is : {}\".format(log_loss(y_test, preds))\n",
    "\n",
    "    return val_str"
   ]
  },
  {
   "cell_type": "code",
   "execution_count": null,
   "metadata": {
    "colab": {
     "base_uri": "https://localhost:8080/",
     "height": 783
    },
    "id": "OCF2-VjYZSY6",
    "outputId": "8c943fe5-634c-4f7c-b1f7-3c1a2454c115"
   },
   "outputs": [
    {
     "name": "stdout",
     "output_type": "stream",
     "text": [
      "[0]\ttrain-logloss:0.684892\tvalid-logloss:0.684931\n",
      "Multiple eval metrics have been passed: 'valid-logloss' will be used for early stopping.\n",
      "\n",
      "Will train until valid-logloss hasn't improved in 20 rounds.\n",
      "[10]\ttrain-logloss:0.615925\tvalid-logloss:0.616313\n",
      "[20]\ttrain-logloss:0.564983\tvalid-logloss:0.56552\n",
      "[30]\ttrain-logloss:0.526959\tvalid-logloss:0.527663\n",
      "[40]\ttrain-logloss:0.497958\tvalid-logloss:0.498824\n",
      "[50]\ttrain-logloss:0.475395\tvalid-logloss:0.476438\n",
      "[60]\ttrain-logloss:0.45707\tvalid-logloss:0.458314\n",
      "[70]\ttrain-logloss:0.442274\tvalid-logloss:0.443742\n",
      "[80]\ttrain-logloss:0.430222\tvalid-logloss:0.43186\n",
      "[90]\ttrain-logloss:0.420584\tvalid-logloss:0.422462\n",
      "[100]\ttrain-logloss:0.412455\tvalid-logloss:0.414553\n",
      "[110]\ttrain-logloss:0.405686\tvalid-logloss:0.407976\n",
      "[120]\ttrain-logloss:0.400133\tvalid-logloss:0.402551\n",
      "[130]\ttrain-logloss:0.395345\tvalid-logloss:0.397911\n",
      "[140]\ttrain-logloss:0.391077\tvalid-logloss:0.3939\n",
      "[150]\ttrain-logloss:0.387476\tvalid-logloss:0.390556\n",
      "[160]\ttrain-logloss:0.384283\tvalid-logloss:0.387566\n",
      "[170]\ttrain-logloss:0.381389\tvalid-logloss:0.384879\n",
      "[180]\ttrain-logloss:0.378763\tvalid-logloss:0.38254\n",
      "[190]\ttrain-logloss:0.376525\tvalid-logloss:0.380547\n",
      "[200]\ttrain-logloss:0.37433\tvalid-logloss:0.378619\n",
      "[210]\ttrain-logloss:0.372313\tvalid-logloss:0.37687\n",
      "[220]\ttrain-logloss:0.370202\tvalid-logloss:0.37505\n",
      "[230]\ttrain-logloss:0.368269\tvalid-logloss:0.373406\n",
      "[240]\ttrain-logloss:0.366544\tvalid-logloss:0.371934\n",
      "[250]\ttrain-logloss:0.364785\tvalid-logloss:0.370444\n",
      "[260]\ttrain-logloss:0.362965\tvalid-logloss:0.368897\n",
      "[270]\ttrain-logloss:0.361238\tvalid-logloss:0.367548\n",
      "[280]\ttrain-logloss:0.359663\tvalid-logloss:0.366318\n",
      "[290]\ttrain-logloss:0.358183\tvalid-logloss:0.365207\n",
      "[300]\ttrain-logloss:0.356735\tvalid-logloss:0.364082\n",
      "[310]\ttrain-logloss:0.355403\tvalid-logloss:0.363164\n",
      "[320]\ttrain-logloss:0.354051\tvalid-logloss:0.362223\n",
      "[330]\ttrain-logloss:0.35274\tvalid-logloss:0.361268\n",
      "[340]\ttrain-logloss:0.351295\tvalid-logloss:0.360262\n",
      "[350]\ttrain-logloss:0.350116\tvalid-logloss:0.359411\n",
      "[360]\ttrain-logloss:0.348995\tvalid-logloss:0.358639\n",
      "[370]\ttrain-logloss:0.347903\tvalid-logloss:0.357889\n",
      "[380]\ttrain-logloss:0.346756\tvalid-logloss:0.357129\n",
      "[390]\ttrain-logloss:0.345701\tvalid-logloss:0.356467\n",
      "[399]\ttrain-logloss:0.344888\tvalid-logloss:0.355906\n"
     ]
    },
    {
     "data": {
      "application/vnd.google.colaboratory.intrinsic+json": {
       "type": "string"
      },
      "text/plain": [
       "'The test log loss is : 0.3559063042927815'"
      ]
     },
     "execution_count": 27,
     "metadata": {
      "tags": []
     },
     "output_type": "execute_result"
    }
   ],
   "source": [
    "build_xgb_model(X_train=X_train, X_test=X_test, y_train=y_train, y_test=y_test, objective='binary:logistic', eval_metric='logloss', eta=0.02, max_depth=4)"
   ]
  },
  {
   "cell_type": "markdown",
   "metadata": {
    "id": "F0SN-oUkm57W"
   },
   "source": [
    "### Assignment"
   ]
  },
  {
   "cell_type": "markdown",
   "metadata": {
    "id": "WbLqGLHCm3We"
   },
   "source": [
    "1. Try out models (Logistic regression, Linear-SVM) with simple TF-IDF vectors instead of TD_IDF weighted word2Vec.\n",
    "\n",
    "2. Perform hyperparameter tuning  of XgBoost models using RandomsearchCV with vectorizer as TF-IDF W2V  to reduce the log-loss."
   ]
  }
 ],
 "metadata": {
  "accelerator": "GPU",
  "colab": {
   "collapsed_sections": [],
   "name": "4-quora-modelling",
   "provenance": []
  },
  "kernelspec": {
   "display_name": "Python 3",
   "language": "python",
   "name": "python3"
  },
  "language_info": {
   "codemirror_mode": {
    "name": "ipython",
    "version": 3
   },
   "file_extension": ".py",
   "mimetype": "text/x-python",
   "name": "python",
   "nbconvert_exporter": "python",
   "pygments_lexer": "ipython3",
   "version": "3.8.4"
  }
 },
 "nbformat": 4,
 "nbformat_minor": 1
}
