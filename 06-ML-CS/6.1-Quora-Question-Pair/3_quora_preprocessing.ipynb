{
  "nbformat": 4,
  "nbformat_minor": 0,
  "metadata": {
    "colab": {
      "name": "3-quora-preprocessing",
      "provenance": []
    },
    "kernelspec": {
      "name": "python3",
      "display_name": "Python 3"
    },
    "language_info": {
      "name": "python"
    }
  },
  "cells": [
    {
      "cell_type": "markdown",
      "metadata": {
        "id": "S0f-nVvWYOhR"
      },
      "source": [
        "### `import` Packages"
      ]
    },
    {
      "cell_type": "code",
      "metadata": {
        "colab": {
          "base_uri": "https://localhost:8080/"
        },
        "id": "5NhHJCNUXYTP",
        "outputId": "6b05150f-fef2-42de-906b-a38cf359ae28"
      },
      "source": [
        "import warnings\n",
        "warnings.filterwarnings('ignore')\n",
        "\n",
        "import nltk\n",
        "nltk.download('stopwords')\n",
        "\n",
        "import os\n",
        "import re\n",
        "import spacy\n",
        "import time\n",
        "\n",
        "import numpy as np\n",
        "import pandas as pd\n",
        "import seaborn as sns\n",
        "\n",
        "from nltk.corpus import stopwords\n",
        "from nltk.stem import PorterStemmer\n",
        "\n",
        "from sklearn.preprocessing import normalize\n",
        "from sklearn.feature_extraction.text import CountVectorizer\n",
        "from sklearn.feature_extraction.text import TfidfVectorizer\n",
        "\n",
        "from tqdm import tqdm\n",
        "from matplotlib import pyplot as plt\n",
        "from matplotlib import style\n",
        "\n",
        "style.use('seaborn-deep')"
      ],
      "execution_count": null,
      "outputs": [
        {
          "output_type": "stream",
          "text": [
            "[nltk_data] Downloading package stopwords to /root/nltk_data...\n",
            "[nltk_data]   Unzipping corpora/stopwords.zip.\n"
          ],
          "name": "stdout"
        }
      ]
    },
    {
      "cell_type": "code",
      "metadata": {
        "id": "9lVP3LVyYShh"
      },
      "source": [
        "folder_path = '/content/drive/MyDrive/AAIC/QQP/'"
      ],
      "execution_count": null,
      "outputs": []
    },
    {
      "cell_type": "code",
      "metadata": {
        "id": "Z0rfgB3SYWbn"
      },
      "source": [
        "STOP_WORDS = stopwords.words(\"english\")"
      ],
      "execution_count": null,
      "outputs": []
    },
    {
      "cell_type": "markdown",
      "metadata": {
        "id": "uFw1jMlEYj6A"
      },
      "source": [
        "#### Data Reading"
      ]
    },
    {
      "cell_type": "code",
      "metadata": {
        "id": "HJR-xwMiYXTe"
      },
      "source": [
        "df = pd.read_csv(folder_path + 'train.csv')\n",
        "\n",
        "df['question1'] = df['question1'].apply(lambda x : str(x))\n",
        "df['question2'] = df['question2'].apply(lambda x : str(x))"
      ],
      "execution_count": null,
      "outputs": []
    },
    {
      "cell_type": "code",
      "metadata": {
        "colab": {
          "base_uri": "https://localhost:8080/",
          "height": 204
        },
        "id": "zWEsMOeNeLMP",
        "outputId": "3532d94a-a19f-435d-de06-d540e0f99d03"
      },
      "source": [
        "df.head()"
      ],
      "execution_count": null,
      "outputs": [
        {
          "output_type": "execute_result",
          "data": {
            "text/html": [
              "<div>\n",
              "<style scoped>\n",
              "    .dataframe tbody tr th:only-of-type {\n",
              "        vertical-align: middle;\n",
              "    }\n",
              "\n",
              "    .dataframe tbody tr th {\n",
              "        vertical-align: top;\n",
              "    }\n",
              "\n",
              "    .dataframe thead th {\n",
              "        text-align: right;\n",
              "    }\n",
              "</style>\n",
              "<table border=\"1\" class=\"dataframe\">\n",
              "  <thead>\n",
              "    <tr style=\"text-align: right;\">\n",
              "      <th></th>\n",
              "      <th>id</th>\n",
              "      <th>qid1</th>\n",
              "      <th>qid2</th>\n",
              "      <th>question1</th>\n",
              "      <th>question2</th>\n",
              "      <th>is_duplicate</th>\n",
              "    </tr>\n",
              "  </thead>\n",
              "  <tbody>\n",
              "    <tr>\n",
              "      <th>0</th>\n",
              "      <td>0</td>\n",
              "      <td>1</td>\n",
              "      <td>2</td>\n",
              "      <td>What is the step by step guide to invest in sh...</td>\n",
              "      <td>What is the step by step guide to invest in sh...</td>\n",
              "      <td>0</td>\n",
              "    </tr>\n",
              "    <tr>\n",
              "      <th>1</th>\n",
              "      <td>1</td>\n",
              "      <td>3</td>\n",
              "      <td>4</td>\n",
              "      <td>What is the story of Kohinoor (Koh-i-Noor) Dia...</td>\n",
              "      <td>What would happen if the Indian government sto...</td>\n",
              "      <td>0</td>\n",
              "    </tr>\n",
              "    <tr>\n",
              "      <th>2</th>\n",
              "      <td>2</td>\n",
              "      <td>5</td>\n",
              "      <td>6</td>\n",
              "      <td>How can I increase the speed of my internet co...</td>\n",
              "      <td>How can Internet speed be increased by hacking...</td>\n",
              "      <td>0</td>\n",
              "    </tr>\n",
              "    <tr>\n",
              "      <th>3</th>\n",
              "      <td>3</td>\n",
              "      <td>7</td>\n",
              "      <td>8</td>\n",
              "      <td>Why am I mentally very lonely? How can I solve...</td>\n",
              "      <td>Find the remainder when [math]23^{24}[/math] i...</td>\n",
              "      <td>0</td>\n",
              "    </tr>\n",
              "    <tr>\n",
              "      <th>4</th>\n",
              "      <td>4</td>\n",
              "      <td>9</td>\n",
              "      <td>10</td>\n",
              "      <td>Which one dissolve in water quikly sugar, salt...</td>\n",
              "      <td>Which fish would survive in salt water?</td>\n",
              "      <td>0</td>\n",
              "    </tr>\n",
              "  </tbody>\n",
              "</table>\n",
              "</div>"
            ],
            "text/plain": [
              "   id  qid1  ...                                          question2 is_duplicate\n",
              "0   0     1  ...  What is the step by step guide to invest in sh...            0\n",
              "1   1     3  ...  What would happen if the Indian government sto...            0\n",
              "2   2     5  ...  How can Internet speed be increased by hacking...            0\n",
              "3   3     7  ...  Find the remainder when [math]23^{24}[/math] i...            0\n",
              "4   4     9  ...            Which fish would survive in salt water?            0\n",
              "\n",
              "[5 rows x 6 columns]"
            ]
          },
          "metadata": {
            "tags": []
          },
          "execution_count": 5
        }
      ]
    },
    {
      "cell_type": "code",
      "metadata": {
        "colab": {
          "base_uri": "https://localhost:8080/"
        },
        "id": "ABiiFxEgeW3W",
        "outputId": "41bc740d-6670-42c9-fe8d-8b462be2b6ac"
      },
      "source": [
        "df.dtypes"
      ],
      "execution_count": null,
      "outputs": [
        {
          "output_type": "execute_result",
          "data": {
            "text/plain": [
              "id               int64\n",
              "qid1             int64\n",
              "qid2             int64\n",
              "question1       object\n",
              "question2       object\n",
              "is_duplicate     int64\n",
              "dtype: object"
            ]
          },
          "metadata": {
            "tags": []
          },
          "execution_count": 6
        }
      ]
    },
    {
      "cell_type": "code",
      "metadata": {
        "colab": {
          "base_uri": "https://localhost:8080/"
        },
        "id": "RZXNdfu3BpYR",
        "outputId": "dbdf93cc-1788-4a7e-96be-6d6a1c123abd"
      },
      "source": [
        "df.shape"
      ],
      "execution_count": null,
      "outputs": [
        {
          "output_type": "execute_result",
          "data": {
            "text/plain": [
              "(404290, 6)"
            ]
          },
          "metadata": {
            "tags": []
          },
          "execution_count": 7
        }
      ]
    },
    {
      "cell_type": "code",
      "metadata": {
        "colab": {
          "base_uri": "https://localhost:8080/"
        },
        "id": "paBH-Vcrel-t",
        "outputId": "65eb0e06-a3cf-4a27-a7bf-8937a6cf161d"
      },
      "source": [
        "questions = df['question1'].to_list() + df['question2'].to_list()\n",
        "print(len(questions))"
      ],
      "execution_count": null,
      "outputs": [
        {
          "output_type": "stream",
          "text": [
            "808580\n"
          ],
          "name": "stdout"
        }
      ]
    },
    {
      "cell_type": "markdown",
      "metadata": {
        "id": "zO8s8mRoe-cV"
      },
      "source": [
        "### TFIDF Vectorizer"
      ]
    },
    {
      "cell_type": "code",
      "metadata": {
        "colab": {
          "base_uri": "https://localhost:8080/"
        },
        "id": "_SHAUeMLe58t",
        "outputId": "412b8c8d-382e-4b69-d896-2b8364cc0703"
      },
      "source": [
        "tfidf = TfidfVectorizer(lowercase=False)\n",
        "tfidf.fit_transform(raw_documents=questions)"
      ],
      "execution_count": null,
      "outputs": [
        {
          "output_type": "execute_result",
          "data": {
            "text/plain": [
              "<808580x109679 sparse matrix of type '<class 'numpy.float64'>'\n",
              "\twith 8146555 stored elements in Compressed Sparse Row format>"
            ]
          },
          "metadata": {
            "tags": []
          },
          "execution_count": 9
        }
      ]
    },
    {
      "cell_type": "code",
      "metadata": {
        "id": "qFcWQ4G-faGu"
      },
      "source": [
        "words_tfidf = dict(zip(tfidf.get_feature_names(), tfidf.idf_))"
      ],
      "execution_count": null,
      "outputs": []
    },
    {
      "cell_type": "markdown",
      "metadata": {
        "id": "U6-iaH3Fgf7G"
      },
      "source": [
        "### TFIDF Weighted Avg W2V"
      ]
    },
    {
      "cell_type": "code",
      "metadata": {
        "id": "3LheEADofvDF"
      },
      "source": [
        "def fetch_weighted_avg_vectors(dframe, col_name, feature_names_with_idf_val, n_rows=None):\n",
        "    nlp = spacy.load('en_core_web_sm')\n",
        "    col_vals = dframe[col_name].to_list()[:n_rows]\n",
        "\n",
        "    vecs = []\n",
        "    for q in tqdm(col_vals):\n",
        "        doc = nlp(q)\n",
        "        mean_vec = np.zeros(shape=(len(doc), len(doc[0].vector)))\n",
        "\n",
        "        for word in doc:\n",
        "            vec = word.vector\n",
        "            \n",
        "            try:\n",
        "                idf_val = feature_names_with_idf_val[str(word)]\n",
        "            except Exception as e:\n",
        "                idf_val = 0\n",
        "            \n",
        "            mean_vec += vec * idf_val\n",
        "        \n",
        "        mean_vec = mean_vec.mean(axis=0)\n",
        "        vecs.append(mean_vec)\n",
        "    \n",
        "    return vecs"
      ],
      "execution_count": null,
      "outputs": []
    },
    {
      "cell_type": "code",
      "metadata": {
        "id": "8q0WMFHIiZ6m"
      },
      "source": [
        "# question1_vecs = fetch_weighted_avg_vectors(dframe=df, col_name='question1', feature_names_with_idf_val=words_tfidf)\n",
        "# question2_vecs = fetch_weighted_avg_vectors(dframe=df, col_name='question2', feature_names_with_idf_val=words_tfidf)\n",
        "# df['q1_feats_m'] = question1_vecs\n",
        "# df['q2_feats_m'] = question2_vecs"
      ],
      "execution_count": null,
      "outputs": []
    },
    {
      "cell_type": "code",
      "metadata": {
        "id": "M6D5wFtKlPjG"
      },
      "source": [
        ""
      ],
      "execution_count": null,
      "outputs": []
    }
  ]
}