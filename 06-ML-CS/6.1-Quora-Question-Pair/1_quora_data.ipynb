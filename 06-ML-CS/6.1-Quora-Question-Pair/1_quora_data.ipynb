{
  "nbformat": 4,
  "nbformat_minor": 0,
  "metadata": {
    "colab": {
      "name": "1-quora-data",
      "provenance": [],
      "collapsed_sections": []
    },
    "kernelspec": {
      "name": "python3",
      "display_name": "Python 3"
    },
    "language_info": {
      "name": "python"
    }
  },
  "cells": [
    {
      "cell_type": "markdown",
      "metadata": {
        "id": "c-q52-93tusf"
      },
      "source": [
        "### `import` Packages"
      ]
    },
    {
      "cell_type": "code",
      "metadata": {
        "id": "At6IojEAs4oJ"
      },
      "source": [
        "import warnings\n",
        "warnings.filterwarnings('ignore')\n",
        "\n",
        "import os\n",
        "import numpy as np\n",
        "import pandas as pd\n",
        "import seaborn as sns\n",
        "\n",
        "from matplotlib import pyplot as plt\n",
        "from matplotlib import style\n",
        "\n",
        "style.use('seaborn-deep')"
      ],
      "execution_count": null,
      "outputs": []
    },
    {
      "cell_type": "code",
      "metadata": {
        "id": "W5PxToT6tAdH"
      },
      "source": [
        "folder_path = '/content/drive/MyDrive/AAIC/QQP/'"
      ],
      "execution_count": null,
      "outputs": []
    },
    {
      "cell_type": "markdown",
      "metadata": {
        "id": "UwRBBmsStyTH"
      },
      "source": [
        "### Data Reading"
      ]
    },
    {
      "cell_type": "code",
      "metadata": {
        "id": "3YRzsOW6tFMu"
      },
      "source": [
        "df = pd.read_csv(folder_path + 'train.csv')"
      ],
      "execution_count": null,
      "outputs": []
    },
    {
      "cell_type": "code",
      "metadata": {
        "colab": {
          "base_uri": "https://localhost:8080/"
        },
        "id": "27Nt2a4qtnd2",
        "outputId": "b7fa9b3f-69b5-4157-d6bf-ba53bebb5732"
      },
      "source": [
        "df.shape"
      ],
      "execution_count": null,
      "outputs": [
        {
          "output_type": "execute_result",
          "data": {
            "text/plain": [
              "(404290, 6)"
            ]
          },
          "metadata": {
            "tags": []
          },
          "execution_count": 4
        }
      ]
    },
    {
      "cell_type": "code",
      "metadata": {
        "colab": {
          "base_uri": "https://localhost:8080/",
          "height": 204
        },
        "id": "vlWyeDyltp7l",
        "outputId": "a4107e00-e93b-4ca1-d712-bc49e401d7f2"
      },
      "source": [
        "df.head()"
      ],
      "execution_count": null,
      "outputs": [
        {
          "output_type": "execute_result",
          "data": {
            "text/html": [
              "<div>\n",
              "<style scoped>\n",
              "    .dataframe tbody tr th:only-of-type {\n",
              "        vertical-align: middle;\n",
              "    }\n",
              "\n",
              "    .dataframe tbody tr th {\n",
              "        vertical-align: top;\n",
              "    }\n",
              "\n",
              "    .dataframe thead th {\n",
              "        text-align: right;\n",
              "    }\n",
              "</style>\n",
              "<table border=\"1\" class=\"dataframe\">\n",
              "  <thead>\n",
              "    <tr style=\"text-align: right;\">\n",
              "      <th></th>\n",
              "      <th>id</th>\n",
              "      <th>qid1</th>\n",
              "      <th>qid2</th>\n",
              "      <th>question1</th>\n",
              "      <th>question2</th>\n",
              "      <th>is_duplicate</th>\n",
              "    </tr>\n",
              "  </thead>\n",
              "  <tbody>\n",
              "    <tr>\n",
              "      <th>0</th>\n",
              "      <td>0</td>\n",
              "      <td>1</td>\n",
              "      <td>2</td>\n",
              "      <td>What is the step by step guide to invest in sh...</td>\n",
              "      <td>What is the step by step guide to invest in sh...</td>\n",
              "      <td>0</td>\n",
              "    </tr>\n",
              "    <tr>\n",
              "      <th>1</th>\n",
              "      <td>1</td>\n",
              "      <td>3</td>\n",
              "      <td>4</td>\n",
              "      <td>What is the story of Kohinoor (Koh-i-Noor) Dia...</td>\n",
              "      <td>What would happen if the Indian government sto...</td>\n",
              "      <td>0</td>\n",
              "    </tr>\n",
              "    <tr>\n",
              "      <th>2</th>\n",
              "      <td>2</td>\n",
              "      <td>5</td>\n",
              "      <td>6</td>\n",
              "      <td>How can I increase the speed of my internet co...</td>\n",
              "      <td>How can Internet speed be increased by hacking...</td>\n",
              "      <td>0</td>\n",
              "    </tr>\n",
              "    <tr>\n",
              "      <th>3</th>\n",
              "      <td>3</td>\n",
              "      <td>7</td>\n",
              "      <td>8</td>\n",
              "      <td>Why am I mentally very lonely? How can I solve...</td>\n",
              "      <td>Find the remainder when [math]23^{24}[/math] i...</td>\n",
              "      <td>0</td>\n",
              "    </tr>\n",
              "    <tr>\n",
              "      <th>4</th>\n",
              "      <td>4</td>\n",
              "      <td>9</td>\n",
              "      <td>10</td>\n",
              "      <td>Which one dissolve in water quikly sugar, salt...</td>\n",
              "      <td>Which fish would survive in salt water?</td>\n",
              "      <td>0</td>\n",
              "    </tr>\n",
              "  </tbody>\n",
              "</table>\n",
              "</div>"
            ],
            "text/plain": [
              "   id  qid1  ...                                          question2 is_duplicate\n",
              "0   0     1  ...  What is the step by step guide to invest in sh...            0\n",
              "1   1     3  ...  What would happen if the Indian government sto...            0\n",
              "2   2     5  ...  How can Internet speed be increased by hacking...            0\n",
              "3   3     7  ...  Find the remainder when [math]23^{24}[/math] i...            0\n",
              "4   4     9  ...            Which fish would survive in salt water?            0\n",
              "\n",
              "[5 rows x 6 columns]"
            ]
          },
          "metadata": {
            "tags": []
          },
          "execution_count": 5
        }
      ]
    },
    {
      "cell_type": "markdown",
      "metadata": {
        "id": "3kUw_62CucE1"
      },
      "source": [
        "# EDA"
      ]
    },
    {
      "cell_type": "code",
      "metadata": {
        "colab": {
          "base_uri": "https://localhost:8080/",
          "height": 279
        },
        "id": "6rKev5NFtq3t",
        "outputId": "ea810c53-38e0-43ad-e27b-f4eb4d38b897"
      },
      "source": [
        "dup_counts = df['is_duplicate'].value_counts().to_frame()\n",
        "dup_counts.plot(kind='bar')"
      ],
      "execution_count": null,
      "outputs": [
        {
          "output_type": "execute_result",
          "data": {
            "text/plain": [
              "<matplotlib.axes._subplots.AxesSubplot at 0x7f7be87d1650>"
            ]
          },
          "metadata": {
            "tags": []
          },
          "execution_count": 6
        },
        {
          "output_type": "display_data",
          "data": {
            "image/png": "[encoded data removed]",
            "text/plain": [
              "<Figure size 432x288 with 1 Axes>"
            ]
          },
          "metadata": {
            "tags": [],
            "needs_background": "light"
          }
        }
      ]
    },
    {
      "cell_type": "code",
      "metadata": {
        "colab": {
          "base_uri": "https://localhost:8080/",
          "height": 111
        },
        "id": "VYAqj4OMutOf",
        "outputId": "2c237278-0b4b-4504-aede-a37ae4bc921f"
      },
      "source": [
        "percentage_vals = dup_counts.apply(lambda x : round(((x / df.shape[0]) * 100), 2))\n",
        "dup_counts['percetange'] = percentage_vals\n",
        "dup_counts"
      ],
      "execution_count": null,
      "outputs": [
        {
          "output_type": "execute_result",
          "data": {
            "text/html": [
              "<div>\n",
              "<style scoped>\n",
              "    .dataframe tbody tr th:only-of-type {\n",
              "        vertical-align: middle;\n",
              "    }\n",
              "\n",
              "    .dataframe tbody tr th {\n",
              "        vertical-align: top;\n",
              "    }\n",
              "\n",
              "    .dataframe thead th {\n",
              "        text-align: right;\n",
              "    }\n",
              "</style>\n",
              "<table border=\"1\" class=\"dataframe\">\n",
              "  <thead>\n",
              "    <tr style=\"text-align: right;\">\n",
              "      <th></th>\n",
              "      <th>is_duplicate</th>\n",
              "      <th>percetange</th>\n",
              "    </tr>\n",
              "  </thead>\n",
              "  <tbody>\n",
              "    <tr>\n",
              "      <th>0</th>\n",
              "      <td>255027</td>\n",
              "      <td>63.08</td>\n",
              "    </tr>\n",
              "    <tr>\n",
              "      <th>1</th>\n",
              "      <td>149263</td>\n",
              "      <td>36.92</td>\n",
              "    </tr>\n",
              "  </tbody>\n",
              "</table>\n",
              "</div>"
            ],
            "text/plain": [
              "   is_duplicate  percetange\n",
              "0        255027       63.08\n",
              "1        149263       36.92"
            ]
          },
          "metadata": {
            "tags": []
          },
          "execution_count": 7
        }
      ]
    },
    {
      "cell_type": "markdown",
      "metadata": {
        "id": "SEK1-lHkvCDO"
      },
      "source": [
        "The output (target) feature is binary in nature. Therefore it is a binary classification problem where $y_i \\in \\{0, 1\\}$.\n",
        "\n",
        "* We do not want the out to be just in `1` and `0`.\n",
        "\n",
        "* We actually have to care about the probability value and by setting a threshold, we can be able to classify the questions.\n",
        "\n",
        "$$P(Q_1 \\simeq Q_2) \\rightarrow \\{0, 1\\}$$\n",
        "\n",
        "* Whenever we have a probability value, `log-loss` is one of the best metrics to evaluate the model performance.\n",
        "\n",
        "* Binary confusion matrix."
      ]
    },
    {
      "cell_type": "markdown",
      "metadata": {
        "id": "_sfRlrG_6LD1"
      },
      "source": [
        "### Number of Unique Questions"
      ]
    },
    {
      "cell_type": "code",
      "metadata": {
        "colab": {
          "base_uri": "https://localhost:8080/"
        },
        "id": "Pgkfwbga6ZKk",
        "outputId": "1d796699-50ec-4193-d990-df802dcc4992"
      },
      "source": [
        "list(df.columns)"
      ],
      "execution_count": null,
      "outputs": [
        {
          "output_type": "execute_result",
          "data": {
            "text/plain": [
              "['id', 'qid1', 'qid2', 'question1', 'question2', 'is_duplicate']"
            ]
          },
          "metadata": {
            "tags": []
          },
          "execution_count": 8
        }
      ]
    },
    {
      "cell_type": "code",
      "metadata": {
        "colab": {
          "base_uri": "https://localhost:8080/"
        },
        "id": "ymqUOf_P4LP9",
        "outputId": "9174d59a-e48a-493f-95d6-d5f59d74d02f"
      },
      "source": [
        "all_questions = pd.Series(df['qid1'].to_list() + df['qid2'].to_list())\n",
        "print('Total number of questions are : {}'.format(len(all_questions)))\n",
        "\n",
        "unique_questions = list(set(all_questions))\n",
        "unique_question_len = len(unique_questions)\n",
        "print('Total unique questions are : {}'.format(unique_question_len))\n",
        "\n",
        "question_freq = all_questions.value_counts().to_frame()\n",
        "print('Max number of times a single question is repeated : {}'.format(question_freq.iloc[0].values[0]))\n",
        "\n",
        "repeatative_questions = np.sum(np.where((question_freq[0] != 1), 1, 0))\n",
        "print(\"Total number of questions that repaeat more than once : {}\".format(repeatative_questions))\n",
        "\n",
        "non_repeatative_questions = unique_question_len - repeatative_questions\n",
        "print(\"Total number of questions that do not repaeat more than once : {}\".format(non_repeatative_questions))"
      ],
      "execution_count": null,
      "outputs": [
        {
          "output_type": "stream",
          "text": [
            "Total number of questions are : 808580\n",
            "Total unique questions are : 537933\n",
            "Max number of times a single question is repeated : 157\n",
            "Total number of questions that repaeat more than once : 111780\n",
            "Total number of questions that do not repaeat more than once : 426153\n"
          ],
          "name": "stdout"
        }
      ]
    },
    {
      "cell_type": "code",
      "metadata": {
        "colab": {
          "base_uri": "https://localhost:8080/",
          "height": 265
        },
        "id": "L3F-vwqIGsP7",
        "outputId": "9d5e5bbf-bbc5-4627-b910-1b730d07d87c"
      },
      "source": [
        "x_ = ['repeatative', 'non-repeatative']\n",
        "y_ = [repeatative_questions, unique_question_len]\n",
        "plt.bar(x_, y_)\n",
        "plt.show()"
      ],
      "execution_count": null,
      "outputs": [
        {
          "output_type": "display_data",
          "data": {
            "image/png": "[encoded data removed]",
            "text/plain": [
              "<Figure size 432x288 with 1 Axes>"
            ]
          },
          "metadata": {
            "tags": [],
            "needs_background": "light"
          }
        }
      ]
    },
    {
      "cell_type": "markdown",
      "metadata": {
        "id": "esF_qjZWKHks"
      },
      "source": [
        "### Check for Duplicates"
      ]
    },
    {
      "cell_type": "code",
      "metadata": {
        "colab": {
          "base_uri": "https://localhost:8080/"
        },
        "id": "18KrvV_YIPST",
        "outputId": "16502242-4986-4e61-aa6b-fafe5aa9cd32"
      },
      "source": [
        "pair_duplicates = df[['qid1','qid2','is_duplicate']].groupby(['qid1','qid2']).count().reset_index()\n",
        "print (\"Number of duplicate questions\",(pair_duplicates).shape[0] - df.shape[0])"
      ],
      "execution_count": null,
      "outputs": [
        {
          "output_type": "stream",
          "text": [
            "Number of duplicate questions 0\n"
          ],
          "name": "stdout"
        }
      ]
    },
    {
      "cell_type": "code",
      "metadata": {
        "colab": {
          "base_uri": "https://localhost:8080/"
        },
        "id": "6dTeEvwLTpWL",
        "outputId": "f8af7849-d0d7-48c7-b1ec-e26cbcfe4ec5"
      },
      "source": [
        "df.duplicated(['qid1', 'qid2']).sum()"
      ],
      "execution_count": null,
      "outputs": [
        {
          "output_type": "execute_result",
          "data": {
            "text/plain": [
              "0"
            ]
          },
          "metadata": {
            "tags": []
          },
          "execution_count": 12
        }
      ]
    },
    {
      "cell_type": "markdown",
      "metadata": {
        "id": "RGPc6JhGKYCE"
      },
      "source": [
        "### Question Occurrence"
      ]
    },
    {
      "cell_type": "code",
      "metadata": {
        "colab": {
          "base_uri": "https://localhost:8080/",
          "height": 421
        },
        "id": "ZVR7FOWRKXds",
        "outputId": "e4d0a7e0-d42b-4ddc-e8ac-bf684754bcf1"
      },
      "source": [
        "plt.figure(figsize=(15, 6))\n",
        "\n",
        "qvals = question_freq.values\n",
        "plt.hist(qvals, bins=160)\n",
        "plt.yscale('log', nonposy='clip')\n",
        "plt.title('Log-Histogram of question appearance counts')\n",
        "plt.xlabel('Number of occurences of question')\n",
        "plt.ylabel('Number of questions')\n",
        "plt.show()\n",
        "\n",
        "print ('Maximum number of times a single question is repeated: {}'.format(max(qvals))) "
      ],
      "execution_count": null,
      "outputs": [
        {
          "output_type": "display_data",
          "data": {
            "image/png": "[encoded data removed]",
            "text/plain": [
              "<Figure size 1080x432 with 1 Axes>"
            ]
          },
          "metadata": {
            "tags": [],
            "needs_background": "light"
          }
        },
        {
          "output_type": "stream",
          "text": [
            "Maximum number of times a single question is repeated: [157]\n"
          ],
          "name": "stdout"
        }
      ]
    },
    {
      "cell_type": "markdown",
      "metadata": {
        "id": "9zDtoJlbLvlk"
      },
      "source": [
        "### Check for `NaN` values"
      ]
    },
    {
      "cell_type": "code",
      "metadata": {
        "id": "jGz0WDYELAr9"
      },
      "source": [
        "def get_nan_indices(dframe):\n",
        "    \"\"\"\n",
        "    dframe → pandas data frame object\n",
        "    returns `nan_places` a dictionary of column names and the `nan_indices`\n",
        "    \"\"\"\n",
        "    nan_places = {}\n",
        "    \n",
        "    for col in dframe.columns:\n",
        "        indices = list(np.where(dframe[col].isnull())[0])\n",
        "        nan_places[col] = indices\n",
        "    \n",
        "    return nan_places"
      ],
      "execution_count": null,
      "outputs": []
    },
    {
      "cell_type": "code",
      "metadata": {
        "colab": {
          "base_uri": "https://localhost:8080/"
        },
        "id": "md8JhYMcMOFT",
        "outputId": "905363ea-49f1-47eb-a4b5-aba2dda87be0"
      },
      "source": [
        "get_nan_indices(dframe=df)"
      ],
      "execution_count": null,
      "outputs": [
        {
          "output_type": "execute_result",
          "data": {
            "text/plain": [
              "{'id': [],\n",
              " 'is_duplicate': [],\n",
              " 'qid1': [],\n",
              " 'qid2': [],\n",
              " 'question1': [363362],\n",
              " 'question2': [105780, 201841]}"
            ]
          },
          "metadata": {
            "tags": []
          },
          "execution_count": 15
        }
      ]
    },
    {
      "cell_type": "code",
      "metadata": {
        "colab": {
          "base_uri": "https://localhost:8080/",
          "height": 142
        },
        "id": "05cjELMJMQWK",
        "outputId": "b100d8aa-62f3-492e-96ab-070e4f3802f1"
      },
      "source": [
        "nan_rows = df[df.isnull().any(1)]\n",
        "nan_rows"
      ],
      "execution_count": null,
      "outputs": [
        {
          "output_type": "execute_result",
          "data": {
            "text/html": [
              "<div>\n",
              "<style scoped>\n",
              "    .dataframe tbody tr th:only-of-type {\n",
              "        vertical-align: middle;\n",
              "    }\n",
              "\n",
              "    .dataframe tbody tr th {\n",
              "        vertical-align: top;\n",
              "    }\n",
              "\n",
              "    .dataframe thead th {\n",
              "        text-align: right;\n",
              "    }\n",
              "</style>\n",
              "<table border=\"1\" class=\"dataframe\">\n",
              "  <thead>\n",
              "    <tr style=\"text-align: right;\">\n",
              "      <th></th>\n",
              "      <th>id</th>\n",
              "      <th>qid1</th>\n",
              "      <th>qid2</th>\n",
              "      <th>question1</th>\n",
              "      <th>question2</th>\n",
              "      <th>is_duplicate</th>\n",
              "    </tr>\n",
              "  </thead>\n",
              "  <tbody>\n",
              "    <tr>\n",
              "      <th>105780</th>\n",
              "      <td>105780</td>\n",
              "      <td>174363</td>\n",
              "      <td>174364</td>\n",
              "      <td>How can I develop android app?</td>\n",
              "      <td>NaN</td>\n",
              "      <td>0</td>\n",
              "    </tr>\n",
              "    <tr>\n",
              "      <th>201841</th>\n",
              "      <td>201841</td>\n",
              "      <td>303951</td>\n",
              "      <td>174364</td>\n",
              "      <td>How can I create an Android app?</td>\n",
              "      <td>NaN</td>\n",
              "      <td>0</td>\n",
              "    </tr>\n",
              "    <tr>\n",
              "      <th>363362</th>\n",
              "      <td>363362</td>\n",
              "      <td>493340</td>\n",
              "      <td>493341</td>\n",
              "      <td>NaN</td>\n",
              "      <td>My Chinese name is Haichao Yu. What English na...</td>\n",
              "      <td>0</td>\n",
              "    </tr>\n",
              "  </tbody>\n",
              "</table>\n",
              "</div>"
            ],
            "text/plain": [
              "            id  ...  is_duplicate\n",
              "105780  105780  ...             0\n",
              "201841  201841  ...             0\n",
              "363362  363362  ...             0\n",
              "\n",
              "[3 rows x 6 columns]"
            ]
          },
          "metadata": {
            "tags": []
          },
          "execution_count": 16
        }
      ]
    },
    {
      "cell_type": "markdown",
      "metadata": {
        "id": "_lJcETxoNPDr"
      },
      "source": [
        "### Fill with `space`"
      ]
    },
    {
      "cell_type": "code",
      "metadata": {
        "id": "S6wlp7clMk4K"
      },
      "source": [
        "df = df.fillna('')"
      ],
      "execution_count": null,
      "outputs": []
    },
    {
      "cell_type": "markdown",
      "metadata": {
        "id": "B_hY4LOCP6Cq"
      },
      "source": [
        "### Basic Feature Extraction\n",
        "\n",
        "Let us now construct a few features like:\n",
        " - ____freq_qid1____ = Frequency of qid1's\n",
        " - ____freq_qid2____ = Frequency of qid2's \n",
        " - ____q1len____ = Length of q1\n",
        " - ____q2len____ = Length of q2\n",
        " - ____q1_n_words____ = Number of words in Question 1\n",
        " - ____q2_n_words____ = Number of words in Question 2\n",
        " - ____word_Common____ = (Number of common unique words in Question 1 and Question 2)\n",
        " - ____word_Total____ =(Total num of words in Question 1 + Total num of words in Question 2)\n",
        " - ____word_share____ = (word_common)/(word_Total)\n",
        " - ____freq_q1+freq_q2____ = sum total of frequency of qid1 and qid2 \n",
        " - ____freq_q1-freq_q2____ = absolute difference of frequency of qid1 and qid2 "
      ]
    },
    {
      "cell_type": "code",
      "metadata": {
        "id": "PIN03MW1W5dq"
      },
      "source": [
        "strip_with_lower = lambda word : word.lower().strip()\n",
        "strip_with_lower_seq = lambda word_list : list(map(strip_with_lower, word_list))\n",
        "\n",
        "separate_words = lambda question : question.split(\" \")\n",
        "count_words = lambda question : len(question.split(\" \"))\n",
        "\n",
        "common_words = lambda qq : 1.0 * len(qq[0] & qq[1])\n",
        "total_words = lambda qq : 1.0 * (len(qq[0]) + len(qq[1]))\n",
        "words_share = lambda qq : 1.0 * (len(qq[0] & qq[1]) / (len(qq[0]) + len(qq[1])))\n",
        "\n",
        "sum_q1q2 = lambda qq : sum(qq)\n",
        "abs_q1q2 = lambda qq : abs(qq[0] - qq[1])"
      ],
      "execution_count": null,
      "outputs": []
    },
    {
      "cell_type": "code",
      "metadata": {
        "id": "5Sv_Xm2fRBmy"
      },
      "source": [
        "class QuestionFeatureExraction:\n",
        "    def __init__(self, df, new_filename=None):\n",
        "        self.df = df\n",
        "        self.new_filename = new_filename\n",
        "\n",
        "        self.word_set_q1 = self.get_words_set(col_name='question1')\n",
        "        self.word_set_q2 = self.get_words_set(col_name='question2')\n",
        "        self.word_set_q1q2 = list(zip(self.word_set_q1, self.word_set_q2))\n",
        "    \n",
        "    def get_freq(self, col_name):\n",
        "        freq_val = self.df.groupby(col_name)[col_name].transform('count').to_list()\n",
        "        return freq_val\n",
        "    \n",
        "    def get_str_len(self, col_name):\n",
        "        len_val = self.df[col_name].str.len().to_list()\n",
        "        return len_val\n",
        "    \n",
        "    def get_words_count(self, col_name):\n",
        "        word_count = self.df[col_name].apply(count_words).to_list()\n",
        "        return word_count\n",
        "    \n",
        "    def get_words_set(self, col_name):\n",
        "        q = self.df[col_name].apply(separate_words)\n",
        "        word_set = list(map(set, list(map(strip_with_lower_seq, q))))\n",
        "        return word_set\n",
        "    \n",
        "    def get_common_words(self):\n",
        "        return list(map(common_words, self.word_set_q1q2))\n",
        "    \n",
        "    def get_total_words(self):\n",
        "        return list(map(total_words, self.word_set_q1q2))\n",
        "    \n",
        "    def get_word_share_ratio(self):\n",
        "        return list(map(words_share, self.word_set_q1q2))\n",
        "    \n",
        "    def get_op_freq_q1q2(self, col_name1, col_name2, op='sum'):\n",
        "        freq_q1 = self.get_freq(col_name=col_name1)\n",
        "        freq_q2 = self.get_freq(col_name=col_name2)\n",
        "        freq_q1q2 = list(zip(freq_q1, freq_q2))\n",
        "        \n",
        "        if (op == 'sum'):\n",
        "            return list(map(sum_q1q2, freq_q1q2))\n",
        "        return list(map(abs_q1q2, freq_q1q2))"
      ],
      "execution_count": null,
      "outputs": []
    },
    {
      "cell_type": "code",
      "metadata": {
        "colab": {
          "base_uri": "https://localhost:8080/",
          "height": 289
        },
        "id": "TJGt9ngzbroQ",
        "outputId": "0dc50f3b-a94b-4a95-9187-bb682784c077"
      },
      "source": [
        "if os.path.isfile(folder_path + 'df_fe_without_preprocessing_train.csv'):\n",
        "    print(\"Found in the folder\")\n",
        "    df = pd.read_csv(folder_path + 'df_fe_without_preprocessing_train.csv', encoding='latin-1')\n",
        "else:\n",
        "    print(\"Staring the process\")\n",
        "    qfe = QuestionFeatureExraction(df=df)\n",
        "\n",
        "    df['freq_qid1'] = qfe.get_freq(col_name='qid1')\n",
        "    df['freq_qid2'] = qfe.get_freq(col_name='qid2')\n",
        "\n",
        "    df['q1len'] = qfe.get_str_len(col_name='question1')\n",
        "    df['q2len'] = qfe.get_str_len(col_name='question2')\n",
        "\n",
        "    df['q1_n_words'] = qfe.get_words_count(col_name='question1')\n",
        "    df['q2_n_words'] = qfe.get_words_count(col_name='question2')\n",
        "\n",
        "    df['word_Common'] = qfe.get_common_words()\n",
        "    df['word_Total'] = qfe.get_total_words()\n",
        "    df['word_share'] = qfe.get_word_share_ratio()\n",
        "\n",
        "    df['freq_q1+q2'] = qfe.get_op_freq_q1q2(col_name1='question1', col_name2='question2', op='sum')\n",
        "    df['freq_q1-q2'] = qfe.get_op_freq_q1q2(col_name1='question1', col_name2='question2', op='abs')\n",
        "\n",
        "    df.to_csv(folder_path + 'df_fe_without_preprocessing_train.csv', index=False)\n",
        "\n",
        "df.head()"
      ],
      "execution_count": null,
      "outputs": [
        {
          "output_type": "stream",
          "text": [
            "Found in the folder\n"
          ],
          "name": "stdout"
        },
        {
          "output_type": "execute_result",
          "data": {
            "text/html": [
              "<div>\n",
              "<style scoped>\n",
              "    .dataframe tbody tr th:only-of-type {\n",
              "        vertical-align: middle;\n",
              "    }\n",
              "\n",
              "    .dataframe tbody tr th {\n",
              "        vertical-align: top;\n",
              "    }\n",
              "\n",
              "    .dataframe thead th {\n",
              "        text-align: right;\n",
              "    }\n",
              "</style>\n",
              "<table border=\"1\" class=\"dataframe\">\n",
              "  <thead>\n",
              "    <tr style=\"text-align: right;\">\n",
              "      <th></th>\n",
              "      <th>id</th>\n",
              "      <th>qid1</th>\n",
              "      <th>qid2</th>\n",
              "      <th>question1</th>\n",
              "      <th>question2</th>\n",
              "      <th>is_duplicate</th>\n",
              "      <th>freq_qid1</th>\n",
              "      <th>freq_qid2</th>\n",
              "      <th>q1len</th>\n",
              "      <th>q2len</th>\n",
              "      <th>q1_n_words</th>\n",
              "      <th>q2_n_words</th>\n",
              "      <th>word_Common</th>\n",
              "      <th>word_Total</th>\n",
              "      <th>word_share</th>\n",
              "      <th>freq_q1+q2</th>\n",
              "      <th>freq_q1-q2</th>\n",
              "    </tr>\n",
              "  </thead>\n",
              "  <tbody>\n",
              "    <tr>\n",
              "      <th>0</th>\n",
              "      <td>0</td>\n",
              "      <td>1</td>\n",
              "      <td>2</td>\n",
              "      <td>What is the step by step guide to invest in sh...</td>\n",
              "      <td>What is the step by step guide to invest in sh...</td>\n",
              "      <td>0</td>\n",
              "      <td>1</td>\n",
              "      <td>1</td>\n",
              "      <td>66</td>\n",
              "      <td>57</td>\n",
              "      <td>14</td>\n",
              "      <td>12</td>\n",
              "      <td>10.0</td>\n",
              "      <td>23.0</td>\n",
              "      <td>0.434783</td>\n",
              "      <td>2</td>\n",
              "      <td>0</td>\n",
              "    </tr>\n",
              "    <tr>\n",
              "      <th>1</th>\n",
              "      <td>1</td>\n",
              "      <td>3</td>\n",
              "      <td>4</td>\n",
              "      <td>What is the story of Kohinoor (Koh-i-Noor) Dia...</td>\n",
              "      <td>What would happen if the Indian government sto...</td>\n",
              "      <td>0</td>\n",
              "      <td>4</td>\n",
              "      <td>1</td>\n",
              "      <td>51</td>\n",
              "      <td>88</td>\n",
              "      <td>8</td>\n",
              "      <td>13</td>\n",
              "      <td>4.0</td>\n",
              "      <td>20.0</td>\n",
              "      <td>0.200000</td>\n",
              "      <td>5</td>\n",
              "      <td>3</td>\n",
              "    </tr>\n",
              "    <tr>\n",
              "      <th>2</th>\n",
              "      <td>2</td>\n",
              "      <td>5</td>\n",
              "      <td>6</td>\n",
              "      <td>How can I increase the speed of my internet co...</td>\n",
              "      <td>How can Internet speed be increased by hacking...</td>\n",
              "      <td>0</td>\n",
              "      <td>1</td>\n",
              "      <td>1</td>\n",
              "      <td>73</td>\n",
              "      <td>59</td>\n",
              "      <td>14</td>\n",
              "      <td>10</td>\n",
              "      <td>4.0</td>\n",
              "      <td>24.0</td>\n",
              "      <td>0.166667</td>\n",
              "      <td>2</td>\n",
              "      <td>0</td>\n",
              "    </tr>\n",
              "    <tr>\n",
              "      <th>3</th>\n",
              "      <td>3</td>\n",
              "      <td>7</td>\n",
              "      <td>8</td>\n",
              "      <td>Why am I mentally very lonely? How can I solve...</td>\n",
              "      <td>Find the remainder when [math]23^{24}[/math] i...</td>\n",
              "      <td>0</td>\n",
              "      <td>1</td>\n",
              "      <td>1</td>\n",
              "      <td>50</td>\n",
              "      <td>65</td>\n",
              "      <td>11</td>\n",
              "      <td>9</td>\n",
              "      <td>0.0</td>\n",
              "      <td>19.0</td>\n",
              "      <td>0.000000</td>\n",
              "      <td>2</td>\n",
              "      <td>0</td>\n",
              "    </tr>\n",
              "    <tr>\n",
              "      <th>4</th>\n",
              "      <td>4</td>\n",
              "      <td>9</td>\n",
              "      <td>10</td>\n",
              "      <td>Which one dissolve in water quikly sugar, salt...</td>\n",
              "      <td>Which fish would survive in salt water?</td>\n",
              "      <td>0</td>\n",
              "      <td>3</td>\n",
              "      <td>1</td>\n",
              "      <td>76</td>\n",
              "      <td>39</td>\n",
              "      <td>13</td>\n",
              "      <td>7</td>\n",
              "      <td>2.0</td>\n",
              "      <td>20.0</td>\n",
              "      <td>0.100000</td>\n",
              "      <td>4</td>\n",
              "      <td>2</td>\n",
              "    </tr>\n",
              "  </tbody>\n",
              "</table>\n",
              "</div>"
            ],
            "text/plain": [
              "   id  qid1  qid2  ... word_share freq_q1+q2  freq_q1-q2\n",
              "0   0     1     2  ...   0.434783          2           0\n",
              "1   1     3     4  ...   0.200000          5           3\n",
              "2   2     5     6  ...   0.166667          2           0\n",
              "3   3     7     8  ...   0.000000          2           0\n",
              "4   4     9    10  ...   0.100000          4           2\n",
              "\n",
              "[5 rows x 17 columns]"
            ]
          },
          "metadata": {
            "tags": []
          },
          "execution_count": 20
        }
      ]
    },
    {
      "cell_type": "markdown",
      "metadata": {
        "id": "haW0-qnTrnr_"
      },
      "source": [
        "### Analysis on the extracted features"
      ]
    },
    {
      "cell_type": "code",
      "metadata": {
        "colab": {
          "base_uri": "https://localhost:8080/"
        },
        "id": "kFfhe6EXrqLX",
        "outputId": "c17dfe40-9647-48e0-8b81-d1a324e1cd1d"
      },
      "source": [
        "print(\"Minimum length of the questions in question1 : \", min(df['q1_n_words']))\n",
        "print(\"Minimum length of the questions in question2 : \", min(df['q2_n_words']))\n",
        "\n",
        "print(\"Number of Questions with minimum length [question1] : \", df[df['q1_n_words'] == 1].shape[0])\n",
        "print(\"Number of Questions with minimum length [question2] : \", df[df['q2_n_words'] == 1].shape[0])"
      ],
      "execution_count": null,
      "outputs": [
        {
          "output_type": "stream",
          "text": [
            "Minimum length of the questions in question1 :  1\n",
            "Minimum length of the questions in question2 :  1\n",
            "Number of Questions with minimum length [question1] :  67\n",
            "Number of Questions with minimum length [question2] :  24\n"
          ],
          "name": "stdout"
        }
      ]
    },
    {
      "cell_type": "code",
      "metadata": {
        "colab": {
          "base_uri": "https://localhost:8080/",
          "height": 498
        },
        "id": "bDDCmLEirx2O",
        "outputId": "290e6fb8-9ab5-4821-a9ab-99c1bc41a676"
      },
      "source": [
        "plt.figure(figsize=(12, 8))\n",
        "\n",
        "plt.subplot(1,2,1)\n",
        "sns.violinplot(x='is_duplicate', y='word_share', data=df[0:])\n",
        "\n",
        "plt.subplot(1,2,2)\n",
        "sns.distplot(df[df['is_duplicate'] == 0.0]['word_share'][0:], label='0')\n",
        "sns.distplot(df[df['is_duplicate'] == 1.0]['word_share'][0:], label='1')\n",
        "\n",
        "plt.legend()\n",
        "plt.show()"
      ],
      "execution_count": null,
      "outputs": [
        {
          "output_type": "display_data",
          "data": {
            "image/png": "[encoded data removed]",
            "text/plain": [
              "<Figure size 864x576 with 2 Axes>"
            ]
          },
          "metadata": {
            "tags": [],
            "needs_background": "light"
          }
        }
      ]
    },
    {
      "cell_type": "markdown",
      "metadata": {
        "id": "A3GAL90rspgX"
      },
      "source": [
        "- The distributions for normalized `word_share` have some overlap on the far right-hand side, i.e., there are quite a lot of questions with high word similarity.\n",
        "\n",
        "- The average word share and Common no. of words of `qid1` and `qid2` is more when they are duplicate (similar)."
      ]
    },
    {
      "cell_type": "code",
      "metadata": {
        "colab": {
          "base_uri": "https://localhost:8080/",
          "height": 498
        },
        "id": "LNqjNlRfsBS1",
        "outputId": "8bd58e22-9084-44a0-a68d-5b35d3c33b96"
      },
      "source": [
        "plt.figure(figsize=(12, 8))\n",
        "\n",
        "plt.subplot(1,2,1)\n",
        "sns.violinplot(x='is_duplicate', y='word_Common', data=df[0:])\n",
        "\n",
        "plt.subplot(1,2,2)\n",
        "sns.distplot(df[df['is_duplicate'] == 0.0]['word_Common'][0:], label='0')\n",
        "sns.distplot(df[df['is_duplicate'] == 1.0]['word_Common'][0:], label='1')\n",
        "\n",
        "plt.legend()\n",
        "plt.show()"
      ],
      "execution_count": null,
      "outputs": [
        {
          "output_type": "display_data",
          "data": {
            "image/png": "[encoded data removed]",
            "text/plain": [
              "<Figure size 864x576 with 2 Axes>"
            ]
          },
          "metadata": {
            "tags": [],
            "needs_background": "light"
          }
        }
      ]
    },
    {
      "cell_type": "markdown",
      "metadata": {
        "id": "SQ5FDXH4tkkX"
      },
      "source": [
        "The distributions of the `word_Common` feature in similar and non-similar questions are highly overlapping."
      ]
    },
    {
      "cell_type": "code",
      "metadata": {
        "colab": {
          "base_uri": "https://localhost:8080/",
          "height": 500
        },
        "id": "M-xlTRphtTVX",
        "outputId": "7bf9c9df-c216-4ce2-8704-b8a3b41e5ed6"
      },
      "source": [
        "plt.figure(figsize=(12, 8))\n",
        "\n",
        "plt.subplot(1,2,1)\n",
        "sns.violinplot(x='is_duplicate', y='word_Total', data=df[0:])\n",
        "\n",
        "plt.subplot(1,2,2)\n",
        "sns.distplot(df[df['is_duplicate'] == 0.0]['word_Total'][0:], label='0')\n",
        "sns.distplot(df[df['is_duplicate'] == 1.0]['word_Total'][0:], label='1')\n",
        "\n",
        "plt.legend()\n",
        "plt.show()"
      ],
      "execution_count": null,
      "outputs": [
        {
          "output_type": "display_data",
          "data": {
            "image/png": "[encoded data removed]",
            "text/plain": [
              "<Figure size 864x576 with 2 Axes>"
            ]
          },
          "metadata": {
            "tags": [],
            "needs_background": "light"
          }
        }
      ]
    },
    {
      "cell_type": "markdown",
      "metadata": {
        "id": "5jFNY1_Nt8jf"
      },
      "source": [
        "The distributions of the `word_Total` feature in similar and non-similar questions are highly overlapping."
      ]
    }
  ]
}