{
 "cells": [
  {
   "cell_type": "markdown",
   "metadata": {},
   "source": [
    "### `import` Packages"
   ]
  },
  {
   "cell_type": "code",
   "execution_count": 1,
   "metadata": {},
   "outputs": [],
   "source": [
    "import os\n",
    "import random\n",
    "import time\n",
    "\n",
    "import numpy as np\n",
    "import pandas as pd\n",
    "import networkx as nx\n",
    "\n",
    "from matplotlib import pyplot as plt"
   ]
  },
  {
   "cell_type": "markdown",
   "metadata": {},
   "source": [
    "### Random Training Data"
   ]
  },
  {
   "cell_type": "code",
   "execution_count": 2,
   "metadata": {},
   "outputs": [],
   "source": [
    "train_array = np.random.randint(low=1, high=1000, size=(1000, 2))\n",
    "train_df = pd.DataFrame(data=train_array, columns=['source_nodes', 'destination_nodes'])"
   ]
  },
  {
   "cell_type": "code",
   "execution_count": 3,
   "metadata": {},
   "outputs": [
    {
     "data": {
      "text/html": [
       "<div>\n",
       "<style scoped>\n",
       "    .dataframe tbody tr th:only-of-type {\n",
       "        vertical-align: middle;\n",
       "    }\n",
       "\n",
       "    .dataframe tbody tr th {\n",
       "        vertical-align: top;\n",
       "    }\n",
       "\n",
       "    .dataframe thead th {\n",
       "        text-align: right;\n",
       "    }\n",
       "</style>\n",
       "<table border=\"1\" class=\"dataframe\">\n",
       "  <thead>\n",
       "    <tr style=\"text-align: right;\">\n",
       "      <th></th>\n",
       "      <th>source_nodes</th>\n",
       "      <th>destination_nodes</th>\n",
       "    </tr>\n",
       "  </thead>\n",
       "  <tbody>\n",
       "    <tr>\n",
       "      <th>0</th>\n",
       "      <td>912</td>\n",
       "      <td>792</td>\n",
       "    </tr>\n",
       "    <tr>\n",
       "      <th>1</th>\n",
       "      <td>607</td>\n",
       "      <td>258</td>\n",
       "    </tr>\n",
       "    <tr>\n",
       "      <th>2</th>\n",
       "      <td>340</td>\n",
       "      <td>950</td>\n",
       "    </tr>\n",
       "    <tr>\n",
       "      <th>3</th>\n",
       "      <td>642</td>\n",
       "      <td>819</td>\n",
       "    </tr>\n",
       "    <tr>\n",
       "      <th>4</th>\n",
       "      <td>309</td>\n",
       "      <td>614</td>\n",
       "    </tr>\n",
       "  </tbody>\n",
       "</table>\n",
       "</div>"
      ],
      "text/plain": [
       "   source_nodes  destination_nodes\n",
       "0           912                792\n",
       "1           607                258\n",
       "2           340                950\n",
       "3           642                819\n",
       "4           309                614"
      ]
     },
     "execution_count": 3,
     "metadata": {},
     "output_type": "execute_result"
    }
   ],
   "source": [
    "train_df.head()"
   ]
  },
  {
   "cell_type": "code",
   "execution_count": 4,
   "metadata": {},
   "outputs": [
    {
     "data": {
      "text/plain": [
       "(1000, 2)"
      ]
     },
     "execution_count": 4,
     "metadata": {},
     "output_type": "execute_result"
    }
   ],
   "source": [
    "train_df.shape"
   ]
  },
  {
   "cell_type": "markdown",
   "metadata": {},
   "source": [
    "### Graph from DataFrame"
   ]
  },
  {
   "cell_type": "code",
   "execution_count": 5,
   "metadata": {},
   "outputs": [],
   "source": [
    "train_graph = nx.from_pandas_edgelist(\n",
    "    df=train_df, source='source_nodes', target='destination_nodes', create_using=nx.DiGraph()\n",
    ")"
   ]
  },
  {
   "cell_type": "code",
   "execution_count": 6,
   "metadata": {},
   "outputs": [
    {
     "name": "stdout",
     "output_type": "stream",
     "text": [
      "Name: \n",
      "Type: DiGraph\n",
      "Number of nodes: 871\n",
      "Number of edges: 998\n",
      "Average in degree:   1.1458\n",
      "Average out degree:   1.1458\n"
     ]
    }
   ],
   "source": [
    "print(nx.info(G=train_graph))"
   ]
  },
  {
   "cell_type": "code",
   "execution_count": 7,
   "metadata": {},
   "outputs": [
    {
     "data": {
      "text/plain": [
       "{588, 787, 913}"
      ]
     },
     "execution_count": 7,
     "metadata": {},
     "output_type": "execute_result"
    }
   ],
   "source": [
    "set(train_graph.successors(n=123))"
   ]
  },
  {
   "cell_type": "code",
   "execution_count": 8,
   "metadata": {},
   "outputs": [
    {
     "data": {
      "text/html": [
       "<div>\n",
       "<style scoped>\n",
       "    .dataframe tbody tr th:only-of-type {\n",
       "        vertical-align: middle;\n",
       "    }\n",
       "\n",
       "    .dataframe tbody tr th {\n",
       "        vertical-align: top;\n",
       "    }\n",
       "\n",
       "    .dataframe thead th {\n",
       "        text-align: right;\n",
       "    }\n",
       "</style>\n",
       "<table border=\"1\" class=\"dataframe\">\n",
       "  <thead>\n",
       "    <tr style=\"text-align: right;\">\n",
       "      <th></th>\n",
       "      <th>source_nodes</th>\n",
       "      <th>destination_nodes</th>\n",
       "    </tr>\n",
       "  </thead>\n",
       "  <tbody>\n",
       "    <tr>\n",
       "      <th>334</th>\n",
       "      <td>123</td>\n",
       "      <td>913</td>\n",
       "    </tr>\n",
       "    <tr>\n",
       "      <th>432</th>\n",
       "      <td>123</td>\n",
       "      <td>787</td>\n",
       "    </tr>\n",
       "    <tr>\n",
       "      <th>692</th>\n",
       "      <td>123</td>\n",
       "      <td>588</td>\n",
       "    </tr>\n",
       "  </tbody>\n",
       "</table>\n",
       "</div>"
      ],
      "text/plain": [
       "     source_nodes  destination_nodes\n",
       "334           123                913\n",
       "432           123                787\n",
       "692           123                588"
      ]
     },
     "execution_count": 8,
     "metadata": {},
     "output_type": "execute_result"
    }
   ],
   "source": [
    "train_df[train_df['source_nodes'] == 123]"
   ]
  },
  {
   "cell_type": "code",
   "execution_count": 9,
   "metadata": {},
   "outputs": [
    {
     "data": {
      "text/plain": [
       "set()"
      ]
     },
     "execution_count": 9,
     "metadata": {},
     "output_type": "execute_result"
    }
   ],
   "source": [
    "set(train_graph.predecessors(n=123))"
   ]
  },
  {
   "cell_type": "code",
   "execution_count": 10,
   "metadata": {},
   "outputs": [
    {
     "data": {
      "text/html": [
       "<div>\n",
       "<style scoped>\n",
       "    .dataframe tbody tr th:only-of-type {\n",
       "        vertical-align: middle;\n",
       "    }\n",
       "\n",
       "    .dataframe tbody tr th {\n",
       "        vertical-align: top;\n",
       "    }\n",
       "\n",
       "    .dataframe thead th {\n",
       "        text-align: right;\n",
       "    }\n",
       "</style>\n",
       "<table border=\"1\" class=\"dataframe\">\n",
       "  <thead>\n",
       "    <tr style=\"text-align: right;\">\n",
       "      <th></th>\n",
       "      <th>source_nodes</th>\n",
       "      <th>destination_nodes</th>\n",
       "    </tr>\n",
       "  </thead>\n",
       "  <tbody>\n",
       "  </tbody>\n",
       "</table>\n",
       "</div>"
      ],
      "text/plain": [
       "Empty DataFrame\n",
       "Columns: [source_nodes, destination_nodes]\n",
       "Index: []"
      ]
     },
     "execution_count": 10,
     "metadata": {},
     "output_type": "execute_result"
    }
   ],
   "source": [
    "train_df[train_df['destination_nodes'] == 123]"
   ]
  },
  {
   "cell_type": "markdown",
   "metadata": {},
   "source": [
    "### Graph Distances"
   ]
  },
  {
   "cell_type": "markdown",
   "metadata": {},
   "source": [
    "* Jaccard Distance - The larger the distance, the higher the probability of event occurring.\n",
    "\n",
    "\\begin{equation}\n",
    "j = \\frac{|X\\cap Y|}{|X \\cup Y|} \n",
    "\\end{equation}\n",
    "\n",
    "* Consine Distance (Otsuka-Ochiai Coefficient) - The larger the distance, the higher the probability of event occurring.\n",
    "\n",
    "\\begin{equation}\n",
    "c = \\frac{|X\\cap Y|}{\\sqrt{|X|\\cdot|Y|}} \n",
    "\\end{equation}\n",
    "\n",
    "* Adamic/Adar Index - measures is defined as inverted sum of degrees of common neighbours for given two vertices.\n",
    "\n",
    "$$A(x,y)=\\sum_{u \\in N(x) \\cap N(y)}\\frac{1}{log(|N(u)|)}$$"
   ]
  },
  {
   "cell_type": "code",
   "execution_count": 11,
   "metadata": {},
   "outputs": [],
   "source": [
    "class GraphDistances:\n",
    "    def __init__(self, Graph, node_1, node_2):\n",
    "        self.Graph = Graph\n",
    "        self.node_1 = node_1\n",
    "        self.node_2 = node_2\n",
    "    \n",
    "    def follows_back(self):\n",
    "        val = 1 if self.Graph.has_edge(u=self.node_2, v=self.node_1) else 0\n",
    "        return val\n",
    "    \n",
    "    def jaccard_followees(self):\n",
    "        try:\n",
    "            node_1_successors = set(self.Graph.successors(n=self.node_1))\n",
    "            node_2_successors = set(self.Graph.successors(n=self.node_2))\n",
    "            \n",
    "            if (len(node_1_successors) == 0) or (len(node_2_successors) == 0):\n",
    "                return 0\n",
    "        \n",
    "            nume = len(node_1_successors.intersection(node_2_successors))\n",
    "            deno = len(node_1_successors.union(node_2_successors))\n",
    "            \n",
    "            sim = nume / deno\n",
    "        except Exception as e:\n",
    "            sim = 0\n",
    "        \n",
    "        return sim\n",
    "    \n",
    "    def jaccard_followers(self):\n",
    "        try:\n",
    "            node_1_predecessors = set(self.Graph.predecessors(n=self.node_1))\n",
    "            node_2_predecessors = set(self.Graph.predecessors(n=self.node_2))\n",
    "            \n",
    "            if (len(node_1_predecessors) == 0) or (len(node_2_predecessors) == 0):\n",
    "                return 0\n",
    "        \n",
    "            nume = len(node_1_predecessors.intersection(node_2_predecessors))\n",
    "            deno = len(node_1_predecessors.union(node_2_predecessors))\n",
    "            \n",
    "            sim = nume / deno\n",
    "        except Exception as e:\n",
    "            sim = 0\n",
    "        \n",
    "        return sim\n",
    "    \n",
    "    def cosine_followees(self):\n",
    "        try:\n",
    "            node_1_successors = set(self.Graph.successors(n=self.node_1))\n",
    "            node_2_successors = set(self.Graph.successors(n=self.node_2))\n",
    "            \n",
    "            if (len(node_1_successors) == 0) or (len(node_2_successors) == 0):\n",
    "                return 0\n",
    "        \n",
    "            nume = len(node_1_successors.intersection(node_2_successors))\n",
    "            deno = (len(node_1_successors) * len(node_2_successors)) ** 2\n",
    "            \n",
    "            sim = nume / deno\n",
    "        except Exception as e:\n",
    "            sim = 0\n",
    "        \n",
    "        return sim\n",
    "    \n",
    "    def cosing_followers(self):\n",
    "        try:\n",
    "            node_1_predecessors = set(self.Graph.predecessors(n=self.node_1))\n",
    "            node_2_predecessors = set(self.Graph.predecessors(n=self.node_2))\n",
    "            \n",
    "            if (len(node_1_predecessors) == 0) or (len(node_2_predecessors) == 0):\n",
    "                return 0\n",
    "        \n",
    "            nume = len(node_1_predecessors.intersection(node_2_predecessors))\n",
    "            deno = (len(node_1_predecessors) * len(node_2_predecessors)) ** 2\n",
    "            \n",
    "            sim = nume / deno\n",
    "        except Exception as e:\n",
    "            sim = 0\n",
    "        \n",
    "        return sim\n",
    "    \n",
    "    def shortest_path_length(self):\n",
    "        try:\n",
    "            if self.Graph.has_edge(u=self.node_1, v=self.node_2):\n",
    "                self.Graph.remove_edge(u=self.node_1, v=self.node_2)\n",
    "                p = nx.shortest_path_length(G=self.Graph, source=self.node_1, target=self.node_2)\n",
    "                self.Graph.add_edge(u_of_edge=self.node_1, v_of_edge=self.node_2)\n",
    "            else:\n",
    "                p = nx.shortest_path_length(G=self.Graph, source=self.node_1, target=self.node_2)\n",
    "        except Exception as e:\n",
    "            p = -1\n",
    "        \n",
    "        return p\n",
    "    \n",
    "    def isin_same_wcc(self):\n",
    "        wcc = list(nx.weakly_connected_components(G=self.Graph))\n",
    "        index = []\n",
    "\n",
    "        if self.Graph.has_edge(u=self.node_2, v=self.node_1):\n",
    "            return 1\n",
    "\n",
    "        elif self.Graph.has_edge(u=self.node_1, v=self.node_2):\n",
    "            for i in wcc:\n",
    "                if self.node_1 in i:\n",
    "                    index = i\n",
    "                    break\n",
    "\n",
    "            if (self.node_2 in index):\n",
    "                self.Graph.remove_edge(u=self.node_1, v=self.node_2)\n",
    "                if (self.shortest_path_length() == -1):\n",
    "                    self.Graph.add_edge(u=self.node_1, v=self.node_2)\n",
    "                    return 0\n",
    "                else:\n",
    "                    self.Graph.add_edge(u=self.node_1, v=self.node_2)\n",
    "                    return 1\n",
    "            else:\n",
    "                return 0\n",
    "\n",
    "        else:\n",
    "            for i in wcc:\n",
    "                if self.node_1 in i:\n",
    "                    index = i\n",
    "                    break\n",
    "            if (self.node_2 in index):\n",
    "                return 1\n",
    "            else:\n",
    "                return 0\n",
    "\n",
    "        return None\n",
    "    \n",
    "    def adar_index(self):        \n",
    "        try:\n",
    "            node_1_successors = set(self.Graph.successors(n=self.node_1))\n",
    "            node_2_successors = set(self.Graph.successors(n=self.node_2))\n",
    "            n_list = node_1_successors.intersection(node_2_successors)\n",
    "            \n",
    "            if (len(n_list) != 0):\n",
    "                sum_ = 0\n",
    "                for i in n_list:\n",
    "                    sum_ += 1 / np.log10(len(list(self.Graph.predecessors(i))))\n",
    "            else:\n",
    "                sum_ = 0\n",
    "        except Exception as e:\n",
    "            sum_ = 0\n",
    "        \n",
    "        return sum_"
   ]
  },
  {
   "cell_type": "code",
   "execution_count": 12,
   "metadata": {},
   "outputs": [],
   "source": [
    "gd = GraphDistances(\n",
    "    Graph=train_graph,\n",
    "    node_1=123,\n",
    "    node_2=154\n",
    ")"
   ]
  },
  {
   "cell_type": "markdown",
   "metadata": {},
   "source": [
    "**Follow Back**"
   ]
  },
  {
   "cell_type": "code",
   "execution_count": 13,
   "metadata": {},
   "outputs": [
    {
     "data": {
      "text/plain": [
       "0"
      ]
     },
     "execution_count": 13,
     "metadata": {},
     "output_type": "execute_result"
    }
   ],
   "source": [
    "gd.follows_back()"
   ]
  },
  {
   "cell_type": "markdown",
   "metadata": {},
   "source": [
    "**Jaccard Index**"
   ]
  },
  {
   "cell_type": "code",
   "execution_count": 14,
   "metadata": {},
   "outputs": [
    {
     "data": {
      "text/plain": [
       "0.0"
      ]
     },
     "execution_count": 14,
     "metadata": {},
     "output_type": "execute_result"
    }
   ],
   "source": [
    "gd.jaccard_followees()"
   ]
  },
  {
   "cell_type": "code",
   "execution_count": 15,
   "metadata": {},
   "outputs": [
    {
     "data": {
      "text/plain": [
       "0"
      ]
     },
     "execution_count": 15,
     "metadata": {},
     "output_type": "execute_result"
    }
   ],
   "source": [
    "gd.jaccard_followers()"
   ]
  },
  {
   "cell_type": "markdown",
   "metadata": {},
   "source": [
    "**Cosine Distance**"
   ]
  },
  {
   "cell_type": "code",
   "execution_count": 16,
   "metadata": {},
   "outputs": [
    {
     "data": {
      "text/plain": [
       "0.0"
      ]
     },
     "execution_count": 16,
     "metadata": {},
     "output_type": "execute_result"
    }
   ],
   "source": [
    "gd.cosine_followees()"
   ]
  },
  {
   "cell_type": "code",
   "execution_count": 17,
   "metadata": {
    "scrolled": true
   },
   "outputs": [
    {
     "data": {
      "text/plain": [
       "0"
      ]
     },
     "execution_count": 17,
     "metadata": {},
     "output_type": "execute_result"
    }
   ],
   "source": [
    "gd.cosing_followers()"
   ]
  },
  {
   "cell_type": "markdown",
   "metadata": {},
   "source": [
    "**Shortest Path Length**"
   ]
  },
  {
   "cell_type": "code",
   "execution_count": 18,
   "metadata": {
    "scrolled": true
   },
   "outputs": [
    {
     "data": {
      "text/plain": [
       "-1"
      ]
     },
     "execution_count": 18,
     "metadata": {},
     "output_type": "execute_result"
    }
   ],
   "source": [
    "gd.shortest_path_length()"
   ]
  },
  {
   "cell_type": "markdown",
   "metadata": {},
   "source": [
    "**Same Community Check**"
   ]
  },
  {
   "cell_type": "code",
   "execution_count": 19,
   "metadata": {},
   "outputs": [
    {
     "data": {
      "text/plain": [
       "1"
      ]
     },
     "execution_count": 19,
     "metadata": {},
     "output_type": "execute_result"
    }
   ],
   "source": [
    "gd.isin_same_wcc()"
   ]
  },
  {
   "cell_type": "markdown",
   "metadata": {},
   "source": [
    "**Adamic/Adar Index**"
   ]
  },
  {
   "cell_type": "code",
   "execution_count": 20,
   "metadata": {},
   "outputs": [
    {
     "data": {
      "text/plain": [
       "0"
      ]
     },
     "execution_count": 20,
     "metadata": {},
     "output_type": "execute_result"
    }
   ],
   "source": [
    "gd.adar_index()"
   ]
  },
  {
   "cell_type": "markdown",
   "metadata": {},
   "source": [
    "### Weight Features"
   ]
  },
  {
   "cell_type": "code",
   "execution_count": 22,
   "metadata": {},
   "outputs": [],
   "source": [
    "class NodeWeightFeatures:\n",
    "    def __init__(self, Graph, node):\n",
    "        self.Graph = Graph\n",
    "        self.node = node\n",
    "    \n",
    "    def in_degree_weight(self):\n",
    "        in_deg = len(set(self.Graph.predecessors(self.node)))\n",
    "        in_weight = 1 / np.sqrt(1 + in_deg)\n",
    "        return in_weight\n",
    "    \n",
    "    def out_degree_weight(self):\n",
    "        out_deg = len(set(self.Graph.successors(self.node)))\n",
    "        out_weight = 1 / np.sqrt(1 + out_deg)\n",
    "        return out_weight"
   ]
  },
  {
   "cell_type": "code",
   "execution_count": 26,
   "metadata": {},
   "outputs": [],
   "source": [
    "nwf = NodeWeightFeatures(Graph=train_graph, node=123)"
   ]
  },
  {
   "cell_type": "code",
   "execution_count": 27,
   "metadata": {},
   "outputs": [
    {
     "data": {
      "text/plain": [
       "1.0"
      ]
     },
     "execution_count": 27,
     "metadata": {},
     "output_type": "execute_result"
    }
   ],
   "source": [
    "nwf.in_degree_weight()"
   ]
  },
  {
   "cell_type": "code",
   "execution_count": 28,
   "metadata": {},
   "outputs": [
    {
     "data": {
      "text/plain": [
       "0.5"
      ]
     },
     "execution_count": 28,
     "metadata": {},
     "output_type": "execute_result"
    }
   ],
   "source": [
    "nwf.out_degree_weight()"
   ]
  }
 ],
 "metadata": {
  "kernelspec": {
   "display_name": "Python 3",
   "language": "python",
   "name": "python3"
  },
  "language_info": {
   "codemirror_mode": {
    "name": "ipython",
    "version": 3
   },
   "file_extension": ".py",
   "mimetype": "text/x-python",
   "name": "python",
   "nbconvert_exporter": "python",
   "pygments_lexer": "ipython3",
   "version": "3.8.4"
  },
  "varInspector": {
   "cols": {
    "lenName": 16,
    "lenType": 16,
    "lenVar": 40
   },
   "kernels_config": {
    "python": {
     "delete_cmd_postfix": "",
     "delete_cmd_prefix": "del ",
     "library": "var_list.py",
     "varRefreshCmd": "print(var_dic_list())"
    },
    "r": {
     "delete_cmd_postfix": ") ",
     "delete_cmd_prefix": "rm(",
     "library": "var_list.r",
     "varRefreshCmd": "cat(var_dic_list()) "
    }
   },
   "types_to_exclude": [
    "module",
    "function",
    "builtin_function_or_method",
    "instance",
    "_Feature"
   ],
   "window_display": false
  }
 },
 "nbformat": 4,
 "nbformat_minor": 4
}
