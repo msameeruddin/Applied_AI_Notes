{
 "cells": [
  {
   "cell_type": "markdown",
   "metadata": {},
   "source": [
    "### `import` Packages"
   ]
  },
  {
   "cell_type": "code",
   "execution_count": 1,
   "metadata": {},
   "outputs": [],
   "source": [
    "import os\n",
    "\n",
    "import numpy as np\n",
    "import pandas as pd\n",
    "import networkx as nx\n",
    "\n",
    "from matplotlib import pyplot as plt\n",
    "from tqdm import tqdm"
   ]
  },
  {
   "cell_type": "markdown",
   "metadata": {},
   "source": [
    "### Data Reading"
   ]
  },
  {
   "cell_type": "code",
   "execution_count": 2,
   "metadata": {},
   "outputs": [],
   "source": [
    "train_df = pd.read_csv(filepath_or_buffer='data/train.csv')"
   ]
  },
  {
   "cell_type": "code",
   "execution_count": 3,
   "metadata": {},
   "outputs": [
    {
     "data": {
      "text/plain": [
       "(9437519, 2)"
      ]
     },
     "execution_count": 3,
     "metadata": {},
     "output_type": "execute_result"
    }
   ],
   "source": [
    "train_df.shape"
   ]
  },
  {
   "cell_type": "code",
   "execution_count": 4,
   "metadata": {},
   "outputs": [
    {
     "data": {
      "text/html": [
       "<div>\n",
       "<style scoped>\n",
       "    .dataframe tbody tr th:only-of-type {\n",
       "        vertical-align: middle;\n",
       "    }\n",
       "\n",
       "    .dataframe tbody tr th {\n",
       "        vertical-align: top;\n",
       "    }\n",
       "\n",
       "    .dataframe thead th {\n",
       "        text-align: right;\n",
       "    }\n",
       "</style>\n",
       "<table border=\"1\" class=\"dataframe\">\n",
       "  <thead>\n",
       "    <tr style=\"text-align: right;\">\n",
       "      <th></th>\n",
       "      <th>source_node</th>\n",
       "      <th>destination_node</th>\n",
       "    </tr>\n",
       "  </thead>\n",
       "  <tbody>\n",
       "    <tr>\n",
       "      <th>0</th>\n",
       "      <td>1</td>\n",
       "      <td>690569</td>\n",
       "    </tr>\n",
       "    <tr>\n",
       "      <th>1</th>\n",
       "      <td>1</td>\n",
       "      <td>315892</td>\n",
       "    </tr>\n",
       "    <tr>\n",
       "      <th>2</th>\n",
       "      <td>1</td>\n",
       "      <td>189226</td>\n",
       "    </tr>\n",
       "    <tr>\n",
       "      <th>3</th>\n",
       "      <td>2</td>\n",
       "      <td>834328</td>\n",
       "    </tr>\n",
       "    <tr>\n",
       "      <th>4</th>\n",
       "      <td>2</td>\n",
       "      <td>1615927</td>\n",
       "    </tr>\n",
       "  </tbody>\n",
       "</table>\n",
       "</div>"
      ],
      "text/plain": [
       "   source_node  destination_node\n",
       "0            1            690569\n",
       "1            1            315892\n",
       "2            1            189226\n",
       "3            2            834328\n",
       "4            2           1615927"
      ]
     },
     "execution_count": 4,
     "metadata": {},
     "output_type": "execute_result"
    }
   ],
   "source": [
    "train_df.head()"
   ]
  },
  {
   "cell_type": "markdown",
   "metadata": {},
   "source": [
    "### `NaN` Checking"
   ]
  },
  {
   "cell_type": "code",
   "execution_count": 5,
   "metadata": {},
   "outputs": [
    {
     "data": {
      "text/plain": [
       "source_node         0\n",
       "destination_node    0\n",
       "dtype: int64"
      ]
     },
     "execution_count": 5,
     "metadata": {},
     "output_type": "execute_result"
    }
   ],
   "source": [
    "train_df.isnull().sum()"
   ]
  },
  {
   "cell_type": "markdown",
   "metadata": {},
   "source": [
    "### `Duplicate` Checking"
   ]
  },
  {
   "cell_type": "code",
   "execution_count": 6,
   "metadata": {
    "scrolled": true
   },
   "outputs": [
    {
     "data": {
      "text/plain": [
       "0"
      ]
     },
     "execution_count": 6,
     "metadata": {},
     "output_type": "execute_result"
    }
   ],
   "source": [
    "train_df.duplicated().sum()"
   ]
  },
  {
   "cell_type": "markdown",
   "metadata": {},
   "source": [
    "### Single Node Analysis"
   ]
  },
  {
   "cell_type": "code",
   "execution_count": 7,
   "metadata": {},
   "outputs": [],
   "source": [
    "class NodeInfoFetcher:\n",
    "    def __init__(self, node, df, source_col, dest_col):\n",
    "        self.node = node\n",
    "        self.df = df\n",
    "        self.source_col = source_col\n",
    "        self.dest_col = dest_col\n",
    "        \n",
    "        self.snode_df = self.df[self.df[self.source_col] == self.node]\n",
    "        self.dnode_df = self.df[self.df[self.dest_col] == self.node]\n",
    "    \n",
    "    def fetch_node_info(self):\n",
    "        node_following = set(self.snode_df[self.dest_col].to_list())\n",
    "        node_followed = set(self.dnode_df[self.source_col].to_list())\n",
    "\n",
    "        outdeg_count = len(node_following)\n",
    "        indeg_count = len(node_followed)\n",
    "\n",
    "        # print(\"Node : {}\".format(self.node))\n",
    "        # print('-'*20)\n",
    "        # print('Following : {}'.format(node_following))\n",
    "        # print('Count : {}'.format(outdeg_count))\n",
    "        # print('-'*20)\n",
    "        # print('Followed : {}'.format(node_followed))\n",
    "        # print('Count : {}'.format(indeg_count))\n",
    "        # print('-'*20)\n",
    "        \n",
    "        return indeg_count, outdeg_count\n",
    "    \n",
    "    def plot_following(self):\n",
    "        node_following = list(set(self.snode_df[self.dest_col].to_list()))\n",
    "    \n",
    "        nfing_list = list(zip([self.node] * len(node_following), node_following))\n",
    "        nfing_array = np.matrix(list(map(list, nfing_list)))\n",
    "        nfing_df = pd.DataFrame(data=nfing_array, columns=self.df.columns)\n",
    "        \n",
    "        node_graph = nx.from_pandas_edgelist(\n",
    "            df=nfing_df,\n",
    "            source=self.source_col,\n",
    "            target=self.dest_col,\n",
    "            create_using=nx.DiGraph()\n",
    "        )\n",
    "        print(nx.info(G=node_graph))\n",
    "        self._plot_graph(Graph=node_graph)\n",
    "        \n",
    "        return None\n",
    "    \n",
    "    def plot_followed(self):\n",
    "        node_followed = list(set(self.dnode_df[self.source_col].to_list()))\n",
    "    \n",
    "        nfwed_list = list(zip([self.node] * len(node_followed), node_followed))\n",
    "        nfwed_array = np.matrix(list(map(list, nfwed_list)))\n",
    "        nfwed_df = pd.DataFrame(data=nfwed_array, columns=self.df.columns)\n",
    "\n",
    "        node_graph = nx.from_pandas_edgelist(\n",
    "            df=nfwed_df,\n",
    "            source=self.dest_col,\n",
    "            target=self.source_col,\n",
    "            create_using=nx.DiGraph()\n",
    "        )\n",
    "        print(nx.info(G=node_graph))\n",
    "        self._plot_graph(Graph=node_graph)\n",
    "        \n",
    "        return None\n",
    "    \n",
    "    def _plot_graph(self, Graph):\n",
    "        pos = nx.spring_layout(Graph)\n",
    "        \n",
    "        nx.draw(\n",
    "            G=Graph,\n",
    "            pos=pos,\n",
    "            node_color='#A0CBE2',\n",
    "            edge_color='#00bb5e',\n",
    "            width=1,\n",
    "            edge_cmap=plt.cm.Blues,\n",
    "            with_labels=True\n",
    "        )\n",
    "        plt.show()\n",
    "        \n",
    "        return None"
   ]
  },
  {
   "cell_type": "markdown",
   "metadata": {},
   "source": [
    "### Fetch Node Information"
   ]
  },
  {
   "cell_type": "code",
   "execution_count": 8,
   "metadata": {},
   "outputs": [],
   "source": [
    "nif = NodeInfoFetcher(\n",
    "    node=1,\n",
    "    df=train_df,\n",
    "    source_col='source_node',\n",
    "    dest_col='destination_node'\n",
    ")"
   ]
  },
  {
   "cell_type": "code",
   "execution_count": 9,
   "metadata": {},
   "outputs": [
    {
     "data": {
      "text/plain": [
       "(3, 3)"
      ]
     },
     "execution_count": 9,
     "metadata": {},
     "output_type": "execute_result"
    }
   ],
   "source": [
    "nif.fetch_node_info()"
   ]
  },
  {
   "cell_type": "code",
   "execution_count": 10,
   "metadata": {},
   "outputs": [
    {
     "name": "stdout",
     "output_type": "stream",
     "text": [
      "Name: \n",
      "Type: DiGraph\n",
      "Number of nodes: 4\n",
      "Number of edges: 3\n",
      "Average in degree:   0.7500\n",
      "Average out degree:   0.7500\n"
     ]
    },
    {
     "data": {
      "image/png": "[encoded data removed]",
      "text/plain": [
       "<Figure size 432x288 with 1 Axes>"
      ]
     },
     "metadata": {},
     "output_type": "display_data"
    }
   ],
   "source": [
    "nif.plot_following()"
   ]
  },
  {
   "cell_type": "code",
   "execution_count": 11,
   "metadata": {},
   "outputs": [
    {
     "name": "stdout",
     "output_type": "stream",
     "text": [
      "Name: \n",
      "Type: DiGraph\n",
      "Number of nodes: 4\n",
      "Number of edges: 3\n",
      "Average in degree:   0.7500\n",
      "Average out degree:   0.7500\n"
     ]
    },
    {
     "data": {
      "image/png": "[encoded data removed]",
      "text/plain": [
       "<Figure size 432x288 with 1 Axes>"
      ]
     },
     "metadata": {},
     "output_type": "display_data"
    }
   ],
   "source": [
    "nif.plot_followed()"
   ]
  },
  {
   "cell_type": "markdown",
   "metadata": {},
   "source": [
    "### Double Node Analysis"
   ]
  },
  {
   "cell_type": "code",
   "execution_count": 12,
   "metadata": {},
   "outputs": [],
   "source": [
    "class MultiNodeInfoFetcher:\n",
    "    def __init__(self, node1, node2, df, source_col, dest_col):\n",
    "        self.df = df\n",
    "        self.node1 = node1\n",
    "        self.node2 = node2\n",
    "        self.source_col = source_col\n",
    "        self.dest_col = dest_col\n",
    "    \n",
    "    def _fetch_node_info(self, node):\n",
    "        snode_df = self.df[self.df[self.source_col] == node]\n",
    "        dnode_df = self.df[self.df[self.dest_col] == node]\n",
    "        \n",
    "        node_following = set(snode_df[self.dest_col].to_list())\n",
    "        node_followed = set(dnode_df[self.source_col].to_list())\n",
    "        \n",
    "        node_fing_fwed = node_following & node_followed\n",
    "        return node_fing_fwed\n",
    "    \n",
    "    def find_mutuals(self):\n",
    "        node1_fing_fwed = self._fetch_node_info(node=self.node1)\n",
    "        node2_fing_fwed = self._fetch_node_info(node=self.node2)        \n",
    "        mutuals = node1_fing_fwed & node2_fing_fwed\n",
    "        return mutuals"
   ]
  },
  {
   "cell_type": "code",
   "execution_count": 13,
   "metadata": {},
   "outputs": [],
   "source": [
    "mnif = MultiNodeInfoFetcher(\n",
    "    node1=1500,\n",
    "    node2=1500,\n",
    "    df=train_df,\n",
    "    source_col='source_node',\n",
    "    dest_col='destination_node'\n",
    ")"
   ]
  },
  {
   "cell_type": "code",
   "execution_count": 14,
   "metadata": {},
   "outputs": [
    {
     "data": {
      "text/plain": [
       "{736536, 811112, 1773135}"
      ]
     },
     "execution_count": 14,
     "metadata": {},
     "output_type": "execute_result"
    }
   ],
   "source": [
    "mnif.find_mutuals()"
   ]
  },
  {
   "cell_type": "markdown",
   "metadata": {},
   "source": [
    "### Reading Graph"
   ]
  },
  {
   "cell_type": "code",
   "execution_count": 15,
   "metadata": {},
   "outputs": [],
   "source": [
    "# if not os.path.isfile('data/after_eda/train_woheader.csv'):\n",
    "#     traincsv = pd.read_csv('data/train.csv')\n",
    "    \n",
    "#     print(traincsv[traincsv.isna().any(1)])\n",
    "#     print(traincsv.info())\n",
    "    \n",
    "#     print(\"Number of diplicate entries: \",sum(traincsv.duplicated()))\n",
    "#     traincsv.to_csv('data/after_eda/train_woheader.csv',header=False,index=False)\n",
    "#     print(\"saved the graph into file\")\n",
    "# else:\n",
    "#     g = nx.read_edgelist(\n",
    "#         path='data/after_eda/train_woheader.csv',\n",
    "#         delimiter=',',\n",
    "#         create_using=nx.DiGraph(),\n",
    "#         nodetype=int\n",
    "#     )\n",
    "#     print(nx.info(g))"
   ]
  },
  {
   "cell_type": "code",
   "execution_count": 16,
   "metadata": {},
   "outputs": [
    {
     "name": "stdout",
     "output_type": "stream",
     "text": [
      "The number of unique persons : 1862220\n"
     ]
    }
   ],
   "source": [
    "sources = set(train_df['source_node'].value_counts().index.to_list())\n",
    "destinations = set(train_df['destination_node'].value_counts().index.to_list())\n",
    "nodes = sources | destinations\n",
    "print('The number of unique persons : {}'.format(len(nodes)))"
   ]
  },
  {
   "cell_type": "code",
   "execution_count": 17,
   "metadata": {},
   "outputs": [],
   "source": [
    "def get_in_out_degs(node, df=train_df):\n",
    "    nif = NodeInfoFetcher(\n",
    "        node=node,\n",
    "        df=df,\n",
    "        source_col='source_node',\n",
    "        dest_col='destination_node'\n",
    "    )\n",
    "    return nif.fetch_node_info()"
   ]
  },
  {
   "cell_type": "code",
   "execution_count": 18,
   "metadata": {},
   "outputs": [],
   "source": [
    "# indegs = []\n",
    "# outdegs = []\n",
    "\n",
    "# for i in tqdm(nodes):\n",
    "#     inout = get_in_out_degs(node=i)\n",
    "#     indegs.append(inout[0])\n",
    "#     outdegs.append(inout[1])"
   ]
  },
  {
   "cell_type": "code",
   "execution_count": 19,
   "metadata": {},
   "outputs": [
    {
     "data": {
      "text/plain": [
       "(3, 3)"
      ]
     },
     "execution_count": 19,
     "metadata": {},
     "output_type": "execute_result"
    }
   ],
   "source": [
    "get_in_out_degs(node=1)"
   ]
  },
  {
   "cell_type": "code",
   "execution_count": null,
   "metadata": {},
   "outputs": [],
   "source": []
  }
 ],
 "metadata": {
  "kernelspec": {
   "display_name": "Python 3",
   "language": "python",
   "name": "python3"
  },
  "language_info": {
   "codemirror_mode": {
    "name": "ipython",
    "version": 3
   },
   "file_extension": ".py",
   "mimetype": "text/x-python",
   "name": "python",
   "nbconvert_exporter": "python",
   "pygments_lexer": "ipython3",
   "version": "3.8.4"
  },
  "varInspector": {
   "cols": {
    "lenName": 16,
    "lenType": 16,
    "lenVar": 40
   },
   "kernels_config": {
    "python": {
     "delete_cmd_postfix": "",
     "delete_cmd_prefix": "del ",
     "library": "var_list.py",
     "varRefreshCmd": "print(var_dic_list())"
    },
    "r": {
     "delete_cmd_postfix": ") ",
     "delete_cmd_prefix": "rm(",
     "library": "var_list.r",
     "varRefreshCmd": "cat(var_dic_list()) "
    }
   },
   "types_to_exclude": [
    "module",
    "function",
    "builtin_function_or_method",
    "instance",
    "_Feature"
   ],
   "window_display": false
  }
 },
 "nbformat": 4,
 "nbformat_minor": 4
}
