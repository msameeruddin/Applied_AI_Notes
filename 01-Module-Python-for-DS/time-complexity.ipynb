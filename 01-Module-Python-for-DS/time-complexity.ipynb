{
 "cells": [
  {
   "cell_type": "markdown",
   "metadata": {},
   "source": [
    "# Linear Search"
   ]
  },
  {
   "cell_type": "code",
   "execution_count": 1,
   "metadata": {},
   "outputs": [],
   "source": [
    "def search_linear(arr, q):\n",
    "    for i, j in enumerate(arr):\n",
    "        if (j == q):\n",
    "            return (i, q)\n",
    "    return (-1, q)"
   ]
  },
  {
   "cell_type": "code",
   "execution_count": 2,
   "metadata": {},
   "outputs": [
    {
     "name": "stdout",
     "output_type": "stream",
     "text": [
      "(75, 4)\n"
     ]
    }
   ],
   "source": [
    "import random\n",
    "\n",
    "arr = list(range(1, 101))\n",
    "random.shuffle(arr)\n",
    "\n",
    "f = search_linear(arr, 4)\n",
    "print(f)"
   ]
  },
  {
   "cell_type": "code",
   "execution_count": null,
   "metadata": {},
   "outputs": [],
   "source": []
  },
  {
   "cell_type": "markdown",
   "metadata": {},
   "source": [
    "$$\\log (n) \\leq n$$\n",
    "\n",
    "$$O(\\log _2(n)) \\leq O(n)$$\n",
    "\n",
    "---\n",
    "\n",
    "$$n = 1; \\ \\log _2(n) = 0$$\n",
    "\n",
    "$$n = 2; \\ \\log _2(n) = 1$$\n",
    "\n",
    "$$n = 4; \\ \\log _2(n) = 2$$\n",
    "\n",
    "$$n = 8; \\ \\log _2(n) = 3$$\n",
    "\n",
    "$$n = 16; \\ \\log _2(n) = 4$$\n",
    "\n",
    "$$\\dots$$\n",
    "\n",
    "$$n = 1024; \\ \\log _2(n) = 10$$"
   ]
  },
  {
   "cell_type": "code",
   "execution_count": null,
   "metadata": {},
   "outputs": [],
   "source": []
  },
  {
   "cell_type": "markdown",
   "metadata": {},
   "source": [
    "# Binary Search"
   ]
  },
  {
   "cell_type": "code",
   "execution_count": 3,
   "metadata": {},
   "outputs": [],
   "source": [
    "def binary_search(arr, left, right, q):\n",
    "    mid = round((left + right) / 2)\n",
    "    \n",
    "    try:\n",
    "        if (arr[mid] == q):\n",
    "            return (mid, q)\n",
    "\n",
    "        elif (arr[mid] > q):\n",
    "            return binary_search(arr, left, mid, q)\n",
    "\n",
    "        elif (arr[mid] < q):\n",
    "            return binary_search(arr, mid, right, q)\n",
    "    \n",
    "    except RecursionError as r:\n",
    "        return (-1, q)"
   ]
  },
  {
   "cell_type": "code",
   "execution_count": 4,
   "metadata": {},
   "outputs": [
    {
     "name": "stdout",
     "output_type": "stream",
     "text": [
      "(1, 3)\n"
     ]
    }
   ],
   "source": [
    "arr = [2, 3, 4, 10, 40, 43, 45, 46]\n",
    "left = 0\n",
    "right = len(arr) - 1\n",
    "q = 3\n",
    "\n",
    "f = binary_search(arr=arr, left=left, right=right, q=q)\n",
    "print(f)"
   ]
  },
  {
   "cell_type": "code",
   "execution_count": null,
   "metadata": {},
   "outputs": [],
   "source": []
  },
  {
   "cell_type": "markdown",
   "metadata": {},
   "source": [
    "# Find Common in two"
   ]
  },
  {
   "cell_type": "markdown",
   "metadata": {},
   "source": [
    "* Time → $O(M*N)$\n",
    "* Space → $O(1)$"
   ]
  },
  {
   "cell_type": "code",
   "execution_count": 5,
   "metadata": {},
   "outputs": [
    {
     "name": "stdout",
     "output_type": "stream",
     "text": [
      "[32, 97, 34, 98, 100, 69, 9, 75, 78, 15, 47, 81, 50, 25, 58, 60, 30]\n",
      "[100, 38, 39, 73, 14, 48, 49, 82, 23, 54, 22, 90, 61, 30, 63]\n"
     ]
    }
   ],
   "source": [
    "import random\n",
    "\n",
    "set1 = list(set([random.randint(1, 100) for i in range(20)]))\n",
    "set2 = list(set([random.randint(1, 100) for i in range(20)]))\n",
    "\n",
    "print(set1)\n",
    "print(set2)"
   ]
  },
  {
   "cell_type": "code",
   "execution_count": 6,
   "metadata": {},
   "outputs": [],
   "source": [
    "def find_common1(set1, set2):\n",
    "    common = [i for j in set2 for i in set1 if i == j]\n",
    "    return common"
   ]
  },
  {
   "cell_type": "code",
   "execution_count": 7,
   "metadata": {},
   "outputs": [
    {
     "name": "stdout",
     "output_type": "stream",
     "text": [
      "[100, 30]\n"
     ]
    }
   ],
   "source": [
    "common = find_common1(set1=set1, set2=set2)\n",
    "print(common)"
   ]
  },
  {
   "cell_type": "code",
   "execution_count": null,
   "metadata": {},
   "outputs": [],
   "source": []
  },
  {
   "cell_type": "markdown",
   "metadata": {},
   "source": [
    "* Time → $O(M + N)$\n",
    "* Space → $O(M)$"
   ]
  },
  {
   "cell_type": "code",
   "execution_count": 8,
   "metadata": {},
   "outputs": [],
   "source": [
    "def find_common2(set1, set2):\n",
    "    set2_hashed = {i : 1 for i in set2}\n",
    "    common = [i for i in set1 if i in set2_hashed]\n",
    "    return common"
   ]
  },
  {
   "cell_type": "code",
   "execution_count": 9,
   "metadata": {},
   "outputs": [
    {
     "name": "stdout",
     "output_type": "stream",
     "text": [
      "[100, 30]\n"
     ]
    }
   ],
   "source": [
    "common = find_common2(set1=set1, set2=set2)\n",
    "print(common)"
   ]
  },
  {
   "cell_type": "code",
   "execution_count": null,
   "metadata": {},
   "outputs": [],
   "source": []
  },
  {
   "cell_type": "markdown",
   "metadata": {},
   "source": [
    "Optimized code"
   ]
  },
  {
   "cell_type": "code",
   "execution_count": 10,
   "metadata": {},
   "outputs": [],
   "source": [
    "find_common3 = lambda set1, set2: list(set(set1).intersection(set(set2)))"
   ]
  },
  {
   "cell_type": "code",
   "execution_count": 11,
   "metadata": {},
   "outputs": [
    {
     "name": "stdout",
     "output_type": "stream",
     "text": [
      "[100, 30]\n"
     ]
    }
   ],
   "source": [
    "common = find_common3(set1=set1, set2=set2)\n",
    "print(common)"
   ]
  },
  {
   "cell_type": "code",
   "execution_count": null,
   "metadata": {},
   "outputs": [],
   "source": []
  },
  {
   "cell_type": "markdown",
   "metadata": {},
   "source": [
    "# Code Performance"
   ]
  },
  {
   "cell_type": "code",
   "execution_count": 12,
   "metadata": {},
   "outputs": [],
   "source": [
    "import random\n",
    "from timeit import timeit\n",
    "\n",
    "import matplotlib.pyplot as plt\n",
    "from matplotlib import style\n",
    "style.use('seaborn')\n",
    "\n",
    "def time_convertor(val, time_type):\n",
    "    if time_type == 'µs':\n",
    "        val = val / 1000000\n",
    "    elif time_type == 'ms':\n",
    "        val = val / 1000\n",
    "    else:\n",
    "        val = val\n",
    "    return val\n",
    "\n",
    "def compare_performace():\n",
    "    r = [10, 30, 50, 100, 500, 1000, 1500]\n",
    "    X = []; Y1 = []; Y2 = []; Y3 = []\n",
    "    \n",
    "    for i in range(len(r)):\n",
    "        set1 = list(set([random.randint(1, 100) for i in range(r[i])]))\n",
    "        set2 = list(set([random.randint(1, 100) for i in range(r[i])]))\n",
    "        \n",
    "        x_val = \"{}\".format(r[i])\n",
    "        X.append(x_val)\n",
    "        \n",
    "        y_val_1 = %timeit -o find_common1(set1=set1, set2=set2)\n",
    "        y_val_2 = %timeit -o find_common2(set1=set1, set2=set2)\n",
    "        y_val_3 = %timeit -o find_common3(set1=set1, set2=set2)\n",
    "        print('---------')\n",
    "        \n",
    "        y_val_1 = str(y_val_1).split(' ', 2)\n",
    "        y_val_2 = str(y_val_2).split(' ', 2)\n",
    "        y_val_3 = str(y_val_3).split(' ', 2)\n",
    "        \n",
    "        y_val_1 = time_convertor(val=float(y_val_1[0]), time_type=y_val_1[1])\n",
    "        y_val_2 = time_convertor(val=float(y_val_2[0]), time_type=y_val_2[1])\n",
    "        y_val_3 = time_convertor(val=float(y_val_3[0]), time_type=y_val_3[1])\n",
    "        \n",
    "        Y1.append(y_val_1)\n",
    "        Y2.append(y_val_2)\n",
    "        Y3.append(y_val_3)\n",
    "    \n",
    "    plt.figure(figsize=(15, 8))\n",
    "    plt.plot(X, Y1, '-o', label='Normal function')\n",
    "    plt.plot(X, Y2, '-o', label='List comprehension')\n",
    "    plt.plot(X, Y3, '-o', label='Lambda function')\n",
    "    plt.xlabel('Array size')\n",
    "    plt.ylabel('Function performance')\n",
    "    plt.legend()\n",
    "    plt.show()"
   ]
  },
  {
   "cell_type": "code",
   "execution_count": 13,
   "metadata": {
    "scrolled": false
   },
   "outputs": [
    {
     "name": "stdout",
     "output_type": "stream",
     "text": [
      "5.38 µs ± 627 ns per loop (mean ± std. dev. of 7 runs, 100000 loops each)\n",
      "1.9 µs ± 42.9 ns per loop (mean ± std. dev. of 7 runs, 1000000 loops each)\n",
      "1.81 µs ± 199 ns per loop (mean ± std. dev. of 7 runs, 1000000 loops each)\n",
      "---------\n",
      "28.7 µs ± 11.4 µs per loop (mean ± std. dev. of 7 runs, 10000 loops each)\n",
      "6.83 µs ± 1.31 µs per loop (mean ± std. dev. of 7 runs, 100000 loops each)\n",
      "4.2 µs ± 599 ns per loop (mean ± std. dev. of 7 runs, 100000 loops each)\n",
      "---------\n",
      "60.4 µs ± 3.8 µs per loop (mean ± std. dev. of 7 runs, 10000 loops each)\n",
      "8.53 µs ± 2.15 µs per loop (mean ± std. dev. of 7 runs, 100000 loops each)\n",
      "4.49 µs ± 137 ns per loop (mean ± std. dev. of 7 runs, 100000 loops each)\n",
      "---------\n",
      "152 µs ± 12.7 µs per loop (mean ± std. dev. of 7 runs, 10000 loops each)\n",
      "8.54 µs ± 667 ns per loop (mean ± std. dev. of 7 runs, 100000 loops each)\n",
      "6.62 µs ± 516 ns per loop (mean ± std. dev. of 7 runs, 100000 loops each)\n",
      "---------\n",
      "377 µs ± 40.7 µs per loop (mean ± std. dev. of 7 runs, 1000 loops each)\n",
      "13.3 µs ± 405 ns per loop (mean ± std. dev. of 7 runs, 100000 loops each)\n",
      "12.1 µs ± 1.09 µs per loop (mean ± std. dev. of 7 runs, 100000 loops each)\n",
      "---------\n",
      "399 µs ± 29.5 µs per loop (mean ± std. dev. of 7 runs, 1000 loops each)\n",
      "16.4 µs ± 3.29 µs per loop (mean ± std. dev. of 7 runs, 100000 loops each)\n",
      "13.6 µs ± 1.23 µs per loop (mean ± std. dev. of 7 runs, 100000 loops each)\n",
      "---------\n",
      "481 µs ± 101 µs per loop (mean ± std. dev. of 7 runs, 1000 loops each)\n",
      "18.4 µs ± 8.13 µs per loop (mean ± std. dev. of 7 runs, 10000 loops each)\n",
      "14.6 µs ± 1.57 µs per loop (mean ± std. dev. of 7 runs, 100000 loops each)\n",
      "---------\n"
     ]
    },
    {
     "data": {
      "image/png": "[encoded data removed]",
      "text/plain": [
       "<Figure size 1080x576 with 1 Axes>"
      ]
     },
     "metadata": {},
     "output_type": "display_data"
    }
   ],
   "source": [
    "compare_performace()"
   ]
  },
  {
   "cell_type": "code",
   "execution_count": null,
   "metadata": {},
   "outputs": [],
   "source": []
  }
 ],
 "metadata": {
  "kernelspec": {
   "display_name": "Python 3 (ipykernel)",
   "language": "python",
   "name": "python3"
  },
  "language_info": {
   "codemirror_mode": {
    "name": "ipython",
    "version": 3
   },
   "file_extension": ".py",
   "mimetype": "text/x-python",
   "name": "python",
   "nbconvert_exporter": "python",
   "pygments_lexer": "ipython3",
   "version": "3.8.4"
  },
  "varInspector": {
   "cols": {
    "lenName": 16,
    "lenType": 16,
    "lenVar": 40
   },
   "kernels_config": {
    "python": {
     "delete_cmd_postfix": "",
     "delete_cmd_prefix": "del ",
     "library": "var_list.py",
     "varRefreshCmd": "print(var_dic_list())"
    },
    "r": {
     "delete_cmd_postfix": ") ",
     "delete_cmd_prefix": "rm(",
     "library": "var_list.r",
     "varRefreshCmd": "cat(var_dic_list()) "
    }
   },
   "types_to_exclude": [
    "module",
    "function",
    "builtin_function_or_method",
    "instance",
    "_Feature"
   ],
   "window_display": false
  }
 },
 "nbformat": 4,
 "nbformat_minor": 4
}
