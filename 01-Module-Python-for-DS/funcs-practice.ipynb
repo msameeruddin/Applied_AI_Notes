{
 "cells": [
  {
   "cell_type": "code",
   "execution_count": 1,
   "metadata": {},
   "outputs": [],
   "source": [
    "from timeit import timeit"
   ]
  },
  {
   "cell_type": "markdown",
   "metadata": {},
   "source": [
    "# Matrix Transpose"
   ]
  },
  {
   "cell_type": "code",
   "execution_count": 2,
   "metadata": {},
   "outputs": [],
   "source": [
    "import random\n",
    "\n",
    "matrix = [[random.randint(1, 20) for i in range(5)] for j in range(500)]"
   ]
  },
  {
   "cell_type": "markdown",
   "metadata": {},
   "source": [
    "#### Normal Function"
   ]
  },
  {
   "cell_type": "code",
   "execution_count": 3,
   "metadata": {},
   "outputs": [],
   "source": [
    "def transpose_matrix_1(matrix):\n",
    "    row_len = len(matrix[0])\n",
    "    \n",
    "    trans_mat = []\n",
    "    for i in range(row_len):\n",
    "        trans_row = []\n",
    "        for row in matrix:\n",
    "            trans_row.append(row[i])\n",
    "        trans_mat.append(trans_row)\n",
    "    \n",
    "    return trans_mat"
   ]
  },
  {
   "cell_type": "code",
   "execution_count": 4,
   "metadata": {},
   "outputs": [],
   "source": [
    "# %timeit transpose_matrix_1(matrix=matrix)"
   ]
  },
  {
   "cell_type": "markdown",
   "metadata": {},
   "source": [
    "#### Function using `List Comprehension`"
   ]
  },
  {
   "cell_type": "code",
   "execution_count": 5,
   "metadata": {},
   "outputs": [],
   "source": [
    "def transpose_matrix_2(matrix):\n",
    "    row_len = len(matrix[0])\n",
    "    trans_mat = [[row[i] for row in matrix] for i in range(row_len)]\n",
    "    return trans_mat"
   ]
  },
  {
   "cell_type": "code",
   "execution_count": 6,
   "metadata": {
    "scrolled": true
   },
   "outputs": [],
   "source": [
    "# %timeit transpose_matrix_2(matrix=matrix)"
   ]
  },
  {
   "cell_type": "markdown",
   "metadata": {},
   "source": [
    "#### Function using `Lambda expression`"
   ]
  },
  {
   "cell_type": "code",
   "execution_count": 7,
   "metadata": {},
   "outputs": [],
   "source": [
    "transpose_matrix_3 = lambda matrix: list(map(list, zip(*matrix)))"
   ]
  },
  {
   "cell_type": "code",
   "execution_count": 8,
   "metadata": {},
   "outputs": [],
   "source": [
    "# t = %timeit -o transpose_matrix_3(matrix=matrix)"
   ]
  },
  {
   "cell_type": "markdown",
   "metadata": {},
   "source": [
    "### Performance Comparison"
   ]
  },
  {
   "cell_type": "code",
   "execution_count": 9,
   "metadata": {},
   "outputs": [],
   "source": [
    "import random\n",
    "from timeit import timeit\n",
    "\n",
    "import matplotlib.pyplot as plt\n",
    "from matplotlib import style\n",
    "style.use('seaborn')\n",
    "\n",
    "def time_convertor(val, time_type):\n",
    "    if time_type == 'µs':\n",
    "        val = val / 1000000\n",
    "    elif time_type == 'ms':\n",
    "        val = val / 1000\n",
    "    else:\n",
    "        val = val\n",
    "    return val\n",
    "\n",
    "def compare_performace():\n",
    "    r = [3, 5, 10, 50, 100, 500, 1000]\n",
    "    X = []; Y1 = []; Y2 = []; Y3 = []\n",
    "    \n",
    "    for i in range(len(r)):\n",
    "        matrix = [[random.randint(1, 20) for j in range(r[i])] for k in range(r[i])]\n",
    "        \n",
    "        x_val = \"{} x {}\".format(r[i], r[i])\n",
    "        X.append(x_val)\n",
    "        \n",
    "        y_val_1 = %timeit -o transpose_matrix_1(matrix=matrix)\n",
    "        y_val_2 = %timeit -o transpose_matrix_2(matrix=matrix)\n",
    "        y_val_3 = %timeit -o transpose_matrix_3(matrix=matrix)\n",
    "        print('---------')\n",
    "        \n",
    "        y_val_1 = str(y_val_1).split(' ', 2)\n",
    "        y_val_2 = str(y_val_2).split(' ', 2)\n",
    "        y_val_3 = str(y_val_3).split(' ', 2)\n",
    "        \n",
    "        y_val_1 = time_convertor(val=float(y_val_1[0]), time_type=y_val_1[1])\n",
    "        y_val_2 = time_convertor(val=float(y_val_2[0]), time_type=y_val_2[1])\n",
    "        y_val_3 = time_convertor(val=float(y_val_3[0]), time_type=y_val_3[1])\n",
    "        \n",
    "        Y1.append(y_val_1)\n",
    "        Y2.append(y_val_2)\n",
    "        Y3.append(y_val_3)\n",
    "    \n",
    "    plt.figure(figsize=(15, 8))\n",
    "    plt.plot(X, Y1, '-o', label='Normal function')\n",
    "    plt.plot(X, Y2, '-o', label='List comprehension')\n",
    "    plt.plot(X, Y3, '-o', label='Lambda function')\n",
    "    plt.xlabel('Matrix dimension')\n",
    "    plt.ylabel('Function performance')\n",
    "    plt.legend()\n",
    "    plt.show()\n",
    "    \n",
    "    return True"
   ]
  },
  {
   "cell_type": "code",
   "execution_count": 10,
   "metadata": {},
   "outputs": [],
   "source": [
    "# compare_performace()"
   ]
  },
  {
   "cell_type": "code",
   "execution_count": null,
   "metadata": {},
   "outputs": [],
   "source": []
  },
  {
   "cell_type": "code",
   "execution_count": null,
   "metadata": {},
   "outputs": [],
   "source": []
  },
  {
   "cell_type": "markdown",
   "metadata": {},
   "source": [
    "# HCF of Two Numbers"
   ]
  },
  {
   "cell_type": "markdown",
   "metadata": {},
   "source": [
    "#### Normal Function"
   ]
  },
  {
   "cell_type": "code",
   "execution_count": 11,
   "metadata": {},
   "outputs": [],
   "source": [
    "def find_hcf(num1, num2):\n",
    "    ideal_num = num1 if num1 < num2 else num2\n",
    "    hcf = 1\n",
    "    for i in range(1, ideal_num + 1):\n",
    "        if (num1 % i == 0) and (num2 % i == 0):\n",
    "            hcf = i\n",
    "    return hcf"
   ]
  },
  {
   "cell_type": "code",
   "execution_count": 12,
   "metadata": {
    "scrolled": true
   },
   "outputs": [
    {
     "name": "stdout",
     "output_type": "stream",
     "text": [
      "4\n"
     ]
    }
   ],
   "source": [
    "hcf = find_hcf(num1=16, num2=20)\n",
    "print(hcf)"
   ]
  },
  {
   "cell_type": "markdown",
   "metadata": {},
   "source": [
    "#### Function using `List Comprehension`"
   ]
  },
  {
   "cell_type": "code",
   "execution_count": 13,
   "metadata": {},
   "outputs": [],
   "source": [
    "def find_hcf(num1, num2):\n",
    "    ideal_num = min(num1, num2)\n",
    "    hcf = [i for i in range(1, ideal_num + 1) if (num1 % i == 0) and (num2 % i == 0)][-1]\n",
    "    return hcf"
   ]
  },
  {
   "cell_type": "code",
   "execution_count": 14,
   "metadata": {
    "scrolled": true
   },
   "outputs": [
    {
     "name": "stdout",
     "output_type": "stream",
     "text": [
      "98\n"
     ]
    }
   ],
   "source": [
    "hcf = find_hcf(num1=98, num2=196)\n",
    "print(hcf)"
   ]
  },
  {
   "cell_type": "markdown",
   "metadata": {},
   "source": [
    "#### Function using `Lambda expression`"
   ]
  },
  {
   "cell_type": "code",
   "execution_count": 15,
   "metadata": {},
   "outputs": [],
   "source": [
    "find_hcf = lambda num1, num2: [i for i in range(1, min(num1, num2) + 1) if (num1 % i == 0) and (num2 % i == 0)][-1]"
   ]
  },
  {
   "cell_type": "code",
   "execution_count": 16,
   "metadata": {
    "scrolled": true
   },
   "outputs": [
    {
     "name": "stdout",
     "output_type": "stream",
     "text": [
      "98\n"
     ]
    }
   ],
   "source": [
    "hcf = find_hcf(num1=98, num2=196)\n",
    "print(hcf)"
   ]
  },
  {
   "cell_type": "code",
   "execution_count": null,
   "metadata": {},
   "outputs": [],
   "source": []
  },
  {
   "cell_type": "markdown",
   "metadata": {},
   "source": [
    "# Write Better Code"
   ]
  },
  {
   "cell_type": "markdown",
   "metadata": {},
   "source": [
    "In data science project (any project - in general), try to avoid the usage of `for` loops. The code should be elegant in terms of performance and compatibility. Use in-built functions like - \n",
    "\n",
    "* filter\n",
    "* reduce\n",
    "* map\n",
    "* list comprehension (optional)\n",
    "* lambda expressions"
   ]
  },
  {
   "cell_type": "code",
   "execution_count": null,
   "metadata": {},
   "outputs": [],
   "source": []
  },
  {
   "cell_type": "markdown",
   "metadata": {},
   "source": [
    "# `os` module"
   ]
  },
  {
   "cell_type": "markdown",
   "metadata": {},
   "source": [
    "```python\n",
    "import os\n",
    "```\n",
    "\n",
    "* Python `os` module cannot remove (delete) a directory which contains files in it. Directly, we can remove an empty directory with `os`.\n",
    "\n",
    "* To remove a non-empty folder, we use the method `rmtree()` of the module called `shutil`.\n",
    "    - `shutil.rmtree(<specify your folder>)`\n",
    "\n",
    "* `os` module is a friendly and elegant module where the Python finds a way to talk with the System OS to manipulate the file system."
   ]
  },
  {
   "cell_type": "code",
   "execution_count": null,
   "metadata": {},
   "outputs": [],
   "source": []
  }
 ],
 "metadata": {
  "kernelspec": {
   "display_name": "Python 3 (ipykernel)",
   "language": "python",
   "name": "python3"
  },
  "language_info": {
   "codemirror_mode": {
    "name": "ipython",
    "version": 3
   },
   "file_extension": ".py",
   "mimetype": "text/x-python",
   "name": "python",
   "nbconvert_exporter": "python",
   "pygments_lexer": "ipython3",
   "version": "3.8.4"
  },
  "varInspector": {
   "cols": {
    "lenName": 16,
    "lenType": 16,
    "lenVar": 40
   },
   "kernels_config": {
    "python": {
     "delete_cmd_postfix": "",
     "delete_cmd_prefix": "del ",
     "library": "var_list.py",
     "varRefreshCmd": "print(var_dic_list())"
    },
    "r": {
     "delete_cmd_postfix": ") ",
     "delete_cmd_prefix": "rm(",
     "library": "var_list.r",
     "varRefreshCmd": "cat(var_dic_list()) "
    }
   },
   "types_to_exclude": [
    "module",
    "function",
    "builtin_function_or_method",
    "instance",
    "_Feature"
   ],
   "window_display": false
  }
 },
 "nbformat": 4,
 "nbformat_minor": 4
}
