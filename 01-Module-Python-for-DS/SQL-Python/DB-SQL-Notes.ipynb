{
 "cells": [
  {
   "cell_type": "markdown",
   "metadata": {},
   "source": [
    "# Why DB?"
   ]
  },
  {
   "cell_type": "markdown",
   "metadata": {},
   "source": [
    "* Alternative → Text File / CSV"
   ]
  },
  {
   "cell_type": "markdown",
   "metadata": {},
   "source": [
    "**Uses of DB software**\n",
    "\n",
    "* Provides simple and easy to use language called SQL\n",
    "* Faster → Uses indexing to retreive data\n",
    "* Reliable\n",
    "* Secure\n",
    "\n",
    "(Even if hardware/hard-disk crashes, DB's have backup to provide data access)\n",
    "\n",
    "* Uses triplecate storage - stores a copy of data in different hard-disk "
   ]
  },
  {
   "cell_type": "markdown",
   "metadata": {},
   "source": [
    "# Types of DB's\n",
    "\n",
    "* Relational DB's → Data is stored on multiple tables\n",
    "    * Oracle\n",
    "    * MySQL\n",
    "    * SQLServer\n",
    "* Non-relational DB's → Data is stored in the form Dictionary (JSON)\n",
    "    * MongoDB\n",
    "    * NoSQL"
   ]
  },
  {
   "cell_type": "markdown",
   "metadata": {},
   "source": [
    "# SQL\n",
    "\n",
    "1. **DML** → Data Manipulation Language\n",
    "    - SELECT\n",
    "    - INSERT\n",
    "    - UPDATE\n",
    "    - DELETE\n",
    "2. **DDL** → Data Definition Language\n",
    "    - TRUNCATE → deletes the contents of the table (not the whole table)\n",
    "    - NOT NULL\n",
    "    - UNIQUE\n",
    "    - PRIMARY KEY\n",
    "    - FOREIGN KEY\n",
    "    - CHECK\n",
    "    - DEFAULT\n",
    "    - INDEX\n",
    "    - CREATE\n",
    "    - ALTER\n",
    "        - ADD\n",
    "        - MODEIFY\n",
    "        - DROP → deletes the whole table\n",
    "3. **DCL** → Data Control Language (ensures data safety)\n",
    "    - Mainly used by the DB admins. They have the right to modify or create or delete data in the database, but not users.\n",
    "    - GRANT\n",
    "    - REVOKE\n",
    "    - Admins → responsible for well running of the database (services)."
   ]
  },
  {
   "cell_type": "markdown",
   "metadata": {},
   "source": [
    "Structured Quer Language → Developed by IBM in the year 1970 by Researchers\n",
    "\n",
    "* Widely used in relational databases\n",
    "* It is a standard way to query/obtain/add/delete/modify the data at any point of time\n",
    "* Not a general purpose programming language\n",
    "    - Domain specific language in the domain of databases"
   ]
  },
  {
   "cell_type": "markdown",
   "metadata": {},
   "source": [
    "* In procedural/general programming language, programmer gives step-by-step instructions.\n",
    "* SQL is a declarative/domain specific language, programmer tells what she/he needs and how to get that is someother's problem."
   ]
  },
  {
   "cell_type": "markdown",
   "metadata": {},
   "source": [
    "# Command Execution"
   ]
  },
  {
   "cell_type": "markdown",
   "metadata": {},
   "source": [
    "* Parser/Compiler → tries to understand what is the command that is given\n",
    "    - generates the code in either c/c++/java/python\n",
    "    - responsible to show errors if there persist some errors\n",
    "* Query Optimizer → finds the optimal way to execute the command/query\n",
    "* Query Executor → executes the code on the db and display the entries"
   ]
  },
  {
   "cell_type": "markdown",
   "metadata": {},
   "source": [
    "### Initial steps"
   ]
  },
  {
   "cell_type": "markdown",
   "metadata": {},
   "source": [
    "* USE <db_name>; → to use the database\n",
    "* SHOW TABLES; → lists all the tables which are there in the database\n",
    "* DESCRIBE <table_name> → describes a particular table selected"
   ]
  },
  {
   "cell_type": "markdown",
   "metadata": {},
   "source": [
    "### Data types"
   ]
  },
  {
   "cell_type": "markdown",
   "metadata": {},
   "source": [
    "<img src=\"https://cdn.journaldev.com/wp-content/uploads/2017/11/sql-data-types.png.webp\">\n",
    "\n",
    "**Credits** - Image from Internet"
   ]
  },
  {
   "cell_type": "markdown",
   "metadata": {},
   "source": [
    "### ResultSet"
   ]
  },
  {
   "cell_type": "markdown",
   "metadata": {},
   "source": [
    "ResultSet is set of rows and columns.\n",
    "\n",
    "* It can be whole data table or subset of it.\n",
    "* Output generated from a SELECT query.\n",
    "* Query that is given to select a subset is always faster than selecting the whole data able as it is.\n",
    "* Row order is preserved in SQL queries."
   ]
  },
  {
   "cell_type": "markdown",
   "metadata": {},
   "source": [
    "### OFFSET"
   ]
  },
  {
   "cell_type": "markdown",
   "metadata": {},
   "source": [
    "The main advantage of using OFFSET is to ignore the first `<specified_number>`."
   ]
  },
  {
   "cell_type": "markdown",
   "metadata": {},
   "source": [
    "### Wild card characters"
   ]
  },
  {
   "cell_type": "markdown",
   "metadata": {},
   "source": [
    "* `%` → all characters\n",
    "* `_` → exactly one character\n",
    "* `\\` → escape character"
   ]
  },
  {
   "cell_type": "markdown",
   "metadata": {},
   "source": [
    "### Aggregate functions"
   ]
  },
  {
   "cell_type": "markdown",
   "metadata": {},
   "source": [
    "* COUNT\n",
    "* MIN\n",
    "* MAX\n",
    "* SUM\n",
    "* AVG"
   ]
  },
  {
   "cell_type": "markdown",
   "metadata": {},
   "source": [
    "# Important commands"
   ]
  },
  {
   "cell_type": "markdown",
   "metadata": {},
   "source": [
    "### DISTINCT"
   ]
  },
  {
   "cell_type": "markdown",
   "metadata": {},
   "source": [
    "**Command**\n",
    "\n",
    "```SQL\n",
    " > SELECT DISTINCT genre FROM movies_genres;\n",
    "```\n",
    "\n",
    "**Output**\n",
    "\n",
    "| genre       |\n",
    "| --- |\n",
    "| Documentary |\n",
    "| Short       |\n",
    "| Comedy      |\n",
    "| ... |\n",
    "| Adventure   |\n",
    "| Film-Noir   |"
   ]
  },
  {
   "cell_type": "markdown",
   "metadata": {},
   "source": [
    "---"
   ]
  },
  {
   "cell_type": "markdown",
   "metadata": {},
   "source": [
    "#### GROUP BY & ORDER BY (together)"
   ]
  },
  {
   "cell_type": "markdown",
   "metadata": {},
   "source": [
    "**Command**\n",
    "\n",
    "```SQL\n",
    " > SELECT genre, AVG(prob), COUNT(genre)\n",
    "-> FROM directors_genres\n",
    "-> GROUP BY genre;\n",
    "```\n",
    "\n",
    "**Output**\n",
    "\n",
    "| genre       | AVG(prob)           | COUNT(genre) |\n",
    "| --- | --- | --- |\n",
    "| Short       |  0.8261636824405604 |        28294 |\n",
    "| Drama       |  0.7055499588868819 |        25357 |\n",
    "| ... | ... | ... |\n",
    "| Music       |  0.5782766784248387 |         2472 |\n",
    "| Film-Noir   | 0.11276367777963077 |          204 |"
   ]
  },
  {
   "cell_type": "markdown",
   "metadata": {},
   "source": [
    "**Command**\n",
    "\n",
    "```SQL\n",
    " > SELECT genre, ROUND(AVG(prob), 3), COUNT(genre)\n",
    "-> FROM directors_genres\n",
    "-> GROUP BY genre;\n",
    "```\n",
    "\n",
    "**Output**\n",
    "\n",
    "| genre       | ROUND(AVG(prob), 3) | COUNT(genre) |\n",
    "| --- | --- | --- |\n",
    "| Short       |               0.826 |        28294 |\n",
    "| Drama       |               0.706 |        25357 |\n",
    "| ... | ... | ... |\n",
    "| Music       |               0.578 |         2472 |\n",
    "| Film-Noir   |               0.113 |          204 |"
   ]
  },
  {
   "cell_type": "markdown",
   "metadata": {},
   "source": [
    "**Command**\n",
    "\n",
    "```SQL\n",
    " > SELECT year, COUNT(year) \n",
    "-> FROM movies \n",
    "-> GROUP BY year \n",
    "-> ORDER BY year ASC;\n",
    "```\n",
    "\n",
    "**Output**\n",
    "\n",
    "| year | COUNT(year) |\n",
    "| --- | --- |\n",
    "| 1888 |           2 |\n",
    "| 1890 |           3 |\n",
    "| ... | ... |\n",
    "| 2007 |           7 |\n",
    "| 2008 |           1 |"
   ]
  },
  {
   "cell_type": "markdown",
   "metadata": {},
   "source": [
    "**Command**\n",
    "\n",
    "```SQL\n",
    " > SELECT genre, ROUND(AVG(prob), 3) AS p, COUNT(genre)\n",
    "-> FROM directors_genres\n",
    "-> GROUP BY genre\n",
    "-> ORDER BY p;\n",
    "```\n",
    "\n",
    "**Output**\n",
    "\n",
    "| genre       | p     | COUNT(genre) |\n",
    "| --- | --- | --- |\n",
    "| Film-Noir   | 0.113 |          204 |\n",
    "| War         | 0.326 |         2931 |\n",
    "| ... | ... | ... |\n",
    "| Short       | 0.826 |        28294 |\n",
    "| Animation   | 0.863 |         4417 |"
   ]
  },
  {
   "cell_type": "markdown",
   "metadata": {},
   "source": [
    "---"
   ]
  },
  {
   "cell_type": "markdown",
   "metadata": {},
   "source": [
    "#### HAVING & GROUP BY (together)\n",
    "\n",
    "* `HAVING` is typically used along with `GROUP BY`.\n",
    "* `HAVING` is same as `WHERE` (when not using `GROUP BY`).\n",
    "* `WHERE` is applied on individual rows and `HAVING` is applied on groups."
   ]
  },
  {
   "cell_type": "markdown",
   "metadata": {},
   "source": [
    "**Command**\n",
    "\n",
    "```SQL\n",
    " > SELECT year, COUNT(year) AS yc \n",
    "-> FROM movies \n",
    "-> GROUP BY year \n",
    "-> HAVING yc >= 1000;\n",
    "```\n",
    "\n",
    "**Output**\n",
    "\n",
    "| year | yc    |\n",
    "| --- | --- |\n",
    "| 2002 | 12056 |\n",
    "| 2000 | 11643 |\n",
    "| ... | ... |\n",
    "| 1953 |  2549 |\n",
    "| 1926 |  2137 |"
   ]
  },
  {
   "cell_type": "markdown",
   "metadata": {},
   "source": [
    "**Command**\n",
    "\n",
    "```SQL\n",
    " > SELECT year, COUNT(year) as yc \n",
    "-> FROM movies \n",
    "-> GROUP BY year \n",
    "-> HAVING yc >= 1000 \n",
    "-> ORDER BY year;\n",
    "```\n",
    "\n",
    "**Output**\n",
    "\n",
    "| year | yc    |\n",
    "| --- | --- |\n",
    "| 1898 |  1004 |\n",
    "| 1910 |  1276 |\n",
    "| ... | ... |\n",
    "| 2004 |  8718 |\n",
    "| 2005 |  1449 |"
   ]
  },
  {
   "cell_type": "markdown",
   "metadata": {},
   "source": [
    "**Command**\n",
    "\n",
    "```SQL\n",
    " > SELECT year, COUNT(year) AS yc \n",
    "-> FROM movies \n",
    "-> WHERE rankscore > 9.6 \n",
    "-> GROUP BY year \n",
    "-> ORDER BY yc;\n",
    "```\n",
    "\n",
    "**Output**\n",
    "\n",
    "| year | yc |\n",
    "| --- | --- |\n",
    "| 1930 |  1 |\n",
    "| 1962 |  1 |\n",
    "| ... | ... |\n",
    "| 2004 | 18 |\n",
    "| 2003 | 26 |"
   ]
  },
  {
   "cell_type": "markdown",
   "metadata": {},
   "source": [
    "**Command**\n",
    "\n",
    "```SQL\n",
    " > SELECT year, COUNT(year) AS yc, rankscore\n",
    "-> FROM movies\n",
    "-> WHERE rankscore > 9.6\n",
    "-> GROUP BY year\n",
    "-> HAVING yc > 5\n",
    "-> ORDER BY yc;\n",
    "```\n",
    "\n",
    "**Output**\n",
    "\n",
    "| year | yc | rankscore |\n",
    "| --- | --- | --- |\n",
    "| 1987 |  6 |       9.6 |\n",
    "| 1979 |  6 |       9.6 |\n",
    "| ... | ... | ... |\n",
    "| 2002 | 18 |       9.8 |\n",
    "| 2003 | 26 |       9.8 |"
   ]
  },
  {
   "cell_type": "markdown",
   "metadata": {},
   "source": [
    "---"
   ]
  },
  {
   "cell_type": "markdown",
   "metadata": {},
   "source": [
    "### JOINs (joining two tables where particular condition is TRUE)\n",
    "\n",
    "* By default `JOIN` refers to `INNER JOIN`."
   ]
  },
  {
   "cell_type": "markdown",
   "metadata": {},
   "source": [
    "**Command**\n",
    "\n",
    "```SQL\n",
    " > SELECT m.name, g.genre \n",
    "-> FROM movies AS m \n",
    "-> JOIN movies_genres AS g \n",
    "-> ON m.id = g.movie_id \n",
    "-> LIMIT 20\n",
    "```\n",
    "\n",
    "**Output**\n",
    "\n",
    "| name                                | genre       |\n",
    "| --- | --- |\n",
    "| `#7` Train: An Immigrant Journey, The | Documentary |\n",
    "| `#7` Train: An Immigrant Journey, The | Short       |\n",
    "| ... | ... |\n",
    "| `$`2500 Bride, The                    | Drama       |\n",
    "| `$`2500 Bride, The                    | Romance     |"
   ]
  },
  {
   "cell_type": "markdown",
   "metadata": {},
   "source": [
    "**Command**\n",
    "\n",
    "```SQL\n",
    " > SELECT * FROM movies AS m \n",
    "-> JOIN movies_genres AS g \n",
    "-> ON m.id = g.movie_id \n",
    "-> LIMIT 20;\n",
    "```\n",
    "\n",
    "**Output**\n",
    "\n",
    "| id | name                                | year | rankscore | movie_id | genre       |\n",
    "| --- | --- | --- | --- | --- | --- |\n",
    "|  1 | `#7` Train: An Immigrant Journey, The | 2000 |      NULL |        1 | Documentary |\n",
    "|  1 | `#7` Train: An Immigrant Journey, The | 2000 |      NULL |        1 | Short       |\n",
    "| ... | ... | ... | ... | ... | ... |\n",
    "| 14 | `$`2500 Bride, The                    | 1912 |      NULL |       14 | Drama       |\n",
    "| 14 | `$`2500 Bride, The                    | 1912 |      NULL |       14 | Romance     |"
   ]
  },
  {
   "cell_type": "markdown",
   "metadata": {},
   "source": [
    "### `k-way` Joining"
   ]
  },
  {
   "cell_type": "markdown",
   "metadata": {},
   "source": [
    "3 Tables\n",
    "\n",
    "**Command**\n",
    "\n",
    "```SQL\n",
    " > SELECT * \n",
    "-> FROM movies AS m \n",
    "-> JOIN movies_genres AS g\n",
    "-> ON m.id = g.movie_id \n",
    "-> JOIN directors_genres AS d \n",
    "-> ON g.genre = d.genre \n",
    "-> LIMIT 20;\n",
    "```\n",
    "\n",
    "**Output**\n",
    "\n",
    "| id   | name                                  | year | rankscore | movie_id | genre | director_id | genre | prob |\n",
    "| --- | --- | --- | --- | --- | --- | --- | --- | --- |\n",
    "| 5266 | Abuelitos                             | 1999 |         6 |     5266 | Short |           2 | Short |    1 |\n",
    "| 5261 | Abuela's Revolt                       | 2001 |      NULL |     5261 | Short |           2 | Short |    1 |\n",
    "| ... | ... | ... | ... | ... | ... | ... | ... | ... |\n",
    "| 5180 | Absentminded                          | 1925 |      NULL |     5180 | Short |           2 | Short |    1 |\n",
    "| 5178 | Absent-Minded Waiter, The             | 1977 |       7.7 |     5178 | Short |           2 | Short |    1 |"
   ]
  },
  {
   "cell_type": "markdown",
   "metadata": {},
   "source": [
    "3 Tables\n",
    "\n",
    "**Command**\n",
    "\n",
    "```SQL\n",
    " > SELECT m.id, d.director_id, m.year, m.name, m.rankscore, d.prob, g.genre \n",
    "-> FROM movies AS m \n",
    "-> JOIN movies_genres AS g \n",
    "-> ON m.id = g.movie_id \n",
    "-> JOIN directors_genres AS d \n",
    "-> ON g.genre = d.genre \n",
    "-> LIMIT 20;\n",
    "```\n",
    "\n",
    "**Output**\n",
    "\n",
    "| id   | director_id | year | name                                  | rankscore | prob | genre |\n",
    "| --- | --- | --- | --- | --- | --- | --- |\n",
    "| 5266 |           2 | 1999 | Abuelitos                             |         6 |    1 | Short |\n",
    "| 5261 |           2 | 2001 | Abuela's Revolt                       |      NULL |    1 | Short |\n",
    "| ... | ... | ... | ... | ... | ... | ... |\n",
    "| 5180 |           2 | 1925 | Absentminded                          |      NULL |    1 | Short |\n",
    "| 5178 |           2 | 1977 | Absent-Minded Waiter, The             |       7.7 |    1 | Short |"
   ]
  },
  {
   "cell_type": "markdown",
   "metadata": {},
   "source": [
    "4 Tables\n",
    "\n",
    "**Command**\n",
    "\n",
    "```SQL\n",
    " > SELECT m.id, m.year, dn.first_name, dn.last_name, m.name, m.rankscore, d.prob, g.genre\n",
    "-> FROM movies AS m\n",
    "-> JOIN movies_genres AS g ON m.id = g.movie_id\n",
    "-> JOIN directors_genres AS d ON g.genre = d.genre\n",
    "-> JOIN directors AS dn ON m.id = dn.id\n",
    "-> LIMIT 20;\n",
    "```\n",
    "\n",
    "**Output**\n",
    "\n",
    "| id   | year | first_name  | last_name      | name                    | rankscore | prob | genre |\n",
    "| --- | --- | --- | --- | --- | --- | --- | --- |\n",
    "| 3418 | 1988 | Adam        | Auslander      | A la altura de los ojos |      NULL |    1 | Short |\n",
    "| 3417 | 1952 | Carlo       | Ausino         | A kpzett beteg          |      NULL |    1 | Short |\n",
    "| ... | ... | ... | ... | ... | ... | ... | ... |\n",
    "| 3356 | 1975 | Cécile      | Aubry          | A contra vuelta         |      NULL |    1 | Short |\n",
    "| 3355 | 1995 | Jimmy       | Aubrey         | A comme acteur          |      NULL |    1 | Short |"
   ]
  },
  {
   "cell_type": "markdown",
   "metadata": {},
   "source": [
    "### LEFT OUTER JOIN or LEFT JOIN\n",
    "\n",
    "* `JOINs` the tables considering `LEFT` table as the base table.\n",
    "* In the `RIGHT` table, if it doesn't find a value - simply takes it as `NULL`.\n",
    "\n",
    "**Note** - \n",
    "* Same concept is applied for `RIGHT JOIN` - keeping `RIGHT` table as the base table.\n",
    "* For `FULL JOIN` - makes sure all the values are taken care."
   ]
  },
  {
   "cell_type": "markdown",
   "metadata": {},
   "source": [
    "**Command**\n",
    "\n",
    "```SQL\n",
    " > SELECT m.name, g.genre\n",
    "-> FROM movies as m\n",
    "-> LEFT JOIN movies_genres as g\n",
    "-> ON m.id = g.movie_id\n",
    "-> LIMIT 20;\n",
    "```\n",
    "\n",
    "**Output**\n",
    "\n",
    "| name                            | genre       |\n",
    "| --- | --- |\n",
    "|  173 St.G.B. Blutschande        | NULL        |\n",
    "|  51 StGB                        | NULL        |\n",
    "| ... | ... |\n",
    "|  bientt, j'espre                | Documentary |\n",
    "|  Biribi, disciplinaires franais | NULL        |"
   ]
  },
  {
   "cell_type": "markdown",
   "metadata": {},
   "source": [
    "---"
   ]
  },
  {
   "cell_type": "markdown",
   "metadata": {},
   "source": [
    "### Questions"
   ]
  },
  {
   "cell_type": "markdown",
   "metadata": {},
   "source": [
    "1. Display all the actors acted in the movie which is like 'Green Mile%'\n",
    "2. Display all the movies acted by particular actor ('Tom Hanks')"
   ]
  },
  {
   "cell_type": "markdown",
   "metadata": {},
   "source": [
    "### Ans 1)"
   ]
  },
  {
   "cell_type": "markdown",
   "metadata": {},
   "source": [
    "**Command**\n",
    "\n",
    "```SQL\n",
    " > SELECT a.first_name, a.last_name, r.role\n",
    "-> FROM actors AS a\n",
    "-> JOIN roles AS r\n",
    "-> ON a.id = r.actor_id\n",
    "-> JOIN movies AS m\n",
    "-> ON m.id = r.movie_id\n",
    "-> WHERE m.name LIKE 'Green Mile%';\n",
    "```\n",
    "\n",
    "**Output**\n",
    "\n",
    "| first_name       | last_name   | role                       |\n",
    "| --- | --- | --- |\n",
    "| Brent            | Briscoe     | Bill Dodge                 |\n",
    "| David E.         | Browning    | Reverend at Funeral        |\n",
    "| ... | ... | ... |\n",
    "| Rachel           | Singer      | Cynthia Hammersmith        |\n",
    "| Edrie            | Warner      | Lady in Nursing Home       |"
   ]
  },
  {
   "cell_type": "markdown",
   "metadata": {},
   "source": [
    "### Ans 2)"
   ]
  },
  {
   "cell_type": "markdown",
   "metadata": {},
   "source": [
    "**Command**\n",
    "\n",
    "```SQL\n",
    " > SELECT m.year, m.name, r.role, m.rankscore\n",
    "-> FROM actors AS a\n",
    "-> JOIN roles AS r\n",
    "-> ON r.actor_id = a.id\n",
    "-> JOIN movies AS m\n",
    "-> ON m.id = r.movie_id\n",
    "-> WHERE a.first_name = 'Tom' AND a.last_name = 'Hanks';\n",
    "```\n",
    "\n",
    "**Output**\n",
    "\n",
    "| year | name                                      | role                          | rankscore |\n",
    "| --- | --- | --- | --- |\n",
    "| 1989 | 'burbs, The                               | Ray Peterson                  |       5.9 |\n",
    "| 2003 | 'Catch Me If You Can': Behind the Camera  | Himself                       |      NULL |\n",
    "| ... | ... | ... | ... |\n",
    "| 1997 | \"Celebrity Profile\"                       | Himself                       |      NULL |\n",
    "| 1998 | \"From the Earth to the Moon\"              | Jean-Luc Despont/Host/Narrato |      NULL |"
   ]
  },
  {
   "cell_type": "markdown",
   "metadata": {},
   "source": [
    "**Command**\n",
    "\n",
    "```SQL\n",
    " > SELECT m.year, m.name, r.role, m.rankscore\n",
    "-> FROM actors AS a\n",
    "-> JOIN roles AS r\n",
    "-> ON r.actor_id = a.id\n",
    "-> JOIN movies AS m\n",
    "-> ON m.id = r.movie_id\n",
    "-> WHERE a.first_name = 'Tom' AND a.last_name = 'Hanks' AND m.rankscore IS NOT NULL\n",
    "-> ORDER BY m.year;\n",
    "```\n",
    "\n",
    "**Output**\n",
    "\n",
    "| year | name                         | role                    | rankscore |\n",
    "| --- | --- | --- | --- |\n",
    "| 1980 | He Knows You're Alone        | Elliot                  |       3.7 |\n",
    "| 1984 | Splash                       | Allen Bauer             |       6.3 |\n",
    "| ... | ... | ... | ... |\n",
    "| 2004 | Ladykillers, The             | Professor G.H. Dorr     |       6.5 |\n",
    "| 2004 | Terminal, The                | Viktor Navorski         |       7.1 |"
   ]
  }
 ],
 "metadata": {
  "kernelspec": {
   "display_name": "Python 3",
   "language": "python",
   "name": "python3"
  },
  "language_info": {
   "codemirror_mode": {
    "name": "ipython",
    "version": 3
   },
   "file_extension": ".py",
   "mimetype": "text/x-python",
   "name": "python",
   "nbconvert_exporter": "python",
   "pygments_lexer": "ipython3",
   "version": "3.8.4"
  },
  "varInspector": {
   "cols": {
    "lenName": 16,
    "lenType": 16,
    "lenVar": 40
   },
   "kernels_config": {
    "python": {
     "delete_cmd_postfix": "",
     "delete_cmd_prefix": "del ",
     "library": "var_list.py",
     "varRefreshCmd": "print(var_dic_list())"
    },
    "r": {
     "delete_cmd_postfix": ") ",
     "delete_cmd_prefix": "rm(",
     "library": "var_list.r",
     "varRefreshCmd": "cat(var_dic_list()) "
    }
   },
   "types_to_exclude": [
    "module",
    "function",
    "builtin_function_or_method",
    "instance",
    "_Feature"
   ],
   "window_display": false
  }
 },
 "nbformat": 4,
 "nbformat_minor": 4
}
