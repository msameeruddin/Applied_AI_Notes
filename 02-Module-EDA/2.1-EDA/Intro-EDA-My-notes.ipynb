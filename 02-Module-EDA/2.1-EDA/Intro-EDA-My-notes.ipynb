{
 "cells": [
  {
   "cell_type": "markdown",
   "metadata": {},
   "source": [
    "### Machine Learning"
   ]
  },
  {
   "cell_type": "markdown",
   "metadata": {},
   "source": [
    "* ML is not about crunching numbers but finding valuable insights from the data that is available.\n",
    "* There needs to have a proper domain knowledge of the problem that we are working on."
   ]
  },
  {
   "cell_type": "markdown",
   "metadata": {},
   "source": [
    "### Balanced dataset"
   ]
  },
  {
   "cell_type": "markdown",
   "metadata": {},
   "source": [
    "The data where there are equal number of categories (categorical data).\n",
    "\n",
    "* Equal class distribution."
   ]
  },
  {
   "cell_type": "markdown",
   "metadata": {},
   "source": [
    "### Im-balanced dataset"
   ]
  },
  {
   "cell_type": "markdown",
   "metadata": {},
   "source": [
    "The data where there are un-equal number of categories (categorical data).\n",
    "\n",
    "* Un-equal class distribution."
   ]
  },
  {
   "cell_type": "markdown",
   "metadata": {},
   "source": [
    "### Linear separable"
   ]
  },
  {
   "cell_type": "markdown",
   "metadata": {},
   "source": [
    "> By drawing a line if we are able to separate two or more class distributions then it is called linear seperable."
   ]
  },
  {
   "cell_type": "markdown",
   "metadata": {},
   "source": [
    "### 1D Scatter plots"
   ]
  },
  {
   "cell_type": "markdown",
   "metadata": {},
   "source": [
    "> 1D scatter plots are very hard to visualize and nothing can be interpreted from it."
   ]
  },
  {
   "cell_type": "markdown",
   "metadata": {},
   "source": [
    "### Histogram"
   ]
  },
  {
   "cell_type": "markdown",
   "metadata": {},
   "source": [
    "* A frequency distribution shows how often each different value in a set of data occurs. It very much likely appears to be a bar chart.\n",
    "\n",
    "* PDF → Probability Density Function is the smoothed form of Histogram.\n",
    "\n",
    "    - Density Plot → shows how dense or compactedness the region is with points.\n",
    "\n",
    "* Histogram and PDF's are widely used for univariate analysis.\n",
    "* The farther the class distributions are, the more well separated or classification can be achieved.\n",
    "\n",
    "* CDF → Cummulative Distribution Function tells - what percentage of the values lie corresponding to its PDF.\n",
    "\n",
    "    - The range of CDF is 0 to 1.\n",
    "    - Basically the prabablities lie within these ranges."
   ]
  },
  {
   "cell_type": "markdown",
   "metadata": {},
   "source": [
    "> CDF and PDF plays a major role in Data Analysis and model building and classification."
   ]
  },
  {
   "cell_type": "code",
   "execution_count": null,
   "metadata": {},
   "outputs": [],
   "source": []
  },
  {
   "cell_type": "markdown",
   "metadata": {},
   "source": [
    "### Mean"
   ]
  },
  {
   "cell_type": "markdown",
   "metadata": {},
   "source": [
    "Formula\n",
    "\n",
    "$$\\mu = \\frac{\\sum x_i}{n}$$\n",
    "\n",
    "* Measures the central tendency."
   ]
  },
  {
   "cell_type": "markdown",
   "metadata": {},
   "source": [
    "### Standard deviation"
   ]
  },
  {
   "cell_type": "markdown",
   "metadata": {},
   "source": [
    "Formula\n",
    "\n",
    "$$\\sigma = \\sqrt \\frac{\\sum (x_i - \\mu)^2}{N}$$\n",
    "\n",
    "* The numerical representation to determine the deviation or distance from each point in the data to its mean id called spread or standard deviation."
   ]
  },
  {
   "cell_type": "markdown",
   "metadata": {},
   "source": [
    "### Variance"
   ]
  },
  {
   "cell_type": "markdown",
   "metadata": {},
   "source": [
    "Formula\n",
    "\n",
    "$$\\sigma^2 = \\frac{\\sum (x_i - \\mu)^2}{N}$$\n",
    "\n",
    "* The average of distance from mean to each data point.\n",
    "* Distance is always positive."
   ]
  },
  {
   "cell_type": "markdown",
   "metadata": {},
   "source": [
    "**Note**\n",
    "\n",
    "* Always try to avoid outliers while computing central tendencies.\n",
    "* Mean, Variance, and SD can easily get corrupted by outliers whereas Median does not.\n",
    "    - If more than 50% of the points are corrupted, only then Median is corrupted."
   ]
  },
  {
   "cell_type": "code",
   "execution_count": null,
   "metadata": {},
   "outputs": [],
   "source": []
  },
  {
   "cell_type": "markdown",
   "metadata": {},
   "source": [
    "### Percentile → [50th percentile = Median ($\\tilde{x}$)]"
   ]
  },
  {
   "cell_type": "markdown",
   "metadata": {},
   "source": [
    "* A percentile is a term used in statistics to express how a score compares to other scores in the same set.\n",
    "* While there is technically no standard definition of percentile, it's typically communicated as the percentage of values that fall below a particular value in a set of data scores\n",
    "\n",
    "Suppose there are $N$ data points and let's imagine we want to find $M^{th}$ percentile. We can say - \n",
    "\n",
    "* The data should be sorted.\n",
    "* $M^{th}$ percentile is the data point which is there in the $m^{th}$ position.\n",
    "* It simply means that what percentage of points are less than $M^{th}$ value and what percentage values are greater.\n",
    "\n",
    "> $25^{th}$, $50^{th}$, $75^{th}$, and $100^{th}$ percentiles are called as Quantiles.\n",
    "\n",
    "> * $50^{th}$ → Median ($\\tilde{x}$)\n",
    "> * `>` $90^{th}$ percentiles are very important.\n",
    "\n",
    "**Formula**\n",
    "\n",
    "$$L_p = \\bigg [(n - 1) * \\frac{p}{100} \\bigg ] + 1$$\n",
    "\n",
    "where - \n",
    "\n",
    "* $L_p$ → Locator of p\n",
    "* $n$ → Total number of elements\n",
    "* $p$ → $m^{th}$ percentile number"
   ]
  },
  {
   "cell_type": "code",
   "execution_count": 1,
   "metadata": {},
   "outputs": [],
   "source": [
    "dummy_data = [31, 33, 18, 12, 5, 39, 25, 30, 22, 16, 32]"
   ]
  },
  {
   "cell_type": "markdown",
   "metadata": {},
   "source": [
    "### Percentile exercise"
   ]
  },
  {
   "cell_type": "code",
   "execution_count": 2,
   "metadata": {},
   "outputs": [],
   "source": [
    "def compute_percentile(p, data):\n",
    "    \"\"\"\n",
    "    Formula          → l_p = ((n - 1) * (p / 100)) + 1\n",
    "    percentile_value → data[int(l_p) - 1] + (l_p - int(l_p)) * (data[int(l_p)] - data[int(l_p) - 1])\n",
    "    \n",
    "    :param p   : percentile value\n",
    "    :param data: data to which the percentile is calculated\n",
    "    \"\"\"\n",
    "    data = sorted(data)\n",
    "    \n",
    "    if (p == 100):\n",
    "        return data[-1]\n",
    "    \n",
    "    l_p = (len(data) - 1) * (p / 100) + 1\n",
    "    \n",
    "    int_l_p = int(l_p)\n",
    "    fl_l_p = l_p - int_l_p\n",
    "    \n",
    "    val1 = data[int_l_p - 1]\n",
    "    val2 = data[int_l_p]    \n",
    "    pval = val1 + (fl_l_p * (val2 - val1))\n",
    "    \n",
    "    return round(pval, 2)"
   ]
  },
  {
   "cell_type": "code",
   "execution_count": 3,
   "metadata": {},
   "outputs": [
    {
     "data": {
      "text/plain": [
       "23.8"
      ]
     },
     "execution_count": 3,
     "metadata": {},
     "output_type": "execute_result"
    }
   ],
   "source": [
    "compute_percentile(p=46, data=dummy_data)"
   ]
  },
  {
   "cell_type": "code",
   "execution_count": null,
   "metadata": {},
   "outputs": [],
   "source": []
  },
  {
   "cell_type": "markdown",
   "metadata": {},
   "source": [
    "### Median Absolute Deviation (MAD)"
   ]
  },
  {
   "cell_type": "markdown",
   "metadata": {},
   "source": [
    "* Absolute deviation = \n",
    "\n",
    "$$|x_i - \\tilde{x}|$$\n",
    "\n",
    "* MAD =\n",
    "    * $x_i$ are the original data values values\n",
    "    * Median → $f(a) = \\tilde{a}$\n",
    "    * $y = |x_i - f(a=x)|$ → is basically the bunch deviations w.r.t median.\n",
    "    * MAD = $f(a=y)$"
   ]
  },
  {
   "cell_type": "markdown",
   "metadata": {},
   "source": [
    "### MAD exercise"
   ]
  },
  {
   "cell_type": "code",
   "execution_count": 4,
   "metadata": {},
   "outputs": [],
   "source": [
    "def get_median(data):\n",
    "    data = sorted(data)\n",
    "    inx = len(data) // 2\n",
    "    \n",
    "    if (len(data) % 2 == 0):\n",
    "        inx_l = inx - 1\n",
    "        median = (data[inx] + data[inx_l]) / 2\n",
    "    else:\n",
    "        median = data[inx]\n",
    "    \n",
    "    return median\n",
    "\n",
    "def compute_mad(data, c=0.6745):\n",
    "    med = get_median(data)\n",
    "    abs_std = [abs(i - med) for i in data]\n",
    "    mad = get_median(data=abs_std) / c\n",
    "    return round(mad, 2)"
   ]
  },
  {
   "cell_type": "code",
   "execution_count": 5,
   "metadata": {},
   "outputs": [
    {
     "data": {
      "text/plain": [
       "25"
      ]
     },
     "execution_count": 5,
     "metadata": {},
     "output_type": "execute_result"
    }
   ],
   "source": [
    "get_median(data=dummy_data)"
   ]
  },
  {
   "cell_type": "code",
   "execution_count": 6,
   "metadata": {
    "scrolled": true
   },
   "outputs": [
    {
     "data": {
      "text/plain": [
       "10.38"
      ]
     },
     "execution_count": 6,
     "metadata": {},
     "output_type": "execute_result"
    }
   ],
   "source": [
    "compute_mad(data=dummy_data)"
   ]
  },
  {
   "cell_type": "code",
   "execution_count": null,
   "metadata": {},
   "outputs": [],
   "source": []
  },
  {
   "cell_type": "markdown",
   "metadata": {},
   "source": [
    "### IQR (Inter Quartile Range)\n",
    "\n",
    "* 50 percentage of the data lies in this range"
   ]
  },
  {
   "cell_type": "code",
   "execution_count": 7,
   "metadata": {},
   "outputs": [],
   "source": [
    "def get_iqr(data):\n",
    "    p75 = compute_percentile(p=75, data=data)\n",
    "    p25 = compute_percentile(p=25, data=data)\n",
    "    return p75 - p25"
   ]
  },
  {
   "cell_type": "code",
   "execution_count": 8,
   "metadata": {},
   "outputs": [
    {
     "data": {
      "text/plain": [
       "14.5"
      ]
     },
     "execution_count": 8,
     "metadata": {},
     "output_type": "execute_result"
    }
   ],
   "source": [
    "get_iqr(data=dummy_data)"
   ]
  },
  {
   "cell_type": "code",
   "execution_count": null,
   "metadata": {},
   "outputs": [],
   "source": []
  },
  {
   "cell_type": "code",
   "execution_count": null,
   "metadata": {},
   "outputs": [],
   "source": []
  }
 ],
 "metadata": {
  "kernelspec": {
   "display_name": "Python 3",
   "language": "python",
   "name": "python3"
  },
  "language_info": {
   "codemirror_mode": {
    "name": "ipython",
    "version": 3
   },
   "file_extension": ".py",
   "mimetype": "text/x-python",
   "name": "python",
   "nbconvert_exporter": "python",
   "pygments_lexer": "ipython3",
   "version": "3.8.4"
  }
 },
 "nbformat": 4,
 "nbformat_minor": 4
}
