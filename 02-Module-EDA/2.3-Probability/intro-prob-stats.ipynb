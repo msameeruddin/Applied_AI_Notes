{
 "cells": [
  {
   "cell_type": "markdown",
   "metadata": {},
   "source": [
    "<center><h1>Probability & Statistics</h1></center>"
   ]
  },
  {
   "cell_type": "markdown",
   "metadata": {},
   "source": [
    "* Helpful link → [Refer here - probability distributions](https://bit.ly/3dgQm7H)\n",
    "* Statistics - [In and Out](https://www.britannica.com/science/statistics/Random-variables-and-probability-distributions)"
   ]
  },
  {
   "cell_type": "markdown",
   "metadata": {},
   "source": [
    "### Probability"
   ]
  },
  {
   "cell_type": "markdown",
   "metadata": {},
   "source": [
    "* Probability is the branch of mathematics concerning numerical descriptions of how likely an event is to occur, or how likely it is that a proposition is true. \n",
    "* The probability of an event is a number between 0 and 1, where, roughly speaking, 0 indicates impossibility of the event and 1 indicates certainty. \n",
    "* The higher the probability of an event, the more likely it is that the event will occur.\n",
    "* Random variable is denoted as $X$\n",
    "\n",
    "Example - Dice roll - {1, 2, 3, 4, 5, 6}\n",
    "\n",
    "* $P(X = 1) \\rightarrow \\frac{1}{6}$\n",
    "* $P(X = 2) \\rightarrow \\frac{1}{6}$\n",
    "* ...\n",
    "* $P(X = 6) \\rightarrow \\frac{1}{6}$\n",
    "* $P(X - even) \\rightarrow \\frac{1}{2} \\implies P(X = 2) + P(X = 4) + P(X = 6) = \\frac{1}{6} + \\frac{1}{6} + \\frac{1}{6}$"
   ]
  },
  {
   "cell_type": "markdown",
   "metadata": {},
   "source": [
    "### Variable"
   ]
  },
  {
   "cell_type": "markdown",
   "metadata": {},
   "source": [
    "* The variable is the event that changes constantly."
   ]
  },
  {
   "cell_type": "markdown",
   "metadata": {},
   "source": [
    "### Discrete Random Variable"
   ]
  },
  {
   "cell_type": "markdown",
   "metadata": {},
   "source": [
    "* When there are a finite (or countable) number of such values, the random variable is discrete. \n",
    "* Random variables contrast with \"regular\" variables, which have a fixed (though often unknown) value.\n",
    "* It is a variable whose value is obtained by counting."
   ]
  },
  {
   "cell_type": "markdown",
   "metadata": {},
   "source": [
    "### Continuous Random Variable"
   ]
  },
  {
   "cell_type": "markdown",
   "metadata": {},
   "source": [
    "* A continuous variable is defined as a variable which can take an uncountable set of values or infinite set of values. \n",
    "* For instance, if a variable over a non-empty range of the real numbers is continuous, then it can take on any value in that range. \n",
    "* It is a variable whose value is obtained by measuring."
   ]
  },
  {
   "cell_type": "code",
   "execution_count": null,
   "metadata": {},
   "outputs": [],
   "source": []
  },
  {
   "cell_type": "markdown",
   "metadata": {},
   "source": [
    "### Population and Sample"
   ]
  },
  {
   "cell_type": "markdown",
   "metadata": {},
   "source": [
    "* A population is the entire group that you want to draw conclusions about.\n",
    "* A sample is the specific group that you will collect (randomly) data from. The size of the sample is always less than the total size of the population.\n",
    "\n",
    "<img src=\"http://bdhs11cmath.weebly.com/uploads/1/6/4/6/16463216/population_sample.png\">\n",
    "\n",
    "* Mean of -\n",
    "    - Population is denoted as $\\mu$.\n",
    "    - Sample is denoted as $\\bar x$.\n",
    "\n",
    "**Credit** - Image from Internet"
   ]
  },
  {
   "cell_type": "code",
   "execution_count": null,
   "metadata": {},
   "outputs": [],
   "source": []
  },
  {
   "cell_type": "markdown",
   "metadata": {},
   "source": [
    "### Normal or Gaussian Distribution"
   ]
  },
  {
   "cell_type": "markdown",
   "metadata": {},
   "source": [
    "* Normal distributions are important in statistics and are often used in the natural and social sciences to represent real-valued random variables whose distributions are not known.\n",
    "* The general form of PDF is given as -\n",
    "\n",
    "$$f(x) = \\frac{1}{\\sigma \\sqrt{2 \\pi}} e^{\\frac{-1}{2} \\big (\\frac{x - \\mu}{\\sigma} \\big)^2}$$\n",
    "\n",
    "* $\\mu$ and $\\sigma ^2$ are the two important parameters used here to determine the shape of PDF.\n",
    "* Let $X$ be a random variable that Normal distribution whose mean is $0$ and variance is $2$. We can write this in notation form as -\n",
    "    - $X \\thicksim N(\\mu, \\sigma^2) \\implies X \\thicksim N(0, 2)$\n",
    "\n",
    "**Conclusion**\n",
    "\n",
    "* As $x$ (not $X$) moves from $\\mu$; $y$ reduces i.e., $\\exp(-x^2)$.\n",
    "* Normal distribution plot is symmetric."
   ]
  },
  {
   "cell_type": "code",
   "execution_count": 1,
   "metadata": {},
   "outputs": [],
   "source": [
    "import numpy as np\n",
    "import math\n",
    "\n",
    "def get_pdf(x, data):\n",
    "    if x not in data:\n",
    "        return None\n",
    "    \n",
    "    data_mean = np.mean(data)\n",
    "    data_std = np.std(data)\n",
    "    \n",
    "    non_expo = 1 / (data_std * math.sqrt(2*math.pi))\n",
    "    expo = np.exp( (-1/2)*((x - data_mean) / data_std)**2 )\n",
    "    \n",
    "    pdf_x = non_expo*expo\n",
    "    \n",
    "    return pdf_x"
   ]
  },
  {
   "cell_type": "code",
   "execution_count": 2,
   "metadata": {},
   "outputs": [
    {
     "data": {
      "text/plain": [
       "0.06192565938427688"
      ]
     },
     "execution_count": 2,
     "metadata": {},
     "output_type": "execute_result"
    }
   ],
   "source": [
    "data = [1, 4, 3, 2, 5, -10, 12, 14, 10, 6]\n",
    "get_pdf(x=4, data=data)"
   ]
  },
  {
   "cell_type": "markdown",
   "metadata": {},
   "source": [
    "### Symmetricity"
   ]
  },
  {
   "cell_type": "markdown",
   "metadata": {},
   "source": [
    "* A symmetric distribution is a type of distribution where the left side of the distribution mirrors the right side.\n",
    "* By definition, a symmetric distribution is never a skewed distribution"
   ]
  },
  {
   "cell_type": "markdown",
   "metadata": {},
   "source": [
    "### Skewness"
   ]
  },
  {
   "cell_type": "markdown",
   "metadata": {},
   "source": [
    "Skewness is a measure of the asymmetry of the probability distribution of a real-valued random variable about its mean.\n",
    "\n",
    "$$skew = \\frac{3(\\mu - \\tilde{x})}{\\sigma}$$\n",
    "\n",
    "where -\n",
    "\n",
    "* $\\mu$ is mean\n",
    "* $\\tilde{x}$ is median\n",
    "* $\\sigma$ is standard deviation"
   ]
  },
  {
   "cell_type": "code",
   "execution_count": 3,
   "metadata": {},
   "outputs": [],
   "source": [
    "import numpy as np\n",
    "\n",
    "def determine_skewness(data):\n",
    "    dmean = np.mean(data)\n",
    "    dmedian = np.median(data)\n",
    "    dstd = np.std(data)\n",
    "    \n",
    "    sk = (3 * (dmean - dmedian)) / dstd\n",
    "    \n",
    "    if (sk == 0):\n",
    "        return \"Symmetric, value is {}\".format(sk)\n",
    "    elif (sk > 0):\n",
    "        return \"Negative Skewness, value is {}\".format(sk)\n",
    "    return \"Positive Skewness, value is {}\".format(sk)"
   ]
  },
  {
   "cell_type": "code",
   "execution_count": 4,
   "metadata": {},
   "outputs": [
    {
     "data": {
      "text/plain": [
       "'Negative Skewness, value is 0.9065712751286508'"
      ]
     },
     "execution_count": 4,
     "metadata": {},
     "output_type": "execute_result"
    }
   ],
   "source": [
    "# data = [1, 4, 3, 2, 5, -10, 12, 14, 10, 6]\n",
    "# data = [88, 85, 82, 97, 67, 77, 74, 86, 81, 95, 77, 88, 85, 76, 81\n",
    "# data = [1, 2, 3, 4, 5]\n",
    "data = [2, 8, 0, 4, 1, 9, 9, 0]\n",
    "determine_skewness(data=data)"
   ]
  },
  {
   "cell_type": "markdown",
   "metadata": {},
   "source": [
    "### Kurtosis"
   ]
  },
  {
   "cell_type": "markdown",
   "metadata": {},
   "source": [
    "* It is a measure of the \"tailedness\" of the probability distribution of a real-valued random variable.\n",
    "* Like skewness, kurtosis describes the shape of a probability distribution and there are different ways of quantifying it for a theoretical distribution and corresponding ways of estimating it from a sample from a population.\n",
    "* It tells whether there is a problem of outliers in the data.\n",
    "\n",
    "$$kurt = \\frac{n * \\sum_{i = 1}^n (x_i - \\mu)^4}{\\big[\\sum_{i = 1}^n (x_i - \\mu)^2\\big]^2} - 3$$"
   ]
  },
  {
   "cell_type": "code",
   "execution_count": 5,
   "metadata": {},
   "outputs": [],
   "source": [
    "import numpy as np\n",
    "\n",
    "def get_kurtosis(data, excess=True):\n",
    "    ndata = len(data)\n",
    "    dmean = np.mean(data)\n",
    "    \n",
    "    knum = (data - dmean)\n",
    "    knum_4 = np.sum(knum**4)\n",
    "    knum_2 = np.sum(knum**2)\n",
    "    \n",
    "    kurt = (ndata * knum_4) / (knum_2**2)\n",
    "    \n",
    "    if excess:\n",
    "        return kurt - 3\n",
    "    return kurt"
   ]
  },
  {
   "cell_type": "code",
   "execution_count": 6,
   "metadata": {},
   "outputs": [
    {
     "data": {
      "text/plain": [
       "-0.2927119837423464"
      ]
     },
     "execution_count": 6,
     "metadata": {},
     "output_type": "execute_result"
    }
   ],
   "source": [
    "# data = [1, 4, 3, 2, 5, -10, 12, 14, 10, 6]\n",
    "data = [88, 85, 82, 97, 67, 77, 74, 86, 81, 95, 77, 88, 85, 76, 81]\n",
    "get_kurtosis(data=data)"
   ]
  },
  {
   "cell_type": "code",
   "execution_count": 7,
   "metadata": {},
   "outputs": [
    {
     "data": {
      "text/plain": [
       "2.7072880162576536"
      ]
     },
     "execution_count": 7,
     "metadata": {},
     "output_type": "execute_result"
    }
   ],
   "source": [
    "get_kurtosis(data=data, excess=False)"
   ]
  },
  {
   "cell_type": "code",
   "execution_count": null,
   "metadata": {},
   "outputs": [],
   "source": []
  },
  {
   "cell_type": "markdown",
   "metadata": {},
   "source": [
    "### Standard Normal Variate ($z$)"
   ]
  },
  {
   "cell_type": "markdown",
   "metadata": {},
   "source": [
    "A random variable $z$ is said to be standard normal varaite iff it has mean 0 and variance 1.\n",
    "\n",
    "* $z \\thicksim N(0, 1)$\n",
    "\n",
    "* $z = \\frac{(x - \\mu)}{\\sigma} \\implies$ standardization (transformation)"
   ]
  },
  {
   "cell_type": "code",
   "execution_count": null,
   "metadata": {},
   "outputs": [],
   "source": []
  },
  {
   "cell_type": "markdown",
   "metadata": {},
   "source": [
    "### Central Limit Theorem"
   ]
  },
  {
   "cell_type": "markdown",
   "metadata": {},
   "source": [
    "Let $X$ be a random variable of population distribution which is not following Normal Distribution.\n",
    "\n",
    "Let's take ($m$) samples from the population where each sample is of size ($n$) is $30$.\n",
    "\n",
    "* $S_1 \\rightarrow$ random sample of $n$ to be $30$ and mean be $\\bar{x_1}$\n",
    "* $S_2 \\rightarrow$ random sample of $n$ to be $30$ and mean be $\\bar{x_2}$\n",
    "* ...\n",
    "* $S_m \\rightarrow$ random sample of $n$ to be $30$ and mean be $\\bar{x_m}$\n",
    "\n",
    "Now $\\bar{x_i} \\implies \\bar{x_1}, \\bar{x_2}, \\bar{x_3}, \\dots, \\bar{x_m}$ are ($m$) sample means which also have a distribution.\n",
    "\n",
    "The distribution of $\\bar{x_i}$ is called the **Sampling distribution of Sample means**.\n",
    "\n",
    "CLT says that if $x$ has finite mean ($\\mu$) and variance ($\\sigma^2$) then \n",
    "\n",
    "the distribution of \n",
    "\n",
    "$$\\bar{x_i} \\rightarrow N \\bigg(\\mu, \\frac{\\sigma^2}{n} \\bigg) \\ as \\ (n \\rightarrow \\infty)$$\n",
    "\n",
    "**Note**\n",
    "\n",
    "* $\\mu \\approx $ mean of $\\bar{x_i}$\n",
    "* $\\frac{\\sigma^2}{n} \\approx $ variance of $\\bar{x_i}$"
   ]
  },
  {
   "cell_type": "code",
   "execution_count": null,
   "metadata": {},
   "outputs": [],
   "source": []
  },
  {
   "cell_type": "markdown",
   "metadata": {},
   "source": [
    "### Quantile - Quantile Plot (QQ plot)"
   ]
  },
  {
   "cell_type": "markdown",
   "metadata": {},
   "source": [
    "* This plot is used to determine if a random variable $X$ is Gaussian Distributed or not by just plotting it.\n",
    "\n",
    "**How to plot?**\n",
    "\n",
    "* Sort the data ($X$) & Compute the percentiles.\n",
    "* Create a random variable $Y \\thicksim N(0, 1)$, sort the values and compute percentiles.\n",
    "* Plot the QQ plot using  ($X$) percentiles and ($Y$) percentiles.\n",
    "    - Keeping ($Y$) on x axis and ($X$) on y axis.\n",
    "* If all the points roughly lie on the straight line, then the data is Normally or Gaussian distributed."
   ]
  },
  {
   "cell_type": "code",
   "execution_count": 8,
   "metadata": {
    "scrolled": false
   },
   "outputs": [
    {
     "data": {
      "image/png": "[encoded data removed]",
      "text/plain": [
       "<Figure size 720x432 with 1 Axes>"
      ]
     },
     "metadata": {
      "needs_background": "light"
     },
     "output_type": "display_data"
    }
   ],
   "source": [
    "import numpy as np\n",
    "from matplotlib import pyplot as plt\n",
    "\n",
    "def get_line_form(x, y):\n",
    "    b, a = np.polyfit(x, y, 1)\n",
    "    y_p = b*x + a\n",
    "    return y_p\n",
    "\n",
    "# X = np.random.randint(low=5, high=100, size=(1, 500))\n",
    "X = np.random.normal(loc=10, scale=8, size=(100))\n",
    "Y = np.random.normal(loc=0, scale=1, size=1000)\n",
    "\n",
    "X_p = np.array([np.percentile(a=X, q=i) for i in range(1, 101)])\n",
    "Y_p = np.array([np.percentile(a=Y, q=i) for i in range(1, 101)])\n",
    "X_l = get_line_form(x=Y_p, y=X_p)\n",
    "\n",
    "plt.figure(figsize=(10, 6))\n",
    "plt.scatter(Y_p, X_p, color='blue')\n",
    "plt.plot(Y_p, X_l, color='red')\n",
    "plt.show()"
   ]
  },
  {
   "cell_type": "code",
   "execution_count": 9,
   "metadata": {
    "scrolled": false
   },
   "outputs": [
    {
     "data": {
      "image/png": "[encoded data removed]",
      "text/plain": [
       "<Figure size 720x432 with 1 Axes>"
      ]
     },
     "metadata": {
      "needs_background": "light"
     },
     "output_type": "display_data"
    }
   ],
   "source": [
    "from scipy import stats\n",
    "\n",
    "plt.figure(figsize=(10, 6))\n",
    "stats.probplot(X_p, dist='norm', plot=plt)\n",
    "plt.show()"
   ]
  },
  {
   "cell_type": "code",
   "execution_count": null,
   "metadata": {},
   "outputs": [],
   "source": []
  },
  {
   "cell_type": "markdown",
   "metadata": {},
   "source": [
    "### Chebyshev's Inequality"
   ]
  },
  {
   "cell_type": "markdown",
   "metadata": {},
   "source": [
    "If $X$ (`we don't know the distribution`) is a random variable with mean (finite) $\\mu$ and standard deviation (non-zero & finite) $\\sigma$ then  -\n",
    "\n",
    "$$P(|X-\\mu| \\geq k\\sigma) \\leq \\frac{1}{k^2}$$\n",
    "\n",
    "$$\\implies P\\big[ (X \\geq \\mu + k\\sigma) \\ or \\ (X \\leq \\mu - k\\sigma) \\big] \\leq \\frac{1}{k^2}$$\n",
    "\n",
    "$$\\implies P\\big[ (\\mu - k\\sigma) < X < (\\mu + k\\sigma) \\big] \\geq 1 - \\frac{1}{k^2}$$"
   ]
  },
  {
   "cell_type": "code",
   "execution_count": null,
   "metadata": {},
   "outputs": [],
   "source": []
  },
  {
   "cell_type": "markdown",
   "metadata": {},
   "source": [
    "### Uniform Distribution"
   ]
  },
  {
   "cell_type": "markdown",
   "metadata": {},
   "source": [
    "A probability distribution in which all outcomes are equally likely. In other words, all the values are equi-probable.\n",
    "\n",
    "* Discrete uniform distribution\n",
    "    - Eg - Throwing a fair dice. All the values have chance of getting selected.\n",
    "* Continuous uniform distribution\n",
    "\n",
    "**Discrete Noatations**\n",
    "\n",
    "There are two parameter such as $a$ and $b$.\n",
    "\n",
    "* Notation - $U \\{a, b\\}$ or unif$\\{a, b\\}$\n",
    "* $a \\in \\{\\dots, -2, -1, 0, 1, 2, \\dots\\}$\n",
    "* $b \\in \\{\\dots, -2, -1, 0, 1, 2, \\dots\\}, b \\geq a$\n",
    "* $n$ (total outcomes) $= b - a + 1$\n",
    "* support $k \\in \\{a, a + 1, \\dots, b -1, b\\}$\n",
    "* PMF = $\\frac{1}{n}$\n",
    "* CDF = $\\frac{\\lfloor{k}\\rfloor - a + 1}{n}$\n",
    "* Mean = $\\frac{a + b}{2}$\n",
    "* Median = $\\frac{a + b}{2}$\n",
    "* Mode = NA\n",
    "* Variance = $\\frac{(b - a + 1)^2 - 1}{12}$\n",
    "* Skewness is 0"
   ]
  },
  {
   "cell_type": "code",
   "execution_count": null,
   "metadata": {},
   "outputs": [],
   "source": []
  },
  {
   "cell_type": "markdown",
   "metadata": {},
   "source": [
    "### Bernoulli Distribution"
   ]
  },
  {
   "cell_type": "markdown",
   "metadata": {},
   "source": [
    "In probability theory and statistics, the Bernoulli distribution is a discrete probability distribution of a random variable which takes -\n",
    "\n",
    "* the value `1` with probability $p$.\n",
    "* the value `0` with probability $q=1-p$.\n",
    "* parameters $\\rightarrow 0 \\leq p \\leq 1$."
   ]
  },
  {
   "cell_type": "code",
   "execution_count": null,
   "metadata": {},
   "outputs": [],
   "source": []
  },
  {
   "cell_type": "markdown",
   "metadata": {},
   "source": [
    "### Binomial Distribution"
   ]
  },
  {
   "cell_type": "markdown",
   "metadata": {},
   "source": [
    "In probability theory and statistics, the Binomial distribution with parameters $n$ and $p$ is the discrete probability distribution of the number of successes in a sequence of $n$ independent experiments, each asking a `yes–no` question, and each with its own Boolean-valued outcome:\n",
    "\n",
    "* success (with probability $p$)\n",
    "* failure (with probability $q = 1 − p$)\n",
    "* Notation - $B(n, p)$"
   ]
  },
  {
   "cell_type": "code",
   "execution_count": null,
   "metadata": {},
   "outputs": [],
   "source": []
  },
  {
   "cell_type": "markdown",
   "metadata": {},
   "source": [
    "### Log Normal Distribution"
   ]
  },
  {
   "cell_type": "markdown",
   "metadata": {},
   "source": [
    "The random variable $X$ is said to be log normal iff $\\log{(X)}$ is normally distributed.\n",
    "\n",
    "* $X \\thicksim \\text{Log-normal}(\\mu, \\sigma)$"
   ]
  },
  {
   "cell_type": "code",
   "execution_count": null,
   "metadata": {},
   "outputs": [],
   "source": []
  },
  {
   "cell_type": "markdown",
   "metadata": {},
   "source": [
    "### How do we find the relationship between two variables?"
   ]
  },
  {
   "cell_type": "markdown",
   "metadata": {},
   "source": [
    "With the help of\n",
    "\n",
    "* Co-Variance $\\rightarrow \\text{cov(X, Y)}$\n",
    "    - $\\text{cov(X, X)} = \\text{var(X)}$\n",
    "    - $\\text{cov(X, Y)} = \\frac{1}{n} \\sum_{i = 1}^n (x_i - \\mu_x) * (y_i - \\mu_y)$\n",
    "* Pearson's Correlation Coefficient\n",
    "    - $\\frac{\\text{cov(X, Y)}}{\\sigma_x \\sigma_y}$\n",
    "* Spearman Rank Correlation\n",
    "    - compute ranks (other than) values\n",
    "    - apply pearson correlation for ranks values\n",
    "    - much more robust than pearson's correlation\n",
    "\n",
    "we can quantify the relationship between two variables.\n",
    "\n",
    "> Correlation doesn't imply causation."
   ]
  },
  {
   "cell_type": "code",
   "execution_count": null,
   "metadata": {},
   "outputs": [],
   "source": []
  },
  {
   "cell_type": "markdown",
   "metadata": {},
   "source": [
    "### Confidence Interval"
   ]
  },
  {
   "cell_type": "markdown",
   "metadata": {},
   "source": [
    "* In statistics, a confidence interval (CI) is a type of estimate computed from the statistics of the observed data. This gives a range of values for an unknown parameter (for example, a population mean).\n",
    "\n",
    "* The interval has an associated confidence level that gives the probability with which the estimated interval will contain the true value of the parameter.\n",
    "\n",
    "In a Normal distribution (data) -\n",
    "* if we want to compute that population mean would lie in 95% of confidence interval, \n",
    "* then what is the interval? → $[\\mu - 2 \\sigma, \\mu + 2 \\sigma]$\n",
    "\n",
    "How do we estimate the C.I of $\\mu$ (population mean) of a random variable?\n",
    "\n",
    "* case 1:\n",
    "    - if $\\sigma$ is known, then by applying CLT and Normal distribution → $N \\thicksim (\\mu, \\frac{\\sigma}{\\sqrt{n}})$\n",
    "* case 2:\n",
    "    - if $\\sigma$ is not known, then by applying t-distribution → using $(n - 1)$ degrees of freedom"
   ]
  },
  {
   "cell_type": "code",
   "execution_count": null,
   "metadata": {},
   "outputs": [],
   "source": []
  },
  {
   "cell_type": "markdown",
   "metadata": {},
   "source": [
    "### Bootstrap based Confidence Interval (very important)"
   ]
  },
  {
   "cell_type": "markdown",
   "metadata": {},
   "source": [
    "Let's say we have a random variable $X \\thicksim F (\\text{distribution})$. If we take a sample $S$ of size $n$, how can we compute 95% confidence interval for median or standard deviation or varince? (We shall use bootstaping techniques)\n",
    "\n",
    "* $S \\rightarrow \\{x_1, x_2, x_3, \\dots, x_n \\} (n=10)$\n",
    "* From $S$, generate $k$ sub-samples with replacement of size $m \\ \\text{where} \\ (m \\leq n)$\n",
    "    - Let $k = 1000$\n",
    "    - $s_1 \\rightarrow \\{x_1^{(1)}, x_2^{(1)}, x_3^{(1)}, \\dots, x_m^{(1)} \\}$\n",
    "    - $s_2 \\rightarrow \\{x_1^{(2)}, x_2^{(2)}, x_3^{(2)}, \\dots, x_m^{(2)} \\}$\n",
    "    - $s_3 \\rightarrow \\{x_1^{(3)}, x_2^{(3)}, x_3^{(3)}, \\dots, x_m^{(3)} \\}$\n",
    "    - $\\dots$\n",
    "    - $s_k \\rightarrow \\{x_1^{(k)}, x_2^{(k)}, x_3^{(k)}, \\dots, x_m^{(k)} \\}$\n",
    "\n",
    "* Now, compute median or standard deviation or variance for each sub-sample and store it in vector\n",
    "* Sort the vector and consider the interval $[\\text{vector}_{25}, \\text{vector}_{975}]$ which is a 95% percent confidence interval\n",
    "\n",
    "Non-Parametric techniques - doesn't make any assumptions about the distribution."
   ]
  },
  {
   "cell_type": "code",
   "execution_count": null,
   "metadata": {},
   "outputs": [],
   "source": []
  },
  {
   "cell_type": "markdown",
   "metadata": {},
   "source": [
    "### Hypothesis Testing (Proof by Contradiction)"
   ]
  },
  {
   "cell_type": "markdown",
   "metadata": {},
   "source": [
    "Let `c1` and `c2` be two classes of the data showing the heights of the students. Let $\\mu_1$ and $\\mu_2$ be the means of them respecitively.\n",
    "\n",
    "**Q1** - Is there a difference in the heights of students in `c1` and `c2`?\n",
    "\n",
    "**Choosing a test static**\n",
    "* Come up with one data value that shows that the students of `c2` are taller than `c1`.\n",
    "* For obvious reasons we can compare $\\mu_1$ and $\\mu_2$.\n",
    "\n",
    "**Null Hypothesis**\n",
    "* $H_0 \\rightarrow$ Both $\\mu_1$ and $\\mu_2$ are same - no difference\n",
    "    - $\\mu_1 = \\mu_2$\n",
    "\n",
    "**Alternate Hypothesis**\n",
    "* $H_1 \\rightarrow$ There is strict difference between two classes\n",
    "    - $\\mu_1 \\neq \\mu_2$\n",
    "\n",
    "Assume that $H_0$ is true and prove that is false and thus, reject $H_0$ and accept $H_1$.\n",
    "\n",
    "**p-value**\n",
    "* Tells the probability of observing $x = (\\mu_2 - \\mu_1)$ if the null hypothesis $H_0$ is true\n",
    "\n",
    "    - if $H_0$ is true and p-value is (say) 0.9 → Accept $H_0$\n",
    "    - if $H_0$ is true and p-value is (say) 0.05 → Reject $H_0$ and accept $H_1$"
   ]
  },
  {
   "cell_type": "code",
   "execution_count": null,
   "metadata": {},
   "outputs": [],
   "source": []
  },
  {
   "cell_type": "markdown",
   "metadata": {},
   "source": [
    "### Important things while designing a Hypothesis Testing"
   ]
  },
  {
   "cell_type": "markdown",
   "metadata": {},
   "source": [
    "* Design of the experiment.\n",
    "* Design of the $H_0$ - Null Hypothesis.\n",
    "    - Consider the Null Hypothesis which makes the probability computation easy.\n",
    "* Design of the test statistic."
   ]
  },
  {
   "cell_type": "code",
   "execution_count": null,
   "metadata": {},
   "outputs": [],
   "source": []
  },
  {
   "cell_type": "markdown",
   "metadata": {},
   "source": [
    "### Hypothesis - Task"
   ]
  },
  {
   "cell_type": "markdown",
   "metadata": {},
   "source": [
    "**Q)** Given two cities `c1` and `c2` determine if the `population means` of heights of people in these cities are the same or not.\n",
    "\n",
    "Let\n",
    "\n",
    "* `c1` $\\rightarrow \\{p_1, p_2, p_3, \\dots, p_{\\infty} \\}$\n",
    "* `c2` $\\rightarrow \\{p_1^1, p_2^1, p_3^1, \\dots, p_{\\infty}^1 \\}$\n",
    "\n",
    "and\n",
    "\n",
    "* $\\mu_1 \\rightarrow$ Population mean of `c1`\n",
    "* $\\mu_2 \\rightarrow$ Population mean of `c2`\n",
    "\n",
    "(Instead of the population mean, we will use a sample mean)\n",
    "\n",
    "Take a random sample of size 50 from `c1` and `c2`. And compute the sample mean for each category.\n",
    "\n",
    "Let\n",
    "\n",
    "* `s1` $\\rightarrow \\{h_1, h_2, h_3, \\dots, h_{50} \\}$\n",
    "* `s1` $\\rightarrow \\{h_1^1, h_2^1, h_3^1, \\dots, h_{50}^1 \\}$\n",
    "\n",
    "and\n",
    "\n",
    "* $\\mu_s^{(1)} \\rightarrow$ Sample mean of `c1` (`s1`) which is $162cm$\n",
    "* $\\mu_s^{(2)} \\rightarrow$ Sample mean of `c2` (`s2`) which is $167cm$\n",
    "\n",
    "**Test Statistic** - $\\mu_s^{(2)} - \\mu_s^{(1)} = 5cm \\ (x) \\ | \\ \\text{observation}$\n",
    "\n",
    "**Null Hypothesis** ($H_0$) $\\rightarrow \\mu_1 = \\mu_2$ (no difference)\n",
    "\n",
    "**Alternative Hypothesis** ($H_1$) $\\rightarrow \\mu_1 \\neq \\mu_2$ (there is a difference)\n",
    "\n",
    "We shall compute $P \\big( (x=5) | H_0 \\big) \\rightarrow$ p-value\n",
    "\n",
    "    - P(obs | assumption)\n",
    "    - obs → cannot be incorrect\n",
    "    - assumption → can be incorrect\n",
    "\n",
    "* Case 1\n",
    "    - Let p-value is $0.2$ (20%) which is significant $(> 0.05)$. Therefore, accept $H_0$\n",
    "    - There is a 20% chance of observations to have a difference of $5cm$ in sample heights of `c1` and `c2` with a sample of size 50 if there is no difference in population means.\n",
    "\n",
    "* Case 2\n",
    "    - Let p-value is $0.03$ (3%) which is lesser significant $(< 0.05)$. Therefore, reject $H_1$\n",
    "\n",
    "**Method to compute p-value** (Resampling and Permutation)\n",
    "\n",
    "```python\n",
    "delta_list = []\n",
    "```\n",
    "\n",
    "1. Make a big set `S` where `s1` $\\cup$ `s2`.\n",
    "    - $S = \\{h_1, h_2, h_3, \\dots, h_{50}, h_1^1, h_2^1, h_3^1, \\dots, h_{50}^1\\}$\n",
    "\n",
    "2. Create two sets `e1` and `e2` of size $50$ where observations are picked at random from `S`. This is called resampling.\n",
    "    - `e1` $\\rightarrow \\{h_1, h_2^{1}, \\dots, h_{50} \\}$\n",
    "    - `e2` $\\rightarrow \\{h_1^{1}, h_2^{1}, \\dots, h_{50}^1 \\}$\n",
    "\n",
    "3. Compute means for `e1` and `e2` and find the mean difference (simulated difference) between two. Save the difference value in `delta_list`.\n",
    "\n",
    "4. Repeat **step 2** and **step 3** `k` times $(k = 1000)$.\n",
    "    - `delta_list` = $[\\delta_1, \\delta_2, \\dots, \\delta_k]$\n",
    "\n",
    "5. Sort `delta_list` in increasing order (ascending order).\n",
    "    - `delta_list` = $[\\delta_1^1, \\delta_2^1, \\dots, \\delta_k^1]$\n",
    "\n",
    "**Case - 1**\n",
    "\n",
    "6. Let's say we have values like -\n",
    "\n",
    "$$\\delta_1^1 \\leq \\delta_2^1 \\leq \\delta_3^1 \\leq \\dots \\leq \\delta_{800}^1 \\leq 5cm \\leq \\dots \\leq \\delta_k^1\\$$\n",
    "\n",
    "7. 80% of the values are $\\leq 5cm$ and 20% are $\\geq 5cm$.\n",
    "\n",
    "8. p-value $\\rightarrow P \\big((\\text{x} \\geq 5) | H_0 \\big)$ is 20% i.e., $0.2$ which is greater than $0.05$. Therefore, the assumption is true (accept $H_0$).\n",
    "\n",
    "**Case - 2**\n",
    "\n",
    "9. Let's say we have values like -\n",
    "\n",
    "$$\\delta_1^1 \\leq \\delta_2^1 \\leq \\delta_3^1 \\leq \\dots \\leq \\delta_{970}^1 \\leq 5cm \\leq \\dots \\leq \\delta_k^1\\$$\n",
    "\n",
    "10. 97% of the values are $\\leq 5cm$ and 3% are $\\geq 5cm$.\n",
    "\n",
    "11. p-value $\\rightarrow P \\big((\\text{x} \\geq 5) | H_0 \\big)$ is 3% i.e., $0.03$ which is lesser than $0.05$. Therefore, the assumption is false (accept $H_1$)."
   ]
  },
  {
   "cell_type": "code",
   "execution_count": null,
   "metadata": {},
   "outputs": [],
   "source": []
  },
  {
   "cell_type": "markdown",
   "metadata": {},
   "source": [
    "### Refer Python Mandatory Assignment for more details"
   ]
  }
 ],
 "metadata": {
  "kernelspec": {
   "display_name": "Python 3",
   "language": "python",
   "name": "python3"
  },
  "language_info": {
   "codemirror_mode": {
    "name": "ipython",
    "version": 3
   },
   "file_extension": ".py",
   "mimetype": "text/x-python",
   "name": "python",
   "nbconvert_exporter": "python",
   "pygments_lexer": "ipython3",
   "version": "3.8.4"
  }
 },
 "nbformat": 4,
 "nbformat_minor": 4
}
