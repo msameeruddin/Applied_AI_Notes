{
 "cells": [
  {
   "cell_type": "markdown",
   "metadata": {},
   "source": [
    "> #### [Linear Algebra Cheatsheet](https://ml-cheatsheet.readthedocs.io/en/latest/linear_algebra.html)"
   ]
  },
  {
   "cell_type": "markdown",
   "metadata": {},
   "source": [
    "### Distance Formulae"
   ]
  },
  {
   "cell_type": "markdown",
   "metadata": {},
   "source": [
    "* Distance between $P_{(x, y)}$ and origin $O$ in `2D` axes -\n",
    "\n",
    "$$D = \\sqrt{x^2 + y^2}$$\n",
    "\n",
    "* Distance between $P_{(x_1, y_1)}$ and $Q_{(x_2, y_2)}$ in `2D` axes -\n",
    "\n",
    "$$D = \\sqrt{(x_1 - x_2)^2 + (y_1 - y_2)^2}$$\n",
    "\n",
    "* Distance between $P_{(x, y, z)}$ and origin $O$ in `3D` axes -\n",
    "\n",
    "$$D = \\sqrt{x^2 + y^2 + z^2}$$\n",
    "\n",
    "* Distance between $P_{(x_1, y_1, z_1)}$ and $Q_{(x_2, y_2, z_2)}$ in `3D` axes -\n",
    "\n",
    "$$D = \\sqrt{(x_1 - x_2)^2 + (y_1 - y_2)^2 + (z_1 - z_2)^2}$$\n",
    "\n",
    "**Note** - Geometrically we can visualize these points and distances till `3D` not beyond that. But with the Linear Algebra, we can mathematically solve `ND` related problems easily.\n",
    "\n",
    "* Distance between \n",
    "\n",
    "    - $P \\rightarrow (x_1, x_2, x_3, \\dots, x_n)$\n",
    "    - $Q \\rightarrow (y_1, y_2, y_3, \\dots, y_n)$ in `ND` axes -\n",
    "\n",
    "$$D = \\sqrt{\\sum_{i=1}^n (x_i - y_i)^2}$$"
   ]
  },
  {
   "cell_type": "code",
   "execution_count": null,
   "metadata": {},
   "outputs": [],
   "source": []
  },
  {
   "cell_type": "markdown",
   "metadata": {},
   "source": [
    "### Dot product"
   ]
  },
  {
   "cell_type": "markdown",
   "metadata": {},
   "source": [
    "Let `A` and `B` be two matrices\n",
    "\n",
    "<pre>\n",
    "A = [1 2 3]\n",
    "B = [4 5 6]\n",
    "\n",
    "B' = [[4]\n",
    "      [5]\n",
    "      [6]]\n",
    "</pre>\n",
    "\n",
    "$$A.B = A * B^T = \\sum A_i * B_i^T$$"
   ]
  },
  {
   "cell_type": "markdown",
   "metadata": {},
   "source": [
    "### Geometric representation of dot product"
   ]
  },
  {
   "cell_type": "markdown",
   "metadata": {},
   "source": [
    "<img src=\"https://raw.githubusercontent.com/msameeruddin/linear-algebra-pics/main/dot_product.png\">\n",
    "\n",
    "From the above figure, we can have A.B as -\n",
    "\n",
    "$$A.B = (a_1*b_1 + a_2*b_2) = ||A|| * ||B|| * \\cos \\theta$$\n",
    "\n",
    "where -\n",
    "\n",
    "$$\\theta = \\cos^{-1} \\bigg (\\frac{||A|| * ||B||}{(a_1*b_1 + a_2*b_2)} \\bigg )$$\n",
    "\n",
    "$$||A|| = \\sqrt{a_1^2 + a_2^2}$$\n",
    "\n",
    "$$||B|| = \\sqrt{b_1^2 + b_2^2}$$\n",
    "\n",
    "**Note** - If a dot product between two vectors is 0, then they are perpendicular to each other."
   ]
  },
  {
   "cell_type": "code",
   "execution_count": null,
   "metadata": {},
   "outputs": [],
   "source": []
  },
  {
   "cell_type": "markdown",
   "metadata": {},
   "source": [
    "### Projection"
   ]
  },
  {
   "cell_type": "markdown",
   "metadata": {},
   "source": [
    "Projection of A on B can be visualized like -\n",
    "\n",
    "<img src=\"https://raw.githubusercontent.com/msameeruddin/linear-algebra-pics/main/projection.png\">\n",
    "\n",
    "Here -\n",
    "\n",
    "$||d||$ is the projection of $A$ on $B$\n",
    "\n",
    "and we can say $||d|| = ||A||\\cos \\theta$ (proof is below)\n",
    "\n",
    "w.k.t\n",
    "\n",
    "$$A.B = \\sum_{i=1}^n A_i*B_i = ||A||*||B||*\\cos \\theta$$\n",
    "\n",
    "which is\n",
    "\n",
    "$$d = \\frac{A.B}{||B||} = \\frac{||A||*||B||*\\cos \\theta}{||B||} = ||A||\\cos \\theta$$\n",
    "\n",
    "In other words, we can compute projection of A on B without knowing $\\theta$ by\n",
    "\n",
    "$$d = \\frac{A.B}{||B||}$$"
   ]
  },
  {
   "cell_type": "code",
   "execution_count": null,
   "metadata": {},
   "outputs": [],
   "source": []
  },
  {
   "cell_type": "markdown",
   "metadata": {},
   "source": [
    "### Unit vector"
   ]
  },
  {
   "cell_type": "markdown",
   "metadata": {},
   "source": [
    "A unit vector is a vector in the same direction the original vector.\n",
    "\n",
    "Suppose $A$ is a vector, the unit vector $\\hat A = \\frac{A}{||A||}$\n",
    "\n",
    "<img src=\"https://raw.githubusercontent.com/msameeruddin/linear-algebra-pics/main/unit_vect.png\">\n",
    "\n",
    "* $\\hat A$ is in the same direction as $A$.\n",
    "* $||\\hat A|| = 1$"
   ]
  },
  {
   "cell_type": "code",
   "execution_count": null,
   "metadata": {},
   "outputs": [],
   "source": []
  },
  {
   "cell_type": "markdown",
   "metadata": {},
   "source": [
    "### Line"
   ]
  },
  {
   "cell_type": "markdown",
   "metadata": {},
   "source": [
    "* The general form of a line is\n",
    "\n",
    "$$ax + by + c = 0 \\rightarrow (1)$$\n",
    "\n",
    "* Other equation which we are familiar is\n",
    "\n",
    "$$y = mx + c \\rightarrow (2)$$\n",
    "\n",
    "Consider $eq (1)$\n",
    "\n",
    "* Replace $(x, y)$ with $(x_1, x_2)$.\n",
    "* Replace coefficients with $a$ and $b$ to $w_1$ and $w_2$ respectively.\n",
    "* Replace $c$ with $w_0$\n",
    "\n",
    "We get the line equation as \n",
    "\n",
    "$$w_1x_1 + w_2x_2 + w_0 = 0 \\rightarrow (3)$$\n",
    "\n",
    "<br>\n",
    "\n",
    "The line in `3D` becomes a plane.\n",
    "\n",
    "* The general form of a plane is\n",
    "\n",
    "$$ax + by + cz + d = 0 \\rightarrow (4)$$\n",
    "\n",
    "We can represent $(4)$ in the form of $(3)$ as \n",
    "\n",
    "$$w_1x_1 + w_2x_2 + w_3x_3 + w_0 = 0 \\rightarrow (5)$$\n",
    "\n",
    "<br>\n",
    "\n",
    "The line in `ND` is called `Hyper Plane`. The equation can be taken as -\n",
    "\n",
    "$$w_1x_1 + w_2x_2 + w_3x_3 + \\dots + w_nx_n + w_0 = 0 \\rightarrow (6)$$\n",
    "\n",
    "$$(6) \\implies w_0 + \\sum_{i = 1}^n w_ix_i = 0 \\rightarrow (7)$$\n",
    "\n",
    "$(7)$ can be represented in vector notation\n",
    "\n",
    "<pre>\n",
    "    w0 + [w1 w2 w3 ... w5] * [[x1] = 0\n",
    "                              [x2]\n",
    "                              [x3]\n",
    "                              [x4]\n",
    "                              [x5]\n",
    "                               ..\n",
    "                              [xn]]\n",
    "\n",
    "</pre>\n",
    "\n",
    "> Considering W as row vector and X as column vector\n",
    "\n",
    "$$w_0 + W.X = 0 \\rightarrow (8)$$\n",
    "\n",
    "<br>\n",
    "\n",
    "* If $y$ intercept ($w_0$) is equal to 0, then $W.X = 0 \\implies$ equation of a line or plane or hyper plane passing through origin.\n",
    "\n",
    "* When $W.X = 0$, it means that $W$ is $\\perp$ to $X$."
   ]
  },
  {
   "cell_type": "code",
   "execution_count": null,
   "metadata": {},
   "outputs": [],
   "source": []
  },
  {
   "cell_type": "markdown",
   "metadata": {},
   "source": [
    "### Distance b/w point to line"
   ]
  },
  {
   "cell_type": "markdown",
   "metadata": {},
   "source": [
    "<img src=\"https://www.onlinemath4all.com/images/perpendiculardistanceformula.png\">\n",
    "\n",
    "**Credits** - Image from Internet"
   ]
  },
  {
   "cell_type": "code",
   "execution_count": null,
   "metadata": {},
   "outputs": [],
   "source": []
  },
  {
   "cell_type": "markdown",
   "metadata": {},
   "source": [
    "### Circles"
   ]
  },
  {
   "cell_type": "markdown",
   "metadata": {},
   "source": [
    "<img src=\"https://raw.githubusercontent.com/msameeruddin/linear-algebra-pics/main/circle.png\">\n",
    "\n",
    "<br>\n",
    "\n",
    "* From the above figure, we can see a cirlce placed exactly at origin.\n",
    "* The equation of circle is given (considering $(h, k) = (0, 0)$) as\n",
    "\n",
    "$$(x-h)^2 + (y-k)^2 = r^2 \\implies x^2 + y^2 = r^2 \\rightarrow (1)$$\n",
    "\n",
    "How can we determine if a point lies inside the circle or not?\n",
    "\n",
    "* Store the radius ($r$) value\n",
    "* Compute the distance between $(h, k)$ and $P_{(x, y)}$ and store in $d$\n",
    "    - if $d < r \\implies$ P is inside\n",
    "    - if $d > r \\implies$ P is outside\n",
    "    - if $d = r \\implies$ P is on the circle\n",
    "\n",
    "Let's assume circle's center is at Origin and coordinate axes as $(x_1, x_2, x_3 \\dots, x_n)$\n",
    "\n",
    "* Equation of circle in `3D` is -\n",
    "\n",
    "$$x_1^2 + x_2^2 + x_3^2 = r^2 \\rightarrow (2)$$\n",
    "\n",
    "Similarly\n",
    "\n",
    "* Equation of circle in `ND` is -\n",
    "\n",
    "$$x_1^2 + x_2^2 + x_3^2 + \\dots + x_n^2 = r^2 \\rightarrow (3)$$\n",
    "\n",
    "$eq (3)$ can be represented as -\n",
    "\n",
    "$$d = \\sum_{i=1}^n x_i^2 = r^2 \\rightarrow (4)$$\n",
    "\n",
    "Take $P_{(x_1, x_2, x_3, \\dots, x_n)}$ and check if $P$ lies inside or outside or on the hyper-sphere\n",
    "\n",
    "* From $eq (4)$\n",
    "    - if $d < r \\implies$ P is inside\n",
    "    - if $d > r \\implies$ P is outside\n",
    "    - if $d = r \\implies$ P is on the circle"
   ]
  },
  {
   "cell_type": "code",
   "execution_count": null,
   "metadata": {},
   "outputs": [],
   "source": []
  },
  {
   "cell_type": "markdown",
   "metadata": {},
   "source": [
    "### Ellipse"
   ]
  },
  {
   "cell_type": "markdown",
   "metadata": {},
   "source": [
    "<img src=\"https://raw.githubusercontent.com/msameeruddin/linear-algebra-pics/main/ellipse.png\">\n",
    "\n",
    "<br>\n",
    "\n",
    "* From the above figure, we can see the ellipse placed at $(0, 0)$ - origin\n",
    "* The equation of the ellipse is given as -\n",
    "\n",
    "$$\\frac{x^2}{a^2} + \\frac{y^2}{b^2} = 1 \\rightarrow (1)$$\n",
    "\n",
    "How can we determine if a point $P_{(x1, x2)}$ lies inside the ellipse or not (`2D`)?\n",
    "\n",
    "* If $\\frac{x_1^2}{a^2} + \\frac{x_2^2}{b^2}$\n",
    "    - $< 1 \\implies$ inside\n",
    "    - $> 1 \\implies$ outside\n",
    "    - $= 1 \\implies$ on the ellipse\n",
    "\n",
    "Let's assume circle's center is at Origin and coordinate axes as $(x_1, x_2, x_3 \\dots, x_n)$\n",
    "\n",
    "* Equation of ellipse in `3D` is -\n",
    "\n",
    "$$\\frac{x_1^2}{a^2} + \\frac{x_2^2}{b^2} + \\frac{x_3^2}{c^2} = 1 \\rightarrow (2)$$\n",
    "\n",
    "Similarly\n",
    "\n",
    "* Equation of ellipse in `ND` is considering $(a_1, a_2, a_3, \\dots, a_n)$ as constants (denominator)-\n",
    "\n",
    "$$\\frac{x_1^2}{a_1^2} + \\frac{x_2^2}{a_2^2} + \\frac{x_3^2}{a_3^2} + \\dots + \\frac{x_n^2}{a_n^2} = 1 \\rightarrow (3)$$\n",
    "\n",
    "$eq (3)$ can be represented as -\n",
    "\n",
    "$$d \\implies \\sum_{i=1}^n \\frac{x_i^2}{a_i^2} = 1 \\rightarrow (4)$$\n",
    "\n",
    "Take $P_{(x_1, x_2, x_3, \\dots, x_n)}$ and check if $P$ lies inside or outside or on the hyper-ellipsoid\n",
    "\n",
    "* From $eq (4)$\n",
    "    - if $d < 1 \\implies$ P is inside\n",
    "    - if $d > 1 \\implies$ P is outside\n",
    "    - if $d = 1 \\implies$ P is on the hyper-ellipsoid"
   ]
  },
  {
   "cell_type": "code",
   "execution_count": null,
   "metadata": {},
   "outputs": [],
   "source": []
  },
  {
   "cell_type": "markdown",
   "metadata": {},
   "source": [
    "### End"
   ]
  }
 ],
 "metadata": {
  "kernelspec": {
   "display_name": "Python 3",
   "language": "python",
   "name": "python3"
  },
  "language_info": {
   "codemirror_mode": {
    "name": "ipython",
    "version": 3
   },
   "file_extension": ".py",
   "mimetype": "text/x-python",
   "name": "python",
   "nbconvert_exporter": "python",
   "pygments_lexer": "ipython3",
   "version": "3.8.4"
  }
 },
 "nbformat": 4,
 "nbformat_minor": 4
}
